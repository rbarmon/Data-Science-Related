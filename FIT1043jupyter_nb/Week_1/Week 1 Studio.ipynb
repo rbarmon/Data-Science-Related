{
 "cells": [
  {
   "cell_type": "code",
   "execution_count": 13,
   "id": "06d350d2",
   "metadata": {},
   "outputs": [
    {
     "name": "stdout",
     "output_type": "stream",
     "text": [
      "a is the largest variable\n"
     ]
    }
   ],
   "source": [
    "a = 45\n",
    "b = 45\n",
    "c = 27\n",
    "\n",
    "def maxVar(a,b,c):\n",
    "    largest = max(a,b,c)\n",
    "    if largest == a:\n",
    "        print(\"a is the largest variable\")\n",
    "    elif largest == b:\n",
    "        print(\"b is the largest variable\")\n",
    "    else:\n",
    "        print(\"c is the largest variable\")\n",
    "        \n",
    "maxVar(a,b,c)\n",
    "#Output: \"c is the largest variable\""
   ]
  },
  {
   "cell_type": "code",
   "execution_count": null,
   "id": "1a1bdafd",
   "metadata": {},
   "outputs": [],
   "source": [
    "a = 45\n",
    "b = 45\n",
    "c = 27\n",
    "\n",
    "\n",
    "def maxVarFinder()"
   ]
  }
 ],
 "metadata": {
  "kernelspec": {
   "display_name": "Python 3 (ipykernel)",
   "language": "python",
   "name": "python3"
  },
  "language_info": {
   "codemirror_mode": {
    "name": "ipython",
    "version": 3
   },
   "file_extension": ".py",
   "mimetype": "text/x-python",
   "name": "python",
   "nbconvert_exporter": "python",
   "pygments_lexer": "ipython3",
   "version": "3.10.9"
  }
 },
 "nbformat": 4,
 "nbformat_minor": 5
}
