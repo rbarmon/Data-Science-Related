{
 "cells": [
  {
   "cell_type": "code",
   "execution_count": null,
   "id": "1ae861c3",
   "metadata": {},
   "outputs": [
    {
     "name": "stdout",
     "output_type": "stream",
     "text": [
      "Enter your guess:\n"
     ]
    }
   ],
   "source": [
    "#\n",
    "#\n",
    "#\n",
    "\n",
    "#\n",
    "import random\n",
    "\n",
    "#\n",
    "number = random.randint(1,10)\n",
    "guessesTaken = 0\n",
    "\n",
    "while guessesTaken < 3:\n",
    "    print('Enter your guess:')\n",
    "    user_input = input()\n",
    "    if user_input ==  number:\n",
    "        print(\"You guessed the correct number¡\")\n",
    "    else:\n",
    "        guessesTaken += 1\n",
    "        print(\"You guessed incorrectly. \" + str(3-guessesTaken) +\" remaining.\")\n",
    "\n",
    "print(\"Sorry you have use all your attempts. The correct number was: \" + str(number))"
   ]
  },
  {
   "cell_type": "code",
   "execution_count": null,
   "id": "94cf2363",
   "metadata": {},
   "outputs": [],
   "source": []
  }
 ],
 "metadata": {
  "kernelspec": {
   "display_name": "Python 3 (ipykernel)",
   "language": "python",
   "name": "python3"
  },
  "language_info": {
   "codemirror_mode": {
    "name": "ipython",
    "version": 3
   },
   "file_extension": ".py",
   "mimetype": "text/x-python",
   "name": "python",
   "nbconvert_exporter": "python",
   "pygments_lexer": "ipython3",
   "version": "3.10.9"
  }
 },
 "nbformat": 4,
 "nbformat_minor": 5
}
