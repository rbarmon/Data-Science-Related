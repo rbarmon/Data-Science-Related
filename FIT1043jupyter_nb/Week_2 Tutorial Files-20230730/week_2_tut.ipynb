{
 "cells": [
  {
   "cell_type": "markdown",
   "id": "602edef0",
   "metadata": {},
   "source": [
    "# Week 2 Lab"
   ]
  },
  {
   "cell_type": "code",
   "execution_count": 39,
   "id": "905f2fdc",
   "metadata": {},
   "outputs": [],
   "source": [
    "#1. Loading Libraries\n",
    "\"\"\"In programming, a library is a collection of functions or methods that perform different\n",
    "computational actions. In short, commonly used functions or methods are provided for\n",
    "within the library and hence saving you from needing to write your own code.\n",
    "To load a library in Python we use the keywords: \"from ... import ... as ...\". The “as” is\n",
    "optional and is used to give the imported library a shorter or meaningful name, for example:\"\"\"\n",
    "\n",
    "# from matplotlib import pyplot as plt\n",
    "\n",
    "import matplotlib.pyplot as plt"
   ]
  },
  {
   "cell_type": "code",
   "execution_count": 40,
   "id": "f53afb4e",
   "metadata": {},
   "outputs": [],
   "source": [
    "# 2. DataFrames in Python\n",
    "\n",
    "import pandas as pd\n",
    "\n",
    "df = pd.DataFrame({\n",
    "'StudentID' : [264422,264423,264444,264445,264446],\n",
    "'FirstName' : ['Steven','Alex','Bill','Mark','Bob'],\n",
    "'EnrolYear' : [2010,2010,2011,2011,2013],\n",
    "'Math' : [100,90,90,40,60],\n",
    "'English' : [60,70,80,80,60]\n",
    "})\n"
   ]
  },
  {
   "cell_type": "code",
   "execution_count": 41,
   "id": "bee2a31a",
   "metadata": {},
   "outputs": [
    {
     "data": {
      "text/html": [
       "<div>\n",
       "<style scoped>\n",
       "    .dataframe tbody tr th:only-of-type {\n",
       "        vertical-align: middle;\n",
       "    }\n",
       "\n",
       "    .dataframe tbody tr th {\n",
       "        vertical-align: top;\n",
       "    }\n",
       "\n",
       "    .dataframe thead th {\n",
       "        text-align: right;\n",
       "    }\n",
       "</style>\n",
       "<table border=\"1\" class=\"dataframe\">\n",
       "  <thead>\n",
       "    <tr style=\"text-align: right;\">\n",
       "      <th></th>\n",
       "      <th>StudentID</th>\n",
       "      <th>FirstName</th>\n",
       "      <th>EnrolYear</th>\n",
       "      <th>Math</th>\n",
       "      <th>English</th>\n",
       "    </tr>\n",
       "  </thead>\n",
       "  <tbody>\n",
       "    <tr>\n",
       "      <th>0</th>\n",
       "      <td>264422</td>\n",
       "      <td>Steven</td>\n",
       "      <td>2010</td>\n",
       "      <td>100</td>\n",
       "      <td>60</td>\n",
       "    </tr>\n",
       "    <tr>\n",
       "      <th>1</th>\n",
       "      <td>264423</td>\n",
       "      <td>Alex</td>\n",
       "      <td>2010</td>\n",
       "      <td>90</td>\n",
       "      <td>70</td>\n",
       "    </tr>\n",
       "    <tr>\n",
       "      <th>2</th>\n",
       "      <td>264444</td>\n",
       "      <td>Bill</td>\n",
       "      <td>2011</td>\n",
       "      <td>90</td>\n",
       "      <td>80</td>\n",
       "    </tr>\n",
       "    <tr>\n",
       "      <th>3</th>\n",
       "      <td>264445</td>\n",
       "      <td>Mark</td>\n",
       "      <td>2011</td>\n",
       "      <td>40</td>\n",
       "      <td>80</td>\n",
       "    </tr>\n",
       "    <tr>\n",
       "      <th>4</th>\n",
       "      <td>264446</td>\n",
       "      <td>Bob</td>\n",
       "      <td>2013</td>\n",
       "      <td>60</td>\n",
       "      <td>60</td>\n",
       "    </tr>\n",
       "  </tbody>\n",
       "</table>\n",
       "</div>"
      ],
      "text/plain": [
       "   StudentID FirstName  EnrolYear  Math  English\n",
       "0     264422    Steven       2010   100       60\n",
       "1     264423      Alex       2010    90       70\n",
       "2     264444      Bill       2011    90       80\n",
       "3     264445      Mark       2011    40       80\n",
       "4     264446       Bob       2013    60       60"
      ]
     },
     "execution_count": 41,
     "metadata": {},
     "output_type": "execute_result"
    }
   ],
   "source": [
    "# “df” is just a variable name for the pandas DataFrame. You can print out the new\n",
    "# DataFrame to see what it looks like:\n",
    "df"
   ]
  },
  {
   "cell_type": "code",
   "execution_count": 42,
   "id": "c1b9d461",
   "metadata": {},
   "outputs": [
    {
     "data": {
      "text/html": [
       "<div>\n",
       "<style scoped>\n",
       "    .dataframe tbody tr th:only-of-type {\n",
       "        vertical-align: middle;\n",
       "    }\n",
       "\n",
       "    .dataframe tbody tr th {\n",
       "        vertical-align: top;\n",
       "    }\n",
       "\n",
       "    .dataframe thead th {\n",
       "        text-align: right;\n",
       "    }\n",
       "</style>\n",
       "<table border=\"1\" class=\"dataframe\">\n",
       "  <thead>\n",
       "    <tr style=\"text-align: right;\">\n",
       "      <th></th>\n",
       "      <th>Height</th>\n",
       "      <th>StudentID</th>\n",
       "    </tr>\n",
       "  </thead>\n",
       "  <tbody>\n",
       "    <tr>\n",
       "      <th>0</th>\n",
       "      <td>160</td>\n",
       "      <td>264422</td>\n",
       "    </tr>\n",
       "    <tr>\n",
       "      <th>1</th>\n",
       "      <td>155</td>\n",
       "      <td>264423</td>\n",
       "    </tr>\n",
       "    <tr>\n",
       "      <th>2</th>\n",
       "      <td>175</td>\n",
       "      <td>264444</td>\n",
       "    </tr>\n",
       "    <tr>\n",
       "      <th>3</th>\n",
       "      <td>175</td>\n",
       "      <td>264445</td>\n",
       "    </tr>\n",
       "  </tbody>\n",
       "</table>\n",
       "</div>"
      ],
      "text/plain": [
       "   Height  StudentID\n",
       "0     160     264422\n",
       "1     155     264423\n",
       "2     175     264444\n",
       "3     175     264445"
      ]
     },
     "execution_count": 42,
     "metadata": {},
     "output_type": "execute_result"
    }
   ],
   "source": [
    "\"\"\"Practise 1: Create another data table called \"df2\" that contains the height of some of the\n",
    "students. It should contain the following data:\"\"\"\n",
    "\n",
    "\n",
    "df2 = pd.DataFrame({\n",
    "'Height' : [160,155,175,175],\n",
    "'StudentID' : [264422,264423,264444,264445]\n",
    "})\n",
    "\n",
    "df2"
   ]
  },
  {
   "cell_type": "markdown",
   "id": "951c784e",
   "metadata": {},
   "source": [
    "#2.1 Column and row selection"
   ]
  },
  {
   "cell_type": "code",
   "execution_count": 43,
   "id": "fe607c01",
   "metadata": {},
   "outputs": [
    {
     "data": {
      "text/plain": [
       "0    Steven\n",
       "1      Alex\n",
       "2      Bill\n",
       "3      Mark\n",
       "4       Bob\n",
       "Name: FirstName, dtype: object"
      ]
     },
     "execution_count": 43,
     "metadata": {},
     "output_type": "execute_result"
    }
   ],
   "source": [
    "# We can select a column using its name and the bracket syntax:\n",
    "df['FirstName']"
   ]
  },
  {
   "cell_type": "code",
   "execution_count": 44,
   "id": "0c074032",
   "metadata": {},
   "outputs": [
    {
     "data": {
      "text/plain": [
       "0    Steven\n",
       "1      Alex\n",
       "2      Bill\n",
       "3      Mark\n",
       "4       Bob\n",
       "Name: FirstName, dtype: object"
      ]
     },
     "execution_count": 44,
     "metadata": {},
     "output_type": "execute_result"
    }
   ],
   "source": [
    "# Or using the somewhat simpler dot notation:\n",
    "df.FirstName\n"
   ]
  },
  {
   "cell_type": "code",
   "execution_count": 45,
   "id": "c80e2a39",
   "metadata": {},
   "outputs": [
    {
     "data": {
      "text/html": [
       "<div>\n",
       "<style scoped>\n",
       "    .dataframe tbody tr th:only-of-type {\n",
       "        vertical-align: middle;\n",
       "    }\n",
       "\n",
       "    .dataframe tbody tr th {\n",
       "        vertical-align: top;\n",
       "    }\n",
       "\n",
       "    .dataframe thead th {\n",
       "        text-align: right;\n",
       "    }\n",
       "</style>\n",
       "<table border=\"1\" class=\"dataframe\">\n",
       "  <thead>\n",
       "    <tr style=\"text-align: right;\">\n",
       "      <th></th>\n",
       "      <th>StudentID</th>\n",
       "      <th>FirstName</th>\n",
       "      <th>EnrolYear</th>\n",
       "      <th>Math</th>\n",
       "      <th>English</th>\n",
       "    </tr>\n",
       "  </thead>\n",
       "  <tbody>\n",
       "    <tr>\n",
       "      <th>1</th>\n",
       "      <td>264423</td>\n",
       "      <td>Alex</td>\n",
       "      <td>2010</td>\n",
       "      <td>90</td>\n",
       "      <td>70</td>\n",
       "    </tr>\n",
       "  </tbody>\n",
       "</table>\n",
       "</div>"
      ],
      "text/plain": [
       "   StudentID FirstName  EnrolYear  Math  English\n",
       "1     264423      Alex       2010    90       70"
      ]
     },
     "execution_count": 45,
     "metadata": {},
     "output_type": "execute_result"
    }
   ],
   "source": [
    "# We can also select only elements that fit certain conditions. What does the following\n",
    "# command produce?\n",
    "df[df['FirstName'] == 'Alex']"
   ]
  },
  {
   "cell_type": "code",
   "execution_count": 46,
   "id": "d90f4a16",
   "metadata": {},
   "outputs": [
    {
     "data": {
      "text/plain": [
       "0    False\n",
       "1     True\n",
       "2    False\n",
       "3    False\n",
       "4    False\n",
       "Name: FirstName, dtype: bool"
      ]
     },
     "execution_count": 46,
     "metadata": {},
     "output_type": "execute_result"
    }
   ],
   "source": [
    "df['FirstName'] == 'Alex'"
   ]
  },
  {
   "cell_type": "code",
   "execution_count": 47,
   "id": "3f2f6de2",
   "metadata": {},
   "outputs": [
    {
     "data": {
      "text/html": [
       "<div>\n",
       "<style scoped>\n",
       "    .dataframe tbody tr th:only-of-type {\n",
       "        vertical-align: middle;\n",
       "    }\n",
       "\n",
       "    .dataframe tbody tr th {\n",
       "        vertical-align: top;\n",
       "    }\n",
       "\n",
       "    .dataframe thead th {\n",
       "        text-align: right;\n",
       "    }\n",
       "</style>\n",
       "<table border=\"1\" class=\"dataframe\">\n",
       "  <thead>\n",
       "    <tr style=\"text-align: right;\">\n",
       "      <th></th>\n",
       "      <th>StudentID</th>\n",
       "      <th>FirstName</th>\n",
       "      <th>EnrolYear</th>\n",
       "      <th>Math</th>\n",
       "      <th>English</th>\n",
       "    </tr>\n",
       "  </thead>\n",
       "  <tbody>\n",
       "    <tr>\n",
       "      <th>2</th>\n",
       "      <td>264444</td>\n",
       "      <td>Bill</td>\n",
       "      <td>2011</td>\n",
       "      <td>90</td>\n",
       "      <td>80</td>\n",
       "    </tr>\n",
       "    <tr>\n",
       "      <th>3</th>\n",
       "      <td>264445</td>\n",
       "      <td>Mark</td>\n",
       "      <td>2011</td>\n",
       "      <td>40</td>\n",
       "      <td>80</td>\n",
       "    </tr>\n",
       "  </tbody>\n",
       "</table>\n",
       "</div>"
      ],
      "text/plain": [
       "   StudentID FirstName  EnrolYear  Math  English\n",
       "2     264444      Bill       2011    90       80\n",
       "3     264445      Mark       2011    40       80"
      ]
     },
     "execution_count": 47,
     "metadata": {},
     "output_type": "execute_result"
    }
   ],
   "source": [
    "# Practise 2: Show the details of the students who enrolled in the year 2011?\n",
    "\n",
    "df[df['EnrolYear'] == 2011]"
   ]
  },
  {
   "cell_type": "code",
   "execution_count": 48,
   "id": "fe0965d7",
   "metadata": {},
   "outputs": [
    {
     "data": {
      "text/html": [
       "<div>\n",
       "<style scoped>\n",
       "    .dataframe tbody tr th:only-of-type {\n",
       "        vertical-align: middle;\n",
       "    }\n",
       "\n",
       "    .dataframe tbody tr th {\n",
       "        vertical-align: top;\n",
       "    }\n",
       "\n",
       "    .dataframe thead th {\n",
       "        text-align: right;\n",
       "    }\n",
       "</style>\n",
       "<table border=\"1\" class=\"dataframe\">\n",
       "  <thead>\n",
       "    <tr style=\"text-align: right;\">\n",
       "      <th></th>\n",
       "      <th>StudentID</th>\n",
       "      <th>FirstName</th>\n",
       "      <th>EnrolYear</th>\n",
       "      <th>Math</th>\n",
       "      <th>English</th>\n",
       "    </tr>\n",
       "  </thead>\n",
       "  <tbody>\n",
       "    <tr>\n",
       "      <th>2</th>\n",
       "      <td>264444</td>\n",
       "      <td>Bill</td>\n",
       "      <td>2011</td>\n",
       "      <td>90</td>\n",
       "      <td>80</td>\n",
       "    </tr>\n",
       "    <tr>\n",
       "      <th>3</th>\n",
       "      <td>264445</td>\n",
       "      <td>Mark</td>\n",
       "      <td>2011</td>\n",
       "      <td>40</td>\n",
       "      <td>80</td>\n",
       "    </tr>\n",
       "  </tbody>\n",
       "</table>\n",
       "</div>"
      ],
      "text/plain": [
       "   StudentID FirstName  EnrolYear  Math  English\n",
       "2     264444      Bill       2011    90       80\n",
       "3     264445      Mark       2011    40       80"
      ]
     },
     "execution_count": 48,
     "metadata": {},
     "output_type": "execute_result"
    }
   ],
   "source": [
    "# We can select rows with ever more complicated conditions, for example:\n",
    "# select rows where first-name isn't 'Bob' (!= is not equal)\n",
    "# and student ID is larger than 2644423\n",
    "filt = (df.FirstName != 'Bob') & (df.StudentID > 264423)\n",
    "df[filt]"
   ]
  },
  {
   "cell_type": "markdown",
   "id": "841a42ab",
   "metadata": {},
   "source": [
    "## 2.2 Modifying the structure of a table"
   ]
  },
  {
   "cell_type": "code",
   "execution_count": 49,
   "id": "a8201229",
   "metadata": {},
   "outputs": [
    {
     "data": {
      "text/html": [
       "<div>\n",
       "<style scoped>\n",
       "    .dataframe tbody tr th:only-of-type {\n",
       "        vertical-align: middle;\n",
       "    }\n",
       "\n",
       "    .dataframe tbody tr th {\n",
       "        vertical-align: top;\n",
       "    }\n",
       "\n",
       "    .dataframe thead th {\n",
       "        text-align: right;\n",
       "    }\n",
       "</style>\n",
       "<table border=\"1\" class=\"dataframe\">\n",
       "  <thead>\n",
       "    <tr style=\"text-align: right;\">\n",
       "      <th></th>\n",
       "      <th>StudentID</th>\n",
       "      <th>FirstName</th>\n",
       "      <th>EnrolYear</th>\n",
       "      <th>Math</th>\n",
       "      <th>English</th>\n",
       "      <th>Total</th>\n",
       "    </tr>\n",
       "  </thead>\n",
       "  <tbody>\n",
       "    <tr>\n",
       "      <th>0</th>\n",
       "      <td>264422</td>\n",
       "      <td>Steven</td>\n",
       "      <td>2010</td>\n",
       "      <td>100</td>\n",
       "      <td>60</td>\n",
       "      <td>160</td>\n",
       "    </tr>\n",
       "    <tr>\n",
       "      <th>1</th>\n",
       "      <td>264423</td>\n",
       "      <td>Alex</td>\n",
       "      <td>2010</td>\n",
       "      <td>90</td>\n",
       "      <td>70</td>\n",
       "      <td>160</td>\n",
       "    </tr>\n",
       "    <tr>\n",
       "      <th>2</th>\n",
       "      <td>264444</td>\n",
       "      <td>Bill</td>\n",
       "      <td>2011</td>\n",
       "      <td>90</td>\n",
       "      <td>80</td>\n",
       "      <td>170</td>\n",
       "    </tr>\n",
       "    <tr>\n",
       "      <th>3</th>\n",
       "      <td>264445</td>\n",
       "      <td>Mark</td>\n",
       "      <td>2011</td>\n",
       "      <td>40</td>\n",
       "      <td>80</td>\n",
       "      <td>120</td>\n",
       "    </tr>\n",
       "    <tr>\n",
       "      <th>4</th>\n",
       "      <td>264446</td>\n",
       "      <td>Bob</td>\n",
       "      <td>2013</td>\n",
       "      <td>60</td>\n",
       "      <td>60</td>\n",
       "      <td>120</td>\n",
       "    </tr>\n",
       "  </tbody>\n",
       "</table>\n",
       "</div>"
      ],
      "text/plain": [
       "   StudentID FirstName  EnrolYear  Math  English  Total\n",
       "0     264422    Steven       2010   100       60    160\n",
       "1     264423      Alex       2010    90       70    160\n",
       "2     264444      Bill       2011    90       80    170\n",
       "3     264445      Mark       2011    40       80    120\n",
       "4     264446       Bob       2013    60       60    120"
      ]
     },
     "execution_count": 49,
     "metadata": {},
     "output_type": "execute_result"
    }
   ],
   "source": [
    "# It is possible to modify the structure of DataFrames in Python. For example, we might want\n",
    "# to add a new column containing the total of the \"Math\" and \"English\" marks for the students.\n",
    "# To do this we can simply write:\n",
    "    \n",
    "df['Total'] = df['Math'] + df['English']\n",
    "\n",
    "# The code above will create a new column call “Total” and populate it with the sum from the\n",
    "# two columns “Math” and “English”. Print out the table to see the result.\n",
    "df"
   ]
  },
  {
   "cell_type": "code",
   "execution_count": 50,
   "id": "df07493a",
   "metadata": {},
   "outputs": [
    {
     "data": {
      "text/html": [
       "<div>\n",
       "<style scoped>\n",
       "    .dataframe tbody tr th:only-of-type {\n",
       "        vertical-align: middle;\n",
       "    }\n",
       "\n",
       "    .dataframe tbody tr th {\n",
       "        vertical-align: top;\n",
       "    }\n",
       "\n",
       "    .dataframe thead th {\n",
       "        text-align: right;\n",
       "    }\n",
       "</style>\n",
       "<table border=\"1\" class=\"dataframe\">\n",
       "  <thead>\n",
       "    <tr style=\"text-align: right;\">\n",
       "      <th></th>\n",
       "      <th>StudentID</th>\n",
       "      <th>FirstName</th>\n",
       "      <th>EnrolYear</th>\n",
       "      <th>Math</th>\n",
       "      <th>English</th>\n",
       "      <th>Total</th>\n",
       "      <th>Average</th>\n",
       "    </tr>\n",
       "  </thead>\n",
       "  <tbody>\n",
       "    <tr>\n",
       "      <th>0</th>\n",
       "      <td>264422</td>\n",
       "      <td>Steven</td>\n",
       "      <td>2010</td>\n",
       "      <td>100</td>\n",
       "      <td>60</td>\n",
       "      <td>160</td>\n",
       "      <td>80.0</td>\n",
       "    </tr>\n",
       "    <tr>\n",
       "      <th>1</th>\n",
       "      <td>264423</td>\n",
       "      <td>Alex</td>\n",
       "      <td>2010</td>\n",
       "      <td>90</td>\n",
       "      <td>70</td>\n",
       "      <td>160</td>\n",
       "      <td>80.0</td>\n",
       "    </tr>\n",
       "    <tr>\n",
       "      <th>2</th>\n",
       "      <td>264444</td>\n",
       "      <td>Bill</td>\n",
       "      <td>2011</td>\n",
       "      <td>90</td>\n",
       "      <td>80</td>\n",
       "      <td>170</td>\n",
       "      <td>85.0</td>\n",
       "    </tr>\n",
       "    <tr>\n",
       "      <th>3</th>\n",
       "      <td>264445</td>\n",
       "      <td>Mark</td>\n",
       "      <td>2011</td>\n",
       "      <td>40</td>\n",
       "      <td>80</td>\n",
       "      <td>120</td>\n",
       "      <td>60.0</td>\n",
       "    </tr>\n",
       "    <tr>\n",
       "      <th>4</th>\n",
       "      <td>264446</td>\n",
       "      <td>Bob</td>\n",
       "      <td>2013</td>\n",
       "      <td>60</td>\n",
       "      <td>60</td>\n",
       "      <td>120</td>\n",
       "      <td>60.0</td>\n",
       "    </tr>\n",
       "  </tbody>\n",
       "</table>\n",
       "</div>"
      ],
      "text/plain": [
       "   StudentID FirstName  EnrolYear  Math  English  Total  Average\n",
       "0     264422    Steven       2010   100       60    160     80.0\n",
       "1     264423      Alex       2010    90       70    160     80.0\n",
       "2     264444      Bill       2011    90       80    170     85.0\n",
       "3     264445      Mark       2011    40       80    120     60.0\n",
       "4     264446       Bob       2013    60       60    120     60.0"
      ]
     },
     "execution_count": 50,
     "metadata": {},
     "output_type": "execute_result"
    }
   ],
   "source": [
    "\"\"\"Practice 3: Add a new column showing the average mark of \"Math\" and \"English\" for each\n",
    "student. (Average = Total/number of subjects)\"\"\"\n",
    "\n",
    "\n",
    "df['Average'] = (df['Math'] + df['English']) /2\n",
    "\n",
    "df"
   ]
  },
  {
   "cell_type": "code",
   "execution_count": 51,
   "id": "e5030364",
   "metadata": {},
   "outputs": [
    {
     "data": {
      "text/html": [
       "<div>\n",
       "<style scoped>\n",
       "    .dataframe tbody tr th:only-of-type {\n",
       "        vertical-align: middle;\n",
       "    }\n",
       "\n",
       "    .dataframe tbody tr th {\n",
       "        vertical-align: top;\n",
       "    }\n",
       "\n",
       "    .dataframe thead th {\n",
       "        text-align: right;\n",
       "    }\n",
       "</style>\n",
       "<table border=\"1\" class=\"dataframe\">\n",
       "  <thead>\n",
       "    <tr style=\"text-align: right;\">\n",
       "      <th></th>\n",
       "      <th>StudentID</th>\n",
       "      <th>FirstName</th>\n",
       "      <th>EnrolYear</th>\n",
       "      <th>Math</th>\n",
       "      <th>English</th>\n",
       "      <th>Total</th>\n",
       "      <th>Average</th>\n",
       "    </tr>\n",
       "  </thead>\n",
       "  <tbody>\n",
       "    <tr>\n",
       "      <th>0</th>\n",
       "      <td>264422</td>\n",
       "      <td>Steven</td>\n",
       "      <td>2010</td>\n",
       "      <td>100</td>\n",
       "      <td>60</td>\n",
       "      <td>160</td>\n",
       "      <td>80.0</td>\n",
       "    </tr>\n",
       "    <tr>\n",
       "      <th>1</th>\n",
       "      <td>264423</td>\n",
       "      <td>Alex</td>\n",
       "      <td>2010</td>\n",
       "      <td>90</td>\n",
       "      <td>70</td>\n",
       "      <td>160</td>\n",
       "      <td>80.0</td>\n",
       "    </tr>\n",
       "    <tr>\n",
       "      <th>2</th>\n",
       "      <td>264444</td>\n",
       "      <td>Bill</td>\n",
       "      <td>2011</td>\n",
       "      <td>90</td>\n",
       "      <td>80</td>\n",
       "      <td>170</td>\n",
       "      <td>85.0</td>\n",
       "    </tr>\n",
       "  </tbody>\n",
       "</table>\n",
       "</div>"
      ],
      "text/plain": [
       "   StudentID FirstName  EnrolYear  Math  English  Total  Average\n",
       "0     264422    Steven       2010   100       60    160     80.0\n",
       "1     264423      Alex       2010    90       70    160     80.0\n",
       "2     264444      Bill       2011    90       80    170     85.0"
      ]
     },
     "execution_count": 51,
     "metadata": {},
     "output_type": "execute_result"
    }
   ],
   "source": [
    "\"\"\"Practice 4: Write a filter to select students who have scored more than 150 in total and who\n",
    "have achieved a subject score (in Maths or English) of 90 or more. (Hint: careful with the\n",
    "parenthesis)\"\"\"\n",
    "\n",
    "filt = (df.Total > 150) & (df.Math >= 90) | (df.English >= 90)\n",
    "df[filt]"
   ]
  },
  {
   "cell_type": "code",
   "execution_count": 52,
   "id": "594a9f83",
   "metadata": {},
   "outputs": [],
   "source": [
    "# Oftentimes, we need to modify the layout of a table so that the data is in the right format for\n",
    "# further processing or visualisation. In our current table we have two columns \"Math\" and\n",
    "# \"English\", both of which contain student marks. We can split the information for each student\n",
    "# into different rows using the \"melt\" command, as follows:\n",
    "    \n",
    "# turn column names 'Math' and 'English' into values\n",
    "# for a new column 'Subject'\n",
    "df = pd.melt(\n",
    "    df,\n",
    "    id_vars=['EnrolYear','FirstName','StudentID'],\n",
    "    value_vars=['Math','English'],\n",
    "    var_name='Subject')\n",
    "\n",
    "\n",
    "# Print out the new table. What have we done here?\n",
    "# We have taken each record (row) from the original table, and turned it into two rows. What\n",
    "# does the new column \"Subject\" contain?"
   ]
  },
  {
   "cell_type": "code",
   "execution_count": 53,
   "id": "f01c03cf",
   "metadata": {},
   "outputs": [
    {
     "data": {
      "text/html": [
       "<div>\n",
       "<style scoped>\n",
       "    .dataframe tbody tr th:only-of-type {\n",
       "        vertical-align: middle;\n",
       "    }\n",
       "\n",
       "    .dataframe tbody tr th {\n",
       "        vertical-align: top;\n",
       "    }\n",
       "\n",
       "    .dataframe thead th {\n",
       "        text-align: right;\n",
       "    }\n",
       "</style>\n",
       "<table border=\"1\" class=\"dataframe\">\n",
       "  <thead>\n",
       "    <tr style=\"text-align: right;\">\n",
       "      <th></th>\n",
       "      <th>EnrolYear</th>\n",
       "      <th>FirstName</th>\n",
       "      <th>StudentID</th>\n",
       "      <th>Subject</th>\n",
       "      <th>value</th>\n",
       "    </tr>\n",
       "  </thead>\n",
       "  <tbody>\n",
       "    <tr>\n",
       "      <th>0</th>\n",
       "      <td>2010</td>\n",
       "      <td>Steven</td>\n",
       "      <td>264422</td>\n",
       "      <td>Math</td>\n",
       "      <td>100</td>\n",
       "    </tr>\n",
       "    <tr>\n",
       "      <th>1</th>\n",
       "      <td>2010</td>\n",
       "      <td>Alex</td>\n",
       "      <td>264423</td>\n",
       "      <td>Math</td>\n",
       "      <td>90</td>\n",
       "    </tr>\n",
       "    <tr>\n",
       "      <th>2</th>\n",
       "      <td>2011</td>\n",
       "      <td>Bill</td>\n",
       "      <td>264444</td>\n",
       "      <td>Math</td>\n",
       "      <td>90</td>\n",
       "    </tr>\n",
       "    <tr>\n",
       "      <th>3</th>\n",
       "      <td>2011</td>\n",
       "      <td>Mark</td>\n",
       "      <td>264445</td>\n",
       "      <td>Math</td>\n",
       "      <td>40</td>\n",
       "    </tr>\n",
       "    <tr>\n",
       "      <th>4</th>\n",
       "      <td>2013</td>\n",
       "      <td>Bob</td>\n",
       "      <td>264446</td>\n",
       "      <td>Math</td>\n",
       "      <td>60</td>\n",
       "    </tr>\n",
       "    <tr>\n",
       "      <th>5</th>\n",
       "      <td>2010</td>\n",
       "      <td>Steven</td>\n",
       "      <td>264422</td>\n",
       "      <td>English</td>\n",
       "      <td>60</td>\n",
       "    </tr>\n",
       "    <tr>\n",
       "      <th>6</th>\n",
       "      <td>2010</td>\n",
       "      <td>Alex</td>\n",
       "      <td>264423</td>\n",
       "      <td>English</td>\n",
       "      <td>70</td>\n",
       "    </tr>\n",
       "    <tr>\n",
       "      <th>7</th>\n",
       "      <td>2011</td>\n",
       "      <td>Bill</td>\n",
       "      <td>264444</td>\n",
       "      <td>English</td>\n",
       "      <td>80</td>\n",
       "    </tr>\n",
       "    <tr>\n",
       "      <th>8</th>\n",
       "      <td>2011</td>\n",
       "      <td>Mark</td>\n",
       "      <td>264445</td>\n",
       "      <td>English</td>\n",
       "      <td>80</td>\n",
       "    </tr>\n",
       "    <tr>\n",
       "      <th>9</th>\n",
       "      <td>2013</td>\n",
       "      <td>Bob</td>\n",
       "      <td>264446</td>\n",
       "      <td>English</td>\n",
       "      <td>60</td>\n",
       "    </tr>\n",
       "  </tbody>\n",
       "</table>\n",
       "</div>"
      ],
      "text/plain": [
       "   EnrolYear FirstName  StudentID  Subject  value\n",
       "0       2010    Steven     264422     Math    100\n",
       "1       2010      Alex     264423     Math     90\n",
       "2       2011      Bill     264444     Math     90\n",
       "3       2011      Mark     264445     Math     40\n",
       "4       2013       Bob     264446     Math     60\n",
       "5       2010    Steven     264422  English     60\n",
       "6       2010      Alex     264423  English     70\n",
       "7       2011      Bill     264444  English     80\n",
       "8       2011      Mark     264445  English     80\n",
       "9       2013       Bob     264446  English     60"
      ]
     },
     "execution_count": 53,
     "metadata": {},
     "output_type": "execute_result"
    }
   ],
   "source": [
    "# Print out the new table. What have we done here?\n",
    "# We have taken each record (row) from the original table, and turned it into two rows. What\n",
    "# does the new column \"Subject\" contain?\n",
    "df"
   ]
  },
  {
   "cell_type": "code",
   "execution_count": 54,
   "id": "ba960efb",
   "metadata": {},
   "outputs": [
    {
     "data": {
      "text/plain": [
       "'Practice 5: Based on the output table, explain what the arguments \"id_vars\",\\n\"value_vars\", and \"var_name\" to the melt() command are doing.'"
      ]
     },
     "execution_count": 54,
     "metadata": {},
     "output_type": "execute_result"
    }
   ],
   "source": [
    "\"\"\"Practice 5: Based on the output table, explain what the arguments \"id_vars\",\n",
    "\"value_vars\", and \"var_name\" to the melt() command are doing.\"\"\"\n",
    "\n",
    "# \"id_vars\" - unique grouping to melt\n",
    "# \"value_vars\" - column where the value is derived from\n",
    "# \"var_name\" - name of the column"
   ]
  },
  {
   "cell_type": "code",
   "execution_count": 55,
   "id": "d7efc2cb",
   "metadata": {},
   "outputs": [],
   "source": [
    "# The values that were in the columns Math and English now appear in a different column\n",
    "# \"value\". We can rename this new column to make the new table more understandable:\n",
    "df.rename(columns = {'value':'Score'}, inplace = True)"
   ]
  },
  {
   "cell_type": "code",
   "execution_count": 56,
   "id": "67e194e8",
   "metadata": {},
   "outputs": [
    {
     "data": {
      "text/html": [
       "<div>\n",
       "<style scoped>\n",
       "    .dataframe tbody tr th:only-of-type {\n",
       "        vertical-align: middle;\n",
       "    }\n",
       "\n",
       "    .dataframe tbody tr th {\n",
       "        vertical-align: top;\n",
       "    }\n",
       "\n",
       "    .dataframe thead th {\n",
       "        text-align: right;\n",
       "    }\n",
       "</style>\n",
       "<table border=\"1\" class=\"dataframe\">\n",
       "  <thead>\n",
       "    <tr style=\"text-align: right;\">\n",
       "      <th></th>\n",
       "      <th>EnrolYear</th>\n",
       "      <th>FirstName</th>\n",
       "      <th>StudentID</th>\n",
       "      <th>Subject</th>\n",
       "      <th>Score</th>\n",
       "    </tr>\n",
       "  </thead>\n",
       "  <tbody>\n",
       "    <tr>\n",
       "      <th>0</th>\n",
       "      <td>2010</td>\n",
       "      <td>Steven</td>\n",
       "      <td>264422</td>\n",
       "      <td>Math</td>\n",
       "      <td>100</td>\n",
       "    </tr>\n",
       "    <tr>\n",
       "      <th>1</th>\n",
       "      <td>2010</td>\n",
       "      <td>Alex</td>\n",
       "      <td>264423</td>\n",
       "      <td>Math</td>\n",
       "      <td>90</td>\n",
       "    </tr>\n",
       "    <tr>\n",
       "      <th>2</th>\n",
       "      <td>2011</td>\n",
       "      <td>Bill</td>\n",
       "      <td>264444</td>\n",
       "      <td>Math</td>\n",
       "      <td>90</td>\n",
       "    </tr>\n",
       "    <tr>\n",
       "      <th>3</th>\n",
       "      <td>2011</td>\n",
       "      <td>Mark</td>\n",
       "      <td>264445</td>\n",
       "      <td>Math</td>\n",
       "      <td>40</td>\n",
       "    </tr>\n",
       "    <tr>\n",
       "      <th>4</th>\n",
       "      <td>2013</td>\n",
       "      <td>Bob</td>\n",
       "      <td>264446</td>\n",
       "      <td>Math</td>\n",
       "      <td>60</td>\n",
       "    </tr>\n",
       "    <tr>\n",
       "      <th>5</th>\n",
       "      <td>2010</td>\n",
       "      <td>Steven</td>\n",
       "      <td>264422</td>\n",
       "      <td>English</td>\n",
       "      <td>60</td>\n",
       "    </tr>\n",
       "    <tr>\n",
       "      <th>6</th>\n",
       "      <td>2010</td>\n",
       "      <td>Alex</td>\n",
       "      <td>264423</td>\n",
       "      <td>English</td>\n",
       "      <td>70</td>\n",
       "    </tr>\n",
       "    <tr>\n",
       "      <th>7</th>\n",
       "      <td>2011</td>\n",
       "      <td>Bill</td>\n",
       "      <td>264444</td>\n",
       "      <td>English</td>\n",
       "      <td>80</td>\n",
       "    </tr>\n",
       "    <tr>\n",
       "      <th>8</th>\n",
       "      <td>2011</td>\n",
       "      <td>Mark</td>\n",
       "      <td>264445</td>\n",
       "      <td>English</td>\n",
       "      <td>80</td>\n",
       "    </tr>\n",
       "    <tr>\n",
       "      <th>9</th>\n",
       "      <td>2013</td>\n",
       "      <td>Bob</td>\n",
       "      <td>264446</td>\n",
       "      <td>English</td>\n",
       "      <td>60</td>\n",
       "    </tr>\n",
       "  </tbody>\n",
       "</table>\n",
       "</div>"
      ],
      "text/plain": [
       "   EnrolYear FirstName  StudentID  Subject  Score\n",
       "0       2010    Steven     264422     Math    100\n",
       "1       2010      Alex     264423     Math     90\n",
       "2       2011      Bill     264444     Math     90\n",
       "3       2011      Mark     264445     Math     40\n",
       "4       2013       Bob     264446     Math     60\n",
       "5       2010    Steven     264422  English     60\n",
       "6       2010      Alex     264423  English     70\n",
       "7       2011      Bill     264444  English     80\n",
       "8       2011      Mark     264445  English     80\n",
       "9       2013       Bob     264446  English     60"
      ]
     },
     "execution_count": 56,
     "metadata": {},
     "output_type": "execute_result"
    }
   ],
   "source": [
    "df"
   ]
  },
  {
   "cell_type": "markdown",
   "id": "28d10b47",
   "metadata": {},
   "source": [
    "\n",
    "## 2.3 Merging DataFrames"
   ]
  },
  {
   "cell_type": "code",
   "execution_count": 57,
   "id": "b1149e7e",
   "metadata": {},
   "outputs": [],
   "source": [
    "\"\"\"Suppose now that for some reason you would like to merge the two data sets, df and df2.\n",
    "We can do that simply by calling the \"merge\" command:\"\"\"\n",
    "\n",
    "df3 = pd.merge(df, df2, on=['StudentID'])\n",
    "\n"
   ]
  },
  {
   "cell_type": "code",
   "execution_count": 58,
   "id": "913e4a9b",
   "metadata": {},
   "outputs": [
    {
     "data": {
      "text/html": [
       "<div>\n",
       "<style scoped>\n",
       "    .dataframe tbody tr th:only-of-type {\n",
       "        vertical-align: middle;\n",
       "    }\n",
       "\n",
       "    .dataframe tbody tr th {\n",
       "        vertical-align: top;\n",
       "    }\n",
       "\n",
       "    .dataframe thead th {\n",
       "        text-align: right;\n",
       "    }\n",
       "</style>\n",
       "<table border=\"1\" class=\"dataframe\">\n",
       "  <thead>\n",
       "    <tr style=\"text-align: right;\">\n",
       "      <th></th>\n",
       "      <th>EnrolYear</th>\n",
       "      <th>FirstName</th>\n",
       "      <th>StudentID</th>\n",
       "      <th>Subject</th>\n",
       "      <th>Score</th>\n",
       "      <th>Height</th>\n",
       "    </tr>\n",
       "  </thead>\n",
       "  <tbody>\n",
       "    <tr>\n",
       "      <th>0</th>\n",
       "      <td>2010</td>\n",
       "      <td>Steven</td>\n",
       "      <td>264422</td>\n",
       "      <td>Math</td>\n",
       "      <td>100</td>\n",
       "      <td>160</td>\n",
       "    </tr>\n",
       "    <tr>\n",
       "      <th>1</th>\n",
       "      <td>2010</td>\n",
       "      <td>Steven</td>\n",
       "      <td>264422</td>\n",
       "      <td>English</td>\n",
       "      <td>60</td>\n",
       "      <td>160</td>\n",
       "    </tr>\n",
       "    <tr>\n",
       "      <th>2</th>\n",
       "      <td>2010</td>\n",
       "      <td>Alex</td>\n",
       "      <td>264423</td>\n",
       "      <td>Math</td>\n",
       "      <td>90</td>\n",
       "      <td>155</td>\n",
       "    </tr>\n",
       "    <tr>\n",
       "      <th>3</th>\n",
       "      <td>2010</td>\n",
       "      <td>Alex</td>\n",
       "      <td>264423</td>\n",
       "      <td>English</td>\n",
       "      <td>70</td>\n",
       "      <td>155</td>\n",
       "    </tr>\n",
       "    <tr>\n",
       "      <th>4</th>\n",
       "      <td>2011</td>\n",
       "      <td>Bill</td>\n",
       "      <td>264444</td>\n",
       "      <td>Math</td>\n",
       "      <td>90</td>\n",
       "      <td>175</td>\n",
       "    </tr>\n",
       "    <tr>\n",
       "      <th>5</th>\n",
       "      <td>2011</td>\n",
       "      <td>Bill</td>\n",
       "      <td>264444</td>\n",
       "      <td>English</td>\n",
       "      <td>80</td>\n",
       "      <td>175</td>\n",
       "    </tr>\n",
       "    <tr>\n",
       "      <th>6</th>\n",
       "      <td>2011</td>\n",
       "      <td>Mark</td>\n",
       "      <td>264445</td>\n",
       "      <td>Math</td>\n",
       "      <td>40</td>\n",
       "      <td>175</td>\n",
       "    </tr>\n",
       "    <tr>\n",
       "      <th>7</th>\n",
       "      <td>2011</td>\n",
       "      <td>Mark</td>\n",
       "      <td>264445</td>\n",
       "      <td>English</td>\n",
       "      <td>80</td>\n",
       "      <td>175</td>\n",
       "    </tr>\n",
       "  </tbody>\n",
       "</table>\n",
       "</div>"
      ],
      "text/plain": [
       "   EnrolYear FirstName  StudentID  Subject  Score  Height\n",
       "0       2010    Steven     264422     Math    100     160\n",
       "1       2010    Steven     264422  English     60     160\n",
       "2       2010      Alex     264423     Math     90     155\n",
       "3       2010      Alex     264423  English     70     155\n",
       "4       2011      Bill     264444     Math     90     175\n",
       "5       2011      Bill     264444  English     80     175\n",
       "6       2011      Mark     264445     Math     40     175\n",
       "7       2011      Mark     264445  English     80     175"
      ]
     },
     "execution_count": 58,
     "metadata": {},
     "output_type": "execute_result"
    }
   ],
   "source": [
    "df3"
   ]
  },
  {
   "cell_type": "code",
   "execution_count": 59,
   "id": "d93059a7",
   "metadata": {},
   "outputs": [],
   "source": [
    "# Practice 6: What is the difference that can you see after merging to datasets?\n",
    "\n",
    "# Height column added\n",
    "# student with studentID beyond 264445 excluded because not included in df2."
   ]
  },
  {
   "cell_type": "code",
   "execution_count": 60,
   "id": "7d219b06",
   "metadata": {},
   "outputs": [
    {
     "data": {
      "text/plain": [
       "\"Practice 7: Print out the merged table. Based on the output, explain what you understand\\nabout the parameter on=['StudentID'].\""
      ]
     },
     "execution_count": 60,
     "metadata": {},
     "output_type": "execute_result"
    }
   ],
   "source": [
    "\"\"\"Practice 7: Print out the merged table. Based on the output, explain what you understand\n",
    "about the parameter on=['StudentID'].\"\"\"\n",
    "\n",
    "# merges on the studentID"
   ]
  },
  {
   "cell_type": "code",
   "execution_count": 61,
   "id": "202b1270",
   "metadata": {},
   "outputs": [],
   "source": [
    "# Practice 8: Looking closely at the data in the resulting DataFrame, is there a student missing\n",
    "# after the merge? How can you display all students?\n",
    "\n",
    "# Yes, student with studentID beyond 264445 excluded because not included in df2."
   ]
  },
  {
   "cell_type": "markdown",
   "id": "74885560",
   "metadata": {},
   "source": [
    "## 3 Reading CSV and Excel files into DataFrames"
   ]
  },
  {
   "cell_type": "code",
   "execution_count": 62,
   "id": "7573bffe",
   "metadata": {},
   "outputs": [
    {
     "data": {
      "text/plain": [
       "'If you copied it to another folder, then you will need to provide the path name to the file. Print\\nout the first five records from the file using the \"head\" command:'"
      ]
     },
     "execution_count": 62,
     "metadata": {},
     "output_type": "execute_result"
    }
   ],
   "source": [
    "\"\"\"We can read DataFrames directly from a CSV file using the \"read_csv\" command. (CSV\n",
    "stands for Comma Separated Value, meaning that the fields stored in the text file are\n",
    "separated using a ‘,’, you can open the file in a text editor and have a look). Let's read in the\n",
    "file uforeports.csv that's available on Moodle. In order for the Jupyter Notebook to have\n",
    "access to the file, you'll need to first download it from Moodle and copy it to the Jupyter\n",
    "Notebook folder (for easier access). Once you've done that, you can simply type the\n",
    "following:\"\"\"\n",
    "\n",
    "ufo_reports = pd.read_csv('uforeports.csv')\n",
    "\n",
    "\"\"\"If you copied it to another folder, then you will need to provide the path name to the file. Print\n",
    "out the first five records from the file using the \"head\" command:\"\"\""
   ]
  },
  {
   "cell_type": "code",
   "execution_count": 63,
   "id": "55598fa2",
   "metadata": {},
   "outputs": [
    {
     "data": {
      "text/html": [
       "<div>\n",
       "<style scoped>\n",
       "    .dataframe tbody tr th:only-of-type {\n",
       "        vertical-align: middle;\n",
       "    }\n",
       "\n",
       "    .dataframe tbody tr th {\n",
       "        vertical-align: top;\n",
       "    }\n",
       "\n",
       "    .dataframe thead th {\n",
       "        text-align: right;\n",
       "    }\n",
       "</style>\n",
       "<table border=\"1\" class=\"dataframe\">\n",
       "  <thead>\n",
       "    <tr style=\"text-align: right;\">\n",
       "      <th></th>\n",
       "      <th>City</th>\n",
       "      <th>Colors Reported</th>\n",
       "      <th>Shape Reported</th>\n",
       "      <th>State</th>\n",
       "      <th>Time</th>\n",
       "    </tr>\n",
       "  </thead>\n",
       "  <tbody>\n",
       "    <tr>\n",
       "      <th>0</th>\n",
       "      <td>Ithaca</td>\n",
       "      <td>NaN</td>\n",
       "      <td>TRIANGLE</td>\n",
       "      <td>NY</td>\n",
       "      <td>1930-01-06 22:00:00</td>\n",
       "    </tr>\n",
       "    <tr>\n",
       "      <th>1</th>\n",
       "      <td>Willingboro</td>\n",
       "      <td>NaN</td>\n",
       "      <td>OTHER</td>\n",
       "      <td>NJ</td>\n",
       "      <td>1930-06-30 20:00:00</td>\n",
       "    </tr>\n",
       "    <tr>\n",
       "      <th>2</th>\n",
       "      <td>Holyoke</td>\n",
       "      <td>NaN</td>\n",
       "      <td>OVAL</td>\n",
       "      <td>CO</td>\n",
       "      <td>1931-02-15 14:00:00</td>\n",
       "    </tr>\n",
       "    <tr>\n",
       "      <th>3</th>\n",
       "      <td>Abilene</td>\n",
       "      <td>NaN</td>\n",
       "      <td>DISK</td>\n",
       "      <td>KS</td>\n",
       "      <td>1931-01-06 13:00:00</td>\n",
       "    </tr>\n",
       "    <tr>\n",
       "      <th>4</th>\n",
       "      <td>New York Worlds Fair</td>\n",
       "      <td>NaN</td>\n",
       "      <td>LIGHT</td>\n",
       "      <td>NY</td>\n",
       "      <td>1933-04-18 19:00:00</td>\n",
       "    </tr>\n",
       "  </tbody>\n",
       "</table>\n",
       "</div>"
      ],
      "text/plain": [
       "                   City Colors Reported Shape Reported State  \\\n",
       "0                Ithaca             NaN       TRIANGLE    NY   \n",
       "1           Willingboro             NaN          OTHER    NJ   \n",
       "2               Holyoke             NaN           OVAL    CO   \n",
       "3               Abilene             NaN           DISK    KS   \n",
       "4  New York Worlds Fair             NaN          LIGHT    NY   \n",
       "\n",
       "                  Time  \n",
       "0  1930-01-06 22:00:00  \n",
       "1  1930-06-30 20:00:00  \n",
       "2  1931-02-15 14:00:00  \n",
       "3  1931-01-06 13:00:00  \n",
       "4  1933-04-18 19:00:00  "
      ]
     },
     "execution_count": 63,
     "metadata": {},
     "output_type": "execute_result"
    }
   ],
   "source": [
    "ufo_reports.head() # print the first 5 records"
   ]
  },
  {
   "cell_type": "code",
   "execution_count": 64,
   "id": "c2137d17",
   "metadata": {},
   "outputs": [
    {
     "data": {
      "text/html": [
       "<div>\n",
       "<style scoped>\n",
       "    .dataframe tbody tr th:only-of-type {\n",
       "        vertical-align: middle;\n",
       "    }\n",
       "\n",
       "    .dataframe tbody tr th {\n",
       "        vertical-align: top;\n",
       "    }\n",
       "\n",
       "    .dataframe thead th {\n",
       "        text-align: right;\n",
       "    }\n",
       "</style>\n",
       "<table border=\"1\" class=\"dataframe\">\n",
       "  <thead>\n",
       "    <tr style=\"text-align: right;\">\n",
       "      <th></th>\n",
       "      <th>City</th>\n",
       "      <th>Colors Reported</th>\n",
       "      <th>Shape Reported</th>\n",
       "      <th>State</th>\n",
       "      <th>Time</th>\n",
       "    </tr>\n",
       "  </thead>\n",
       "  <tbody>\n",
       "    <tr>\n",
       "      <th>18236</th>\n",
       "      <td>Grant Park</td>\n",
       "      <td>NaN</td>\n",
       "      <td>TRIANGLE</td>\n",
       "      <td>IL</td>\n",
       "      <td>2000-12-31 23:00:00</td>\n",
       "    </tr>\n",
       "    <tr>\n",
       "      <th>18237</th>\n",
       "      <td>Spirit Lake</td>\n",
       "      <td>NaN</td>\n",
       "      <td>DISK</td>\n",
       "      <td>IA</td>\n",
       "      <td>2000-12-31 23:00:00</td>\n",
       "    </tr>\n",
       "    <tr>\n",
       "      <th>18238</th>\n",
       "      <td>Eagle River</td>\n",
       "      <td>NaN</td>\n",
       "      <td>NaN</td>\n",
       "      <td>WI</td>\n",
       "      <td>2000-12-31 23:45:00</td>\n",
       "    </tr>\n",
       "    <tr>\n",
       "      <th>18239</th>\n",
       "      <td>Eagle River</td>\n",
       "      <td>RED</td>\n",
       "      <td>LIGHT</td>\n",
       "      <td>WI</td>\n",
       "      <td>2000-12-31 23:45:00</td>\n",
       "    </tr>\n",
       "    <tr>\n",
       "      <th>18240</th>\n",
       "      <td>Ybor</td>\n",
       "      <td>NaN</td>\n",
       "      <td>OVAL</td>\n",
       "      <td>FL</td>\n",
       "      <td>2000-12-31 23:59:00</td>\n",
       "    </tr>\n",
       "  </tbody>\n",
       "</table>\n",
       "</div>"
      ],
      "text/plain": [
       "              City Colors Reported Shape Reported State                 Time\n",
       "18236   Grant Park             NaN       TRIANGLE    IL  2000-12-31 23:00:00\n",
       "18237  Spirit Lake             NaN           DISK    IA  2000-12-31 23:00:00\n",
       "18238  Eagle River             NaN            NaN    WI  2000-12-31 23:45:00\n",
       "18239  Eagle River             RED          LIGHT    WI  2000-12-31 23:45:00\n",
       "18240         Ybor             NaN           OVAL    FL  2000-12-31 23:59:00"
      ]
     },
     "execution_count": 64,
     "metadata": {},
     "output_type": "execute_result"
    }
   ],
   "source": [
    "# Practice 9: How can we display the last 5 records? How can we display the last record only?\n",
    "\n",
    "\n",
    "ufo_reports.tail() # print the first 5 records"
   ]
  },
  {
   "cell_type": "code",
   "execution_count": 65,
   "id": "b6412a84",
   "metadata": {},
   "outputs": [
    {
     "data": {
      "text/html": [
       "<div>\n",
       "<style scoped>\n",
       "    .dataframe tbody tr th:only-of-type {\n",
       "        vertical-align: middle;\n",
       "    }\n",
       "\n",
       "    .dataframe tbody tr th {\n",
       "        vertical-align: top;\n",
       "    }\n",
       "\n",
       "    .dataframe thead th {\n",
       "        text-align: right;\n",
       "    }\n",
       "</style>\n",
       "<table border=\"1\" class=\"dataframe\">\n",
       "  <thead>\n",
       "    <tr style=\"text-align: right;\">\n",
       "      <th></th>\n",
       "      <th>City</th>\n",
       "      <th>Colors Reported</th>\n",
       "      <th>Shape Reported</th>\n",
       "      <th>State</th>\n",
       "      <th>Time</th>\n",
       "    </tr>\n",
       "  </thead>\n",
       "  <tbody>\n",
       "    <tr>\n",
       "      <th>18240</th>\n",
       "      <td>Ybor</td>\n",
       "      <td>NaN</td>\n",
       "      <td>OVAL</td>\n",
       "      <td>FL</td>\n",
       "      <td>2000-12-31 23:59:00</td>\n",
       "    </tr>\n",
       "  </tbody>\n",
       "</table>\n",
       "</div>"
      ],
      "text/plain": [
       "       City Colors Reported Shape Reported State                 Time\n",
       "18240  Ybor             NaN           OVAL    FL  2000-12-31 23:59:00"
      ]
     },
     "execution_count": 65,
     "metadata": {},
     "output_type": "execute_result"
    }
   ],
   "source": [
    "ufo_reports.tail(1) # print the first 5 records"
   ]
  },
  {
   "cell_type": "code",
   "execution_count": 104,
   "id": "60a5143d",
   "metadata": {},
   "outputs": [
    {
     "ename": "SyntaxError",
     "evalue": "invalid syntax (2090935680.py, line 5)",
     "output_type": "error",
     "traceback": [
      "\u001b[0;36m  Cell \u001b[0;32mIn[104], line 5\u001b[0;36m\u001b[0m\n\u001b[0;31m    conda install -c anaconda xlrd\u001b[0m\n\u001b[0m          ^\u001b[0m\n\u001b[0;31mSyntaxError\u001b[0m\u001b[0;31m:\u001b[0m invalid syntax\n"
     ]
    }
   ],
   "source": [
    "\"\"\"To read in an Excel .XLS file, we need to specify not only the filename but also the name of\n",
    "the spreadsheet within the workbook. Download the file uforeports_excel.xls and\n",
    "again copy it to you Jupyter Notebook folder and type:\"\"\"\n",
    "\n",
    "conda install -c anaconda xlrd\n",
    "\n",
    "ufo_reports_xls = pd.read_excel(\n",
    "'uforeports_excel.xls',\n",
    "sheet_name='uforeports')\n",
    "\n",
    "# rianb/jupyter_nb/Week_2 Tutorial Files-20230730/"
   ]
  },
  {
   "cell_type": "code",
   "execution_count": 105,
   "id": "be99a5b2",
   "metadata": {},
   "outputs": [
    {
     "name": "stdout",
     "output_type": "stream",
     "text": [
      "Collecting package metadata (current_repodata.json): done\n",
      "Solving environment: done\n",
      "\n",
      "\n",
      "==> WARNING: A newer version of conda exists. <==\n",
      "  current version: 23.3.1\n",
      "  latest version: 23.7.2\n",
      "\n",
      "Please update conda by running\n",
      "\n",
      "    $ conda update -n base -c defaults conda\n",
      "\n",
      "Or to minimize the number of packages updated during conda update use\n",
      "\n",
      "     conda install conda=23.7.2\n",
      "\n",
      "\n",
      "\n",
      "## Package Plan ##\n",
      "\n",
      "  environment location: /Users/rianb/anaconda3\n",
      "\n",
      "  added / updated specs:\n",
      "    - xlrd\n",
      "\n",
      "\n",
      "The following packages will be downloaded:\n",
      "\n",
      "    package                    |            build\n",
      "    ---------------------------|-----------------\n",
      "    ca-certificates-2022.4.26  |       hca03da5_0         127 KB  anaconda\n",
      "    certifi-2022.6.15          |  py310hca03da5_0         157 KB  anaconda\n",
      "    xlrd-2.0.1                 |     pyhd3eb1b0_0          92 KB  anaconda\n",
      "    ------------------------------------------------------------\n",
      "                                           Total:         376 KB\n",
      "\n",
      "The following NEW packages will be INSTALLED:\n",
      "\n",
      "  xlrd               anaconda/noarch::xlrd-2.0.1-pyhd3eb1b0_0 \n",
      "\n",
      "The following packages will be SUPERSEDED by a higher-priority channel:\n",
      "\n",
      "  ca-certificates    pkgs/main::ca-certificates-2023.05.30~ --> anaconda::ca-certificates-2022.4.26-hca03da5_0 \n",
      "  certifi            pkgs/main::certifi-2023.5.7-py310hca0~ --> anaconda::certifi-2022.6.15-py310hca03da5_0 \n",
      "\n",
      "\n",
      "\n",
      "Downloading and Extracting Packages\n",
      "certifi-2022.6.15    | 157 KB    |                                       |   0% \n",
      "ca-certificates-2022 | 127 KB    |                                       |   0% \u001b[A\n",
      "\n",
      "certifi-2022.6.15    | 157 KB    | ###7                                  |  10% \u001b[A\u001b[A\n",
      "ca-certificates-2022 | 127 KB    | ####6                                 |  13% \u001b[A\n",
      "certifi-2022.6.15    | 157 KB    | ##################################### | 100% \u001b[A\n",
      "\n",
      "xlrd-2.0.1           | 92 KB     | ######4                               |  17% \u001b[A\u001b[A\n",
      "\n",
      "                                                                                \u001b[A\u001b[A\n",
      "                                                                                \u001b[A\n",
      "\n",
      "                                                                                \u001b[A\u001b[A\n",
      "Preparing transaction: done\n",
      "Verifying transaction: done\n",
      "Executing transaction: done\n",
      "\n",
      "Note: you may need to restart the kernel to use updated packages.\n"
     ]
    }
   ],
   "source": [
    "conda install -c anaconda xlrd"
   ]
  },
  {
   "cell_type": "code",
   "execution_count": 106,
   "id": "a9212eac",
   "metadata": {},
   "outputs": [],
   "source": [
    "ufo_reports_xls = pd.read_excel(\n",
    "'uforeports_excel.xls',\n",
    "sheet_name='uforeports')"
   ]
  },
  {
   "cell_type": "code",
   "execution_count": 109,
   "id": "ec606328",
   "metadata": {},
   "outputs": [
    {
     "ename": "SyntaxError",
     "evalue": "invalid syntax (2777611017.py, line 1)",
     "output_type": "error",
     "traceback": [
      "\u001b[0;36m  Cell \u001b[0;32mIn[109], line 1\u001b[0;36m\u001b[0m\n\u001b[0;31m    Use the \"head\" command to print out the first 5 records of the new table. Noticufo_reports_xls.head()\u001b[0m\n\u001b[0m        ^\u001b[0m\n\u001b[0;31mSyntaxError\u001b[0m\u001b[0;31m:\u001b[0m invalid syntax\n"
     ]
    }
   ],
   "source": [
    "\"\"\"Use the \"head\" command to print out the first 5 records of the new table. Notice that the\n",
    "CSV file and the XLS one contained the same data, but in different formats\"\"\"\n",
    "ufo_reports_xls.head()"
   ]
  },
  {
   "cell_type": "code",
   "execution_count": 110,
   "id": "a24a238c",
   "metadata": {},
   "outputs": [
    {
     "name": "stdout",
     "output_type": "stream",
     "text": [
      "object\n"
     ]
    }
   ],
   "source": [
    "\"\"\"It looks like Python has recognised the Time column differently for the two datasets. Let's\n",
    "print out the datatype for the Time column to see what's going on:\"\"\"\n",
    "print(ufo_reports.Time.dtypes)"
   ]
  },
  {
   "cell_type": "code",
   "execution_count": 111,
   "id": "ee57eded",
   "metadata": {},
   "outputs": [
    {
     "name": "stdout",
     "output_type": "stream",
     "text": [
      "datetime64[ns]\n"
     ]
    }
   ],
   "source": [
    "# and do the same for the XLS version::\n",
    "print(ufo_reports_xls.Time.dtypes)"
   ]
  },
  {
   "cell_type": "code",
   "execution_count": 112,
   "id": "a0be03ae",
   "metadata": {},
   "outputs": [
    {
     "name": "stdout",
     "output_type": "stream",
     "text": [
      "datetime64[ns]\n"
     ]
    },
    {
     "data": {
      "text/html": [
       "<div>\n",
       "<style scoped>\n",
       "    .dataframe tbody tr th:only-of-type {\n",
       "        vertical-align: middle;\n",
       "    }\n",
       "\n",
       "    .dataframe tbody tr th {\n",
       "        vertical-align: top;\n",
       "    }\n",
       "\n",
       "    .dataframe thead th {\n",
       "        text-align: right;\n",
       "    }\n",
       "</style>\n",
       "<table border=\"1\" class=\"dataframe\">\n",
       "  <thead>\n",
       "    <tr style=\"text-align: right;\">\n",
       "      <th></th>\n",
       "      <th>City</th>\n",
       "      <th>Colors Reported</th>\n",
       "      <th>Shape Reported</th>\n",
       "      <th>State</th>\n",
       "      <th>Time</th>\n",
       "    </tr>\n",
       "  </thead>\n",
       "  <tbody>\n",
       "    <tr>\n",
       "      <th>0</th>\n",
       "      <td>Ithaca</td>\n",
       "      <td>NaN</td>\n",
       "      <td>TRIANGLE</td>\n",
       "      <td>NY</td>\n",
       "      <td>1930-01-06 22:00:00</td>\n",
       "    </tr>\n",
       "    <tr>\n",
       "      <th>1</th>\n",
       "      <td>Willingboro</td>\n",
       "      <td>NaN</td>\n",
       "      <td>OTHER</td>\n",
       "      <td>NJ</td>\n",
       "      <td>1930-06-30 20:00:00</td>\n",
       "    </tr>\n",
       "    <tr>\n",
       "      <th>2</th>\n",
       "      <td>Holyoke</td>\n",
       "      <td>NaN</td>\n",
       "      <td>OVAL</td>\n",
       "      <td>CO</td>\n",
       "      <td>1931-02-15 14:00:00</td>\n",
       "    </tr>\n",
       "    <tr>\n",
       "      <th>3</th>\n",
       "      <td>Abilene</td>\n",
       "      <td>NaN</td>\n",
       "      <td>DISK</td>\n",
       "      <td>KS</td>\n",
       "      <td>1931-01-06 13:00:00</td>\n",
       "    </tr>\n",
       "    <tr>\n",
       "      <th>4</th>\n",
       "      <td>New York Worlds Fair</td>\n",
       "      <td>NaN</td>\n",
       "      <td>LIGHT</td>\n",
       "      <td>NY</td>\n",
       "      <td>1933-04-18 19:00:00</td>\n",
       "    </tr>\n",
       "  </tbody>\n",
       "</table>\n",
       "</div>"
      ],
      "text/plain": [
       "                   City Colors Reported Shape Reported State  \\\n",
       "0                Ithaca             NaN       TRIANGLE    NY   \n",
       "1           Willingboro             NaN          OTHER    NJ   \n",
       "2               Holyoke             NaN           OVAL    CO   \n",
       "3               Abilene             NaN           DISK    KS   \n",
       "4  New York Worlds Fair             NaN          LIGHT    NY   \n",
       "\n",
       "                 Time  \n",
       "0 1930-01-06 22:00:00  \n",
       "1 1930-06-30 20:00:00  \n",
       "2 1931-02-15 14:00:00  \n",
       "3 1931-01-06 13:00:00  \n",
       "4 1933-04-18 19:00:00  "
      ]
     },
     "execution_count": 112,
     "metadata": {},
     "output_type": "execute_result"
    }
   ],
   "source": [
    "\"\"\"Notice that Time columns in two DataFrames are indeed different. (Note: If they both return\n",
    "as objects, it is likely because your date time setting for your computer is set to US style of\n",
    "Month-Day-Year. You can use the “uforeports_excel_us.xls”) In the table read in\n",
    "from the CSV file, the Time column is just an object, while for the XLS file it was given a\n",
    "datetime format. We can change the format so they are consistent\"\"\"\n",
    "\n",
    "# change to datetime format\n",
    "ufo_reports.Time = pd.to_datetime(ufo_reports.Time)\n",
    "print (ufo_reports.Time.dtypes) # print its datatype now\n",
    "ufo_reports.head() #"
   ]
  },
  {
   "cell_type": "code",
   "execution_count": null,
   "id": "96d33794",
   "metadata": {},
   "outputs": [],
   "source": [
    "# Check whether it looks the same as the other dataframe Has it fixed the problem?\n",
    "\n",
    "# yeah"
   ]
  },
  {
   "cell_type": "markdown",
   "id": "1bd7997a",
   "metadata": {},
   "source": [
    "# 4 Basic data auditing"
   ]
  },
  {
   "cell_type": "code",
   "execution_count": 69,
   "id": "4f6c5d8c",
   "metadata": {},
   "outputs": [],
   "source": [
    "\"\"\"We could easily do some auditing or exploration of the data using Python. We'll leave\n",
    "graphical data exploration and outlier identification to next week. Instead, we'll use the titanic\n",
    "data set (a list of passengers on the Titanic) to investigate some basic auditing functions.\"\"\"\n",
    "\n",
    "\n",
    "\"\"\"Practice 10: Write a statement to read in titanic data (titanic.csv) into a pandas\n",
    "DataFrame called ‘titanic’. Then print out the first few rows.\"\"\"\n",
    "\n",
    "\n",
    "titanic = pd.read_csv('titanic.csv')\n"
   ]
  },
  {
   "cell_type": "code",
   "execution_count": 72,
   "id": "ce48c130",
   "metadata": {},
   "outputs": [
    {
     "data": {
      "text/html": [
       "<div>\n",
       "<style scoped>\n",
       "    .dataframe tbody tr th:only-of-type {\n",
       "        vertical-align: middle;\n",
       "    }\n",
       "\n",
       "    .dataframe tbody tr th {\n",
       "        vertical-align: top;\n",
       "    }\n",
       "\n",
       "    .dataframe thead th {\n",
       "        text-align: right;\n",
       "    }\n",
       "</style>\n",
       "<table border=\"1\" class=\"dataframe\">\n",
       "  <thead>\n",
       "    <tr style=\"text-align: right;\">\n",
       "      <th></th>\n",
       "      <th>survived</th>\n",
       "      <th>pclass</th>\n",
       "      <th>sex</th>\n",
       "      <th>age</th>\n",
       "      <th>sibsp</th>\n",
       "      <th>parch</th>\n",
       "      <th>fare</th>\n",
       "      <th>embarked</th>\n",
       "      <th>class</th>\n",
       "      <th>who</th>\n",
       "      <th>adult_male</th>\n",
       "      <th>deck</th>\n",
       "      <th>embark_town</th>\n",
       "      <th>alive</th>\n",
       "      <th>alone</th>\n",
       "    </tr>\n",
       "  </thead>\n",
       "  <tbody>\n",
       "    <tr>\n",
       "      <th>0</th>\n",
       "      <td>0</td>\n",
       "      <td>3</td>\n",
       "      <td>male</td>\n",
       "      <td>22.0</td>\n",
       "      <td>1</td>\n",
       "      <td>0</td>\n",
       "      <td>7.2500</td>\n",
       "      <td>S</td>\n",
       "      <td>Third</td>\n",
       "      <td>man</td>\n",
       "      <td>True</td>\n",
       "      <td>NaN</td>\n",
       "      <td>Southampton</td>\n",
       "      <td>no</td>\n",
       "      <td>False</td>\n",
       "    </tr>\n",
       "    <tr>\n",
       "      <th>1</th>\n",
       "      <td>1</td>\n",
       "      <td>1</td>\n",
       "      <td>female</td>\n",
       "      <td>38.0</td>\n",
       "      <td>1</td>\n",
       "      <td>0</td>\n",
       "      <td>71.2833</td>\n",
       "      <td>C</td>\n",
       "      <td>First</td>\n",
       "      <td>woman</td>\n",
       "      <td>False</td>\n",
       "      <td>C</td>\n",
       "      <td>Cherbourg</td>\n",
       "      <td>yes</td>\n",
       "      <td>False</td>\n",
       "    </tr>\n",
       "    <tr>\n",
       "      <th>2</th>\n",
       "      <td>1</td>\n",
       "      <td>3</td>\n",
       "      <td>female</td>\n",
       "      <td>26.0</td>\n",
       "      <td>0</td>\n",
       "      <td>0</td>\n",
       "      <td>7.9250</td>\n",
       "      <td>S</td>\n",
       "      <td>Third</td>\n",
       "      <td>woman</td>\n",
       "      <td>False</td>\n",
       "      <td>NaN</td>\n",
       "      <td>Southampton</td>\n",
       "      <td>yes</td>\n",
       "      <td>True</td>\n",
       "    </tr>\n",
       "    <tr>\n",
       "      <th>3</th>\n",
       "      <td>1</td>\n",
       "      <td>1</td>\n",
       "      <td>female</td>\n",
       "      <td>35.0</td>\n",
       "      <td>1</td>\n",
       "      <td>0</td>\n",
       "      <td>53.1000</td>\n",
       "      <td>S</td>\n",
       "      <td>First</td>\n",
       "      <td>woman</td>\n",
       "      <td>False</td>\n",
       "      <td>C</td>\n",
       "      <td>Southampton</td>\n",
       "      <td>yes</td>\n",
       "      <td>False</td>\n",
       "    </tr>\n",
       "    <tr>\n",
       "      <th>4</th>\n",
       "      <td>0</td>\n",
       "      <td>3</td>\n",
       "      <td>male</td>\n",
       "      <td>35.0</td>\n",
       "      <td>0</td>\n",
       "      <td>0</td>\n",
       "      <td>8.0500</td>\n",
       "      <td>S</td>\n",
       "      <td>Third</td>\n",
       "      <td>man</td>\n",
       "      <td>True</td>\n",
       "      <td>NaN</td>\n",
       "      <td>Southampton</td>\n",
       "      <td>no</td>\n",
       "      <td>True</td>\n",
       "    </tr>\n",
       "  </tbody>\n",
       "</table>\n",
       "</div>"
      ],
      "text/plain": [
       "   survived  pclass     sex   age  sibsp  parch     fare embarked  class  \\\n",
       "0         0       3    male  22.0      1      0   7.2500        S  Third   \n",
       "1         1       1  female  38.0      1      0  71.2833        C  First   \n",
       "2         1       3  female  26.0      0      0   7.9250        S  Third   \n",
       "3         1       1  female  35.0      1      0  53.1000        S  First   \n",
       "4         0       3    male  35.0      0      0   8.0500        S  Third   \n",
       "\n",
       "     who  adult_male deck  embark_town alive  alone  \n",
       "0    man        True  NaN  Southampton    no  False  \n",
       "1  woman       False    C    Cherbourg   yes  False  \n",
       "2  woman       False  NaN  Southampton   yes   True  \n",
       "3  woman       False    C  Southampton   yes  False  \n",
       "4    man        True  NaN  Southampton    no   True  "
      ]
     },
     "execution_count": 72,
     "metadata": {},
     "output_type": "execute_result"
    }
   ],
   "source": [
    "titanic.head()"
   ]
  },
  {
   "cell_type": "code",
   "execution_count": 73,
   "id": "00aa596a",
   "metadata": {},
   "outputs": [
    {
     "name": "stdout",
     "output_type": "stream",
     "text": [
      "(891, 15)\n"
     ]
    }
   ],
   "source": [
    "# We'll now check various characteristics of the data. First let's have a look at the dimensions\n",
    "# of the table:\n",
    "\n",
    "print(titanic.shape)"
   ]
  },
  {
   "cell_type": "code",
   "execution_count": 74,
   "id": "cfc52649",
   "metadata": {},
   "outputs": [],
   "source": [
    "# How many rows and columns are there?\n",
    "\n",
    "# (rows, columns)"
   ]
  },
  {
   "cell_type": "code",
   "execution_count": 76,
   "id": "f8c84d5d",
   "metadata": {},
   "outputs": [
    {
     "data": {
      "text/plain": [
       "survived         int64\n",
       "pclass           int64\n",
       "sex             object\n",
       "age            float64\n",
       "sibsp            int64\n",
       "parch            int64\n",
       "fare           float64\n",
       "embarked        object\n",
       "class           object\n",
       "who             object\n",
       "adult_male        bool\n",
       "deck            object\n",
       "embark_town     object\n",
       "alive           object\n",
       "alone             bool\n",
       "dtype: object"
      ]
     },
     "execution_count": 76,
     "metadata": {},
     "output_type": "execute_result"
    }
   ],
   "source": [
    "# We can investigate the data types of each column, by calling \"dtypes\" on the entire\n",
    "# DataFrame:\n",
    "\n",
    "titanic.dtypes"
   ]
  },
  {
   "cell_type": "code",
   "execution_count": 77,
   "id": "882ffc75",
   "metadata": {},
   "outputs": [
    {
     "data": {
      "text/html": [
       "<div>\n",
       "<style scoped>\n",
       "    .dataframe tbody tr th:only-of-type {\n",
       "        vertical-align: middle;\n",
       "    }\n",
       "\n",
       "    .dataframe tbody tr th {\n",
       "        vertical-align: top;\n",
       "    }\n",
       "\n",
       "    .dataframe thead th {\n",
       "        text-align: right;\n",
       "    }\n",
       "</style>\n",
       "<table border=\"1\" class=\"dataframe\">\n",
       "  <thead>\n",
       "    <tr style=\"text-align: right;\">\n",
       "      <th></th>\n",
       "      <th>survived</th>\n",
       "      <th>pclass</th>\n",
       "      <th>age</th>\n",
       "      <th>sibsp</th>\n",
       "      <th>parch</th>\n",
       "      <th>fare</th>\n",
       "    </tr>\n",
       "  </thead>\n",
       "  <tbody>\n",
       "    <tr>\n",
       "      <th>count</th>\n",
       "      <td>891.000000</td>\n",
       "      <td>891.000000</td>\n",
       "      <td>714.000000</td>\n",
       "      <td>891.000000</td>\n",
       "      <td>891.000000</td>\n",
       "      <td>891.000000</td>\n",
       "    </tr>\n",
       "    <tr>\n",
       "      <th>mean</th>\n",
       "      <td>0.383838</td>\n",
       "      <td>2.308642</td>\n",
       "      <td>29.699118</td>\n",
       "      <td>0.523008</td>\n",
       "      <td>0.381594</td>\n",
       "      <td>32.204208</td>\n",
       "    </tr>\n",
       "    <tr>\n",
       "      <th>std</th>\n",
       "      <td>0.486592</td>\n",
       "      <td>0.836071</td>\n",
       "      <td>14.526497</td>\n",
       "      <td>1.102743</td>\n",
       "      <td>0.806057</td>\n",
       "      <td>49.693429</td>\n",
       "    </tr>\n",
       "    <tr>\n",
       "      <th>min</th>\n",
       "      <td>0.000000</td>\n",
       "      <td>1.000000</td>\n",
       "      <td>0.420000</td>\n",
       "      <td>0.000000</td>\n",
       "      <td>0.000000</td>\n",
       "      <td>0.000000</td>\n",
       "    </tr>\n",
       "    <tr>\n",
       "      <th>25%</th>\n",
       "      <td>0.000000</td>\n",
       "      <td>2.000000</td>\n",
       "      <td>20.125000</td>\n",
       "      <td>0.000000</td>\n",
       "      <td>0.000000</td>\n",
       "      <td>7.910400</td>\n",
       "    </tr>\n",
       "    <tr>\n",
       "      <th>50%</th>\n",
       "      <td>0.000000</td>\n",
       "      <td>3.000000</td>\n",
       "      <td>28.000000</td>\n",
       "      <td>0.000000</td>\n",
       "      <td>0.000000</td>\n",
       "      <td>14.454200</td>\n",
       "    </tr>\n",
       "    <tr>\n",
       "      <th>75%</th>\n",
       "      <td>1.000000</td>\n",
       "      <td>3.000000</td>\n",
       "      <td>38.000000</td>\n",
       "      <td>1.000000</td>\n",
       "      <td>0.000000</td>\n",
       "      <td>31.000000</td>\n",
       "    </tr>\n",
       "    <tr>\n",
       "      <th>max</th>\n",
       "      <td>1.000000</td>\n",
       "      <td>3.000000</td>\n",
       "      <td>80.000000</td>\n",
       "      <td>8.000000</td>\n",
       "      <td>6.000000</td>\n",
       "      <td>512.329200</td>\n",
       "    </tr>\n",
       "  </tbody>\n",
       "</table>\n",
       "</div>"
      ],
      "text/plain": [
       "         survived      pclass         age       sibsp       parch        fare\n",
       "count  891.000000  891.000000  714.000000  891.000000  891.000000  891.000000\n",
       "mean     0.383838    2.308642   29.699118    0.523008    0.381594   32.204208\n",
       "std      0.486592    0.836071   14.526497    1.102743    0.806057   49.693429\n",
       "min      0.000000    1.000000    0.420000    0.000000    0.000000    0.000000\n",
       "25%      0.000000    2.000000   20.125000    0.000000    0.000000    7.910400\n",
       "50%      0.000000    3.000000   28.000000    0.000000    0.000000   14.454200\n",
       "75%      1.000000    3.000000   38.000000    1.000000    0.000000   31.000000\n",
       "max      1.000000    3.000000   80.000000    8.000000    6.000000  512.329200"
      ]
     },
     "execution_count": 77,
     "metadata": {},
     "output_type": "execute_result"
    }
   ],
   "source": [
    "# We can do summary statistics to see the count, number of unique values, as well as the\n",
    "# value range of numeric fields.\n",
    "\n",
    "titanic.describe()\n"
   ]
  },
  {
   "cell_type": "code",
   "execution_count": 78,
   "id": "475c6b6f",
   "metadata": {},
   "outputs": [],
   "source": [
    "# What does the describe method print out?\n",
    "\n",
    "# Summary of table"
   ]
  },
  {
   "cell_type": "code",
   "execution_count": 79,
   "id": "5a102021",
   "metadata": {},
   "outputs": [
    {
     "data": {
      "text/plain": [
       "24.00    30\n",
       "22.00    27\n",
       "18.00    26\n",
       "19.00    25\n",
       "28.00    25\n",
       "         ..\n",
       "36.50     1\n",
       "55.50     1\n",
       "0.92      1\n",
       "23.50     1\n",
       "74.00     1\n",
       "Name: age, Length: 88, dtype: int64"
      ]
     },
     "execution_count": 79,
     "metadata": {},
     "output_type": "execute_result"
    }
   ],
   "source": [
    "# We can have a look at the unique values for each column using the \"value_counts()\"\n",
    "# method:\n",
    "\n",
    "titanic.age.value_counts()"
   ]
  },
  {
   "cell_type": "code",
   "execution_count": 80,
   "id": "409b320d",
   "metadata": {},
   "outputs": [],
   "source": [
    "# Practice 11: Share your findings of the previous two statements with other students, e.g.\n",
    "# what is the average age of the Titanic’s passengers, and the mode?\n",
    "\n"
   ]
  },
  {
   "cell_type": "markdown",
   "id": "be7450f4",
   "metadata": {},
   "source": [
    "# 5 Aggregation and group-by"
   ]
  },
  {
   "cell_type": "code",
   "execution_count": 81,
   "id": "b3de0910",
   "metadata": {},
   "outputs": [
    {
     "data": {
      "text/plain": [
       "29.69911764705882"
      ]
     },
     "execution_count": 81,
     "metadata": {},
     "output_type": "execute_result"
    }
   ],
   "source": [
    "\"\"\"Continuing with the titanic data set, let's now focus on the age of passengers. We've already\n",
    "seen that we can calculate the average value of a column using the describe() function.\n",
    "Alternatively, we could make use of the \"mean()\" function directly, by typing:\"\"\"\n",
    "\n",
    "titanic['age'].mean()"
   ]
  },
  {
   "cell_type": "code",
   "execution_count": 82,
   "id": "26fa721b",
   "metadata": {},
   "outputs": [
    {
     "data": {
      "text/plain": [
       "80.0"
      ]
     },
     "execution_count": 82,
     "metadata": {},
     "output_type": "execute_result"
    }
   ],
   "source": [
    "\"\"\"There are many other aggregation functions we might wish to use to investigate the age of\n",
    "the passengers. For example:\"\"\"\n",
    "\n",
    "titanic['age'].max() # oldest"
   ]
  },
  {
   "cell_type": "code",
   "execution_count": 83,
   "id": "e3aad166",
   "metadata": {},
   "outputs": [
    {
     "data": {
      "text/plain": [
       "0.42"
      ]
     },
     "execution_count": 83,
     "metadata": {},
     "output_type": "execute_result"
    }
   ],
   "source": [
    "titanic['age'].min() # youngest"
   ]
  },
  {
   "cell_type": "code",
   "execution_count": 84,
   "id": "218a262d",
   "metadata": {},
   "outputs": [
    {
     "data": {
      "text/plain": [
       "21205.17"
      ]
     },
     "execution_count": 84,
     "metadata": {},
     "output_type": "execute_result"
    }
   ],
   "source": [
    "titanic['age'].sum() # total years"
   ]
  },
  {
   "cell_type": "code",
   "execution_count": 85,
   "id": "9990c555",
   "metadata": {},
   "outputs": [
    {
     "data": {
      "text/plain": [
       "14.526497332334044"
      ]
     },
     "execution_count": 85,
     "metadata": {},
     "output_type": "execute_result"
    }
   ],
   "source": [
    "titanic['age'].std() # standard deviation"
   ]
  },
  {
   "cell_type": "code",
   "execution_count": 86,
   "id": "1aa196ac",
   "metadata": {},
   "outputs": [
    {
     "data": {
      "text/plain": [
       "28.0"
      ]
     },
     "execution_count": 86,
     "metadata": {},
     "output_type": "execute_result"
    }
   ],
   "source": [
    "titanic['age'].median() # half of the people were older (/younger)\n"
   ]
  },
  {
   "cell_type": "code",
   "execution_count": 87,
   "id": "67ca3281",
   "metadata": {},
   "outputs": [
    {
     "data": {
      "text/plain": [
       "sex     class \n",
       "female  First     34.611765\n",
       "        Second    28.722973\n",
       "        Third     21.750000\n",
       "male    First     41.281386\n",
       "        Second    30.740707\n",
       "        Third     26.507589\n",
       "Name: age, dtype: float64"
      ]
     },
     "execution_count": 87,
     "metadata": {},
     "output_type": "execute_result"
    }
   ],
   "source": [
    "\"\"\"Knowing the average age over all passengers is interesting, but knowing the average age for\n",
    "different groups of passengers may be more useful. We could then answer questions like:\n",
    "How old were the first-class passengers on average? Was the average age the same for\n",
    "men and women? And so on ..\"\"\"\n",
    "\n",
    "\"\"\"Let's now have a more detailed look at the age of different groups. We can do that simply by\n",
    "making use of the groupby() command. We'll use the command to create a (hierarchical)\n",
    "index on \"sex\" and \"class\" values, so that we can then compute aggregate values (the\n",
    "mean) over each of the groups:\"\"\"\n",
    "\n",
    "sex_class = titanic.groupby(['sex','class'])['age']\n",
    "sex_class.mean()"
   ]
  },
  {
   "cell_type": "code",
   "execution_count": 89,
   "id": "e6f9d8e4",
   "metadata": {},
   "outputs": [
    {
     "data": {
      "text/plain": [
       "<pandas.core.groupby.generic.SeriesGroupBy object at 0x1498f86a0>"
      ]
     },
     "execution_count": 89,
     "metadata": {},
     "output_type": "execute_result"
    }
   ],
   "source": [
    "\"\"\"Practice 12: Interpret the output, e.g. what did you notice about the average age of the\n",
    "Titanic’s passengers in regards to their classes? How about the relationship between age\n",
    "and gender?\"\"\"\n",
    "\n",
    "\n",
    "# people in higher classes are older\n",
    "\n",
    "# males are older in general\n"
   ]
  },
  {
   "cell_type": "code",
   "execution_count": 90,
   "id": "2b82c130",
   "metadata": {},
   "outputs": [
    {
     "data": {
      "text/plain": [
       "sex     class \n",
       "female  First     63.0\n",
       "        Second    57.0\n",
       "        Third     63.0\n",
       "male    First     80.0\n",
       "        Second    70.0\n",
       "        Third     74.0\n",
       "Name: age, dtype: float64"
      ]
     },
     "execution_count": 90,
     "metadata": {},
     "output_type": "execute_result"
    }
   ],
   "source": [
    "\"\"\"Practice 13: Use other aggregation functions and groupings to determine which class had\n",
    "the oldest and youngest passengers and which gender had the largest amount of variation in\n",
    "age (standard deviation).\"\"\"\n",
    "\n",
    "\n",
    "sex_class.max()"
   ]
  },
  {
   "cell_type": "code",
   "execution_count": 91,
   "id": "1491d2c9",
   "metadata": {},
   "outputs": [
    {
     "data": {
      "text/plain": [
       "sex     class \n",
       "female  First     2.00\n",
       "        Second    2.00\n",
       "        Third     0.75\n",
       "male    First     0.92\n",
       "        Second    0.67\n",
       "        Third     0.42\n",
       "Name: age, dtype: float64"
      ]
     },
     "execution_count": 91,
     "metadata": {},
     "output_type": "execute_result"
    }
   ],
   "source": [
    "sex_class.min()"
   ]
  },
  {
   "cell_type": "code",
   "execution_count": 92,
   "id": "dead21c4",
   "metadata": {},
   "outputs": [
    {
     "data": {
      "text/plain": [
       "sex     class \n",
       "female  First     13.612052\n",
       "        Second    12.872702\n",
       "        Third     12.729964\n",
       "male    First     15.139570\n",
       "        Second    14.793894\n",
       "        Third     12.159514\n",
       "Name: age, dtype: float64"
      ]
     },
     "execution_count": 92,
     "metadata": {},
     "output_type": "execute_result"
    }
   ],
   "source": [
    "sex_class.std()"
   ]
  },
  {
   "cell_type": "code",
   "execution_count": 4,
   "id": "67468847",
   "metadata": {},
   "outputs": [
    {
     "name": "stdout",
     "output_type": "stream",
     "text": [
      "hi\n"
     ]
    }
   ],
   "source": [
    "print(\"hi\")"
   ]
  },
  {
   "cell_type": "code",
   "execution_count": null,
   "id": "1b4f9c28",
   "metadata": {},
   "outputs": [],
   "source": []
  }
 ],
 "metadata": {
  "kernelspec": {
   "display_name": "Python 3 (ipykernel)",
   "language": "python",
   "name": "python3"
  },
  "language_info": {
   "codemirror_mode": {
    "name": "ipython",
    "version": 3
   },
   "file_extension": ".py",
   "mimetype": "text/x-python",
   "name": "python",
   "nbconvert_exporter": "python",
   "pygments_lexer": "ipython3",
   "version": "3.10.9"
  }
 },
 "nbformat": 4,
 "nbformat_minor": 5
}
