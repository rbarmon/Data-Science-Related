{
 "cells": [
  {
   "cell_type": "markdown",
   "id": "1bb973d3",
   "metadata": {},
   "source": [
    "Name: Rian Barrett \n",
    "Student_ID: 31165176\n",
    "Tutorial: CL_Chn-20.Menzies_S108"
   ]
  },
  {
   "cell_type": "markdown",
   "id": "34999aec",
   "metadata": {},
   "source": [
    "# FIT1043 Assignment 1"
   ]
  },
  {
   "cell_type": "markdown",
   "id": "1a14f9d9",
   "metadata": {},
   "source": [
    "## Task A: Data Exploration and Visualisation"
   ]
  },
  {
   "cell_type": "markdown",
   "id": "d43215a1",
   "metadata": {},
   "source": [
    "### A1. Exploring Smartcard Types"
   ]
  },
  {
   "cell_type": "markdown",
   "id": "675c0db6",
   "metadata": {},
   "source": [
    "#### 1. How many different (unique) smartcard types are recorded in the ‘Smartcard.Type’ column? What are those different smartcard types and how many instances are recorded for each type?"
   ]
  },
  {
   "cell_type": "code",
   "execution_count": 3,
   "id": "adc05438",
   "metadata": {},
   "outputs": [],
   "source": [
    "import pandas as pd \n",
    "smartcard = pd.read_csv(\"monthly_smartcard_replacements.csv\")"
   ]
  },
  {
   "cell_type": "code",
   "execution_count": 4,
   "id": "8a886069",
   "metadata": {},
   "outputs": [
    {
     "data": {
      "text/plain": [
       "(5792, 5)"
      ]
     },
     "execution_count": 4,
     "metadata": {},
     "output_type": "execute_result"
    }
   ],
   "source": [
    "smartcard.shape"
   ]
  },
  {
   "cell_type": "code",
   "execution_count": 5,
   "id": "9ba8a68e",
   "metadata": {},
   "outputs": [
    {
     "data": {
      "text/html": [
       "<div>\n",
       "<style scoped>\n",
       "    .dataframe tbody tr th:only-of-type {\n",
       "        vertical-align: middle;\n",
       "    }\n",
       "\n",
       "    .dataframe tbody tr th {\n",
       "        vertical-align: top;\n",
       "    }\n",
       "\n",
       "    .dataframe thead th {\n",
       "        text-align: right;\n",
       "    }\n",
       "</style>\n",
       "<table border=\"1\" class=\"dataframe\">\n",
       "  <thead>\n",
       "    <tr style=\"text-align: right;\">\n",
       "      <th></th>\n",
       "      <th>Month</th>\n",
       "      <th>Transaction</th>\n",
       "      <th>Smartcard.Type</th>\n",
       "      <th>Action.Reason</th>\n",
       "      <th>Number.of.transactions</th>\n",
       "    </tr>\n",
       "  </thead>\n",
       "  <tbody>\n",
       "    <tr>\n",
       "      <th>0</th>\n",
       "      <td>2019-03</td>\n",
       "      <td>Replace Smartcard</td>\n",
       "      <td>Photo Identification Card</td>\n",
       "      <td>Change Customer Details</td>\n",
       "      <td>156</td>\n",
       "    </tr>\n",
       "    <tr>\n",
       "      <th>1</th>\n",
       "      <td>2019-03</td>\n",
       "      <td>Replace Smartcard</td>\n",
       "      <td>Driver Licence Card</td>\n",
       "      <td>Destroyed</td>\n",
       "      <td>110</td>\n",
       "    </tr>\n",
       "    <tr>\n",
       "      <th>2</th>\n",
       "      <td>2019-03</td>\n",
       "      <td>Replace Smartcard</td>\n",
       "      <td>Industry Authority Card</td>\n",
       "      <td>Lost In Mail - Imu</td>\n",
       "      <td>48</td>\n",
       "    </tr>\n",
       "    <tr>\n",
       "      <th>3</th>\n",
       "      <td>2019-03</td>\n",
       "      <td>Replace Smartcard</td>\n",
       "      <td>Marine Licence Ind Card</td>\n",
       "      <td>Managers Approval</td>\n",
       "      <td>8</td>\n",
       "    </tr>\n",
       "    <tr>\n",
       "      <th>4</th>\n",
       "      <td>2019-03</td>\n",
       "      <td>Replace Smartcard</td>\n",
       "      <td>Marine Licence Ind Card</td>\n",
       "      <td>Lost In Mail - Imu</td>\n",
       "      <td>7</td>\n",
       "    </tr>\n",
       "  </tbody>\n",
       "</table>\n",
       "</div>"
      ],
      "text/plain": [
       "     Month        Transaction             Smartcard.Type  \\\n",
       "0  2019-03  Replace Smartcard  Photo Identification Card   \n",
       "1  2019-03  Replace Smartcard        Driver Licence Card   \n",
       "2  2019-03  Replace Smartcard    Industry Authority Card   \n",
       "3  2019-03  Replace Smartcard    Marine Licence Ind Card   \n",
       "4  2019-03  Replace Smartcard    Marine Licence Ind Card   \n",
       "\n",
       "             Action.Reason  Number.of.transactions  \n",
       "0  Change Customer Details                     156  \n",
       "1                Destroyed                     110  \n",
       "2       Lost In Mail - Imu                      48  \n",
       "3        Managers Approval                       8  \n",
       "4       Lost In Mail - Imu                       7  "
      ]
     },
     "execution_count": 5,
     "metadata": {},
     "output_type": "execute_result"
    }
   ],
   "source": [
    "smartcard.head()"
   ]
  },
  {
   "cell_type": "code",
   "execution_count": 6,
   "id": "078207d2",
   "metadata": {},
   "outputs": [
    {
     "data": {
      "text/plain": [
       "4"
      ]
     },
     "execution_count": 6,
     "metadata": {},
     "output_type": "execute_result"
    }
   ],
   "source": [
    "smartcard['Smartcard.Type'].nunique()"
   ]
  },
  {
   "cell_type": "code",
   "execution_count": 7,
   "id": "f645a0b6",
   "metadata": {},
   "outputs": [
    {
     "name": "stdout",
     "output_type": "stream",
     "text": [
      "['Photo Identification Card' 'Driver Licence Card'\n",
      " 'Industry Authority Card' 'Marine Licence Ind Card']\n"
     ]
    }
   ],
   "source": [
    "print(smartcard['Smartcard.Type'].unique())"
   ]
  },
  {
   "cell_type": "code",
   "execution_count": 8,
   "id": "def1d22a",
   "metadata": {},
   "outputs": [
    {
     "name": "stdout",
     "output_type": "stream",
     "text": [
      "Smartcard.Type\n",
      "Driver Licence Card          1896\n",
      "Photo Identification Card    1631\n",
      "Industry Authority Card      1218\n",
      "Marine Licence Ind Card      1047\n",
      "Name: count, dtype: int64\n"
     ]
    }
   ],
   "source": [
    "print(smartcard['Smartcard.Type'].value_counts())"
   ]
  },
  {
   "cell_type": "markdown",
   "id": "bfd6d65a",
   "metadata": {},
   "source": [
    "#### 2. Plot a barchart of the smartcard types with the bars showing the count of each smartcard type. Which smartcard type is replaced the most?"
   ]
  },
  {
   "cell_type": "code",
   "execution_count": 9,
   "id": "20610775",
   "metadata": {},
   "outputs": [
    {
     "data": {
      "text/plain": [
       "<Axes: xlabel='Smartcard.Type'>"
      ]
     },
     "execution_count": 9,
     "metadata": {},
     "output_type": "execute_result"
    },
    {
     "data": {
      "image/png": "[encoded data removed]",
      "text/plain": [
       "<Figure size 640x480 with 1 Axes>"
      ]
     },
     "metadata": {},
     "output_type": "display_data"
    }
   ],
   "source": [
    "import matplotlib.pyplot as plt\n",
    "%matplotlib inline\n",
    "smartcard['Smartcard.Type'].value_counts().plot(kind='bar')"
   ]
  },
  {
   "cell_type": "markdown",
   "id": "79576559",
   "metadata": {},
   "source": [
    "The driver license card is replaced the most "
   ]
  },
  {
   "cell_type": "markdown",
   "id": "8286b839",
   "metadata": {},
   "source": [
    "#### 3. Calculate the percentage of records for each smartcard type."
   ]
  },
  {
   "cell_type": "code",
   "execution_count": 10,
   "id": "67bbd5c0",
   "metadata": {},
   "outputs": [
    {
     "data": {
      "text/plain": [
       "Smartcard.Type\n",
       "Driver Licence Card          32.7%\n",
       "Photo Identification Card    28.2%\n",
       "Industry Authority Card      21.0%\n",
       "Marine Licence Ind Card      18.1%\n",
       "Name: proportion, dtype: object"
      ]
     },
     "execution_count": 10,
     "metadata": {},
     "output_type": "execute_result"
    }
   ],
   "source": [
    "smartcard['Smartcard.Type'].value_counts(normalize=True).mul(100).round(1).astype(str) + '%'"
   ]
  },
  {
   "cell_type": "markdown",
   "id": "596aff2a",
   "metadata": {},
   "source": [
    "### A2. Exploring Reasons for Smartcard Replacement"
   ]
  },
  {
   "cell_type": "markdown",
   "id": "4796fde3",
   "metadata": {},
   "source": [
    "#### 1. Convert data type of column ‘Month’ to a datetime format.\n",
    "Hint: Use pandas.to_datetime function to convert the type of ‘Month’ column to a datetime format as shown in one of your applied sessions."
   ]
  },
  {
   "cell_type": "code",
   "execution_count": 11,
   "id": "51ce7068",
   "metadata": {},
   "outputs": [
    {
     "data": {
      "text/html": [
       "<div>\n",
       "<style scoped>\n",
       "    .dataframe tbody tr th:only-of-type {\n",
       "        vertical-align: middle;\n",
       "    }\n",
       "\n",
       "    .dataframe tbody tr th {\n",
       "        vertical-align: top;\n",
       "    }\n",
       "\n",
       "    .dataframe thead th {\n",
       "        text-align: right;\n",
       "    }\n",
       "</style>\n",
       "<table border=\"1\" class=\"dataframe\">\n",
       "  <thead>\n",
       "    <tr style=\"text-align: right;\">\n",
       "      <th></th>\n",
       "      <th>Month</th>\n",
       "      <th>Transaction</th>\n",
       "      <th>Smartcard.Type</th>\n",
       "      <th>Action.Reason</th>\n",
       "      <th>Number.of.transactions</th>\n",
       "    </tr>\n",
       "  </thead>\n",
       "  <tbody>\n",
       "    <tr>\n",
       "      <th>0</th>\n",
       "      <td>2019-03</td>\n",
       "      <td>Replace Smartcard</td>\n",
       "      <td>Photo Identification Card</td>\n",
       "      <td>Change Customer Details</td>\n",
       "      <td>156</td>\n",
       "    </tr>\n",
       "    <tr>\n",
       "      <th>1</th>\n",
       "      <td>2019-03</td>\n",
       "      <td>Replace Smartcard</td>\n",
       "      <td>Driver Licence Card</td>\n",
       "      <td>Destroyed</td>\n",
       "      <td>110</td>\n",
       "    </tr>\n",
       "    <tr>\n",
       "      <th>2</th>\n",
       "      <td>2019-03</td>\n",
       "      <td>Replace Smartcard</td>\n",
       "      <td>Industry Authority Card</td>\n",
       "      <td>Lost In Mail - Imu</td>\n",
       "      <td>48</td>\n",
       "    </tr>\n",
       "    <tr>\n",
       "      <th>3</th>\n",
       "      <td>2019-03</td>\n",
       "      <td>Replace Smartcard</td>\n",
       "      <td>Marine Licence Ind Card</td>\n",
       "      <td>Managers Approval</td>\n",
       "      <td>8</td>\n",
       "    </tr>\n",
       "    <tr>\n",
       "      <th>4</th>\n",
       "      <td>2019-03</td>\n",
       "      <td>Replace Smartcard</td>\n",
       "      <td>Marine Licence Ind Card</td>\n",
       "      <td>Lost In Mail - Imu</td>\n",
       "      <td>7</td>\n",
       "    </tr>\n",
       "  </tbody>\n",
       "</table>\n",
       "</div>"
      ],
      "text/plain": [
       "     Month        Transaction             Smartcard.Type  \\\n",
       "0  2019-03  Replace Smartcard  Photo Identification Card   \n",
       "1  2019-03  Replace Smartcard        Driver Licence Card   \n",
       "2  2019-03  Replace Smartcard    Industry Authority Card   \n",
       "3  2019-03  Replace Smartcard    Marine Licence Ind Card   \n",
       "4  2019-03  Replace Smartcard    Marine Licence Ind Card   \n",
       "\n",
       "             Action.Reason  Number.of.transactions  \n",
       "0  Change Customer Details                     156  \n",
       "1                Destroyed                     110  \n",
       "2       Lost In Mail - Imu                      48  \n",
       "3        Managers Approval                       8  \n",
       "4       Lost In Mail - Imu                       7  "
      ]
     },
     "execution_count": 11,
     "metadata": {},
     "output_type": "execute_result"
    }
   ],
   "source": [
    "smartcard.head()"
   ]
  },
  {
   "cell_type": "code",
   "execution_count": 12,
   "id": "f6f3fd52",
   "metadata": {},
   "outputs": [],
   "source": [
    "smartcard.Month = pd.to_datetime(smartcard.Month)"
   ]
  },
  {
   "cell_type": "code",
   "execution_count": 13,
   "id": "3dd36447",
   "metadata": {},
   "outputs": [
    {
     "data": {
      "text/html": [
       "<div>\n",
       "<style scoped>\n",
       "    .dataframe tbody tr th:only-of-type {\n",
       "        vertical-align: middle;\n",
       "    }\n",
       "\n",
       "    .dataframe tbody tr th {\n",
       "        vertical-align: top;\n",
       "    }\n",
       "\n",
       "    .dataframe thead th {\n",
       "        text-align: right;\n",
       "    }\n",
       "</style>\n",
       "<table border=\"1\" class=\"dataframe\">\n",
       "  <thead>\n",
       "    <tr style=\"text-align: right;\">\n",
       "      <th></th>\n",
       "      <th>Month</th>\n",
       "      <th>Transaction</th>\n",
       "      <th>Smartcard.Type</th>\n",
       "      <th>Action.Reason</th>\n",
       "      <th>Number.of.transactions</th>\n",
       "    </tr>\n",
       "  </thead>\n",
       "  <tbody>\n",
       "    <tr>\n",
       "      <th>0</th>\n",
       "      <td>2019-03-01</td>\n",
       "      <td>Replace Smartcard</td>\n",
       "      <td>Photo Identification Card</td>\n",
       "      <td>Change Customer Details</td>\n",
       "      <td>156</td>\n",
       "    </tr>\n",
       "    <tr>\n",
       "      <th>1</th>\n",
       "      <td>2019-03-01</td>\n",
       "      <td>Replace Smartcard</td>\n",
       "      <td>Driver Licence Card</td>\n",
       "      <td>Destroyed</td>\n",
       "      <td>110</td>\n",
       "    </tr>\n",
       "    <tr>\n",
       "      <th>2</th>\n",
       "      <td>2019-03-01</td>\n",
       "      <td>Replace Smartcard</td>\n",
       "      <td>Industry Authority Card</td>\n",
       "      <td>Lost In Mail - Imu</td>\n",
       "      <td>48</td>\n",
       "    </tr>\n",
       "    <tr>\n",
       "      <th>3</th>\n",
       "      <td>2019-03-01</td>\n",
       "      <td>Replace Smartcard</td>\n",
       "      <td>Marine Licence Ind Card</td>\n",
       "      <td>Managers Approval</td>\n",
       "      <td>8</td>\n",
       "    </tr>\n",
       "    <tr>\n",
       "      <th>4</th>\n",
       "      <td>2019-03-01</td>\n",
       "      <td>Replace Smartcard</td>\n",
       "      <td>Marine Licence Ind Card</td>\n",
       "      <td>Lost In Mail - Imu</td>\n",
       "      <td>7</td>\n",
       "    </tr>\n",
       "  </tbody>\n",
       "</table>\n",
       "</div>"
      ],
      "text/plain": [
       "       Month        Transaction             Smartcard.Type  \\\n",
       "0 2019-03-01  Replace Smartcard  Photo Identification Card   \n",
       "1 2019-03-01  Replace Smartcard        Driver Licence Card   \n",
       "2 2019-03-01  Replace Smartcard    Industry Authority Card   \n",
       "3 2019-03-01  Replace Smartcard    Marine Licence Ind Card   \n",
       "4 2019-03-01  Replace Smartcard    Marine Licence Ind Card   \n",
       "\n",
       "             Action.Reason  Number.of.transactions  \n",
       "0  Change Customer Details                     156  \n",
       "1                Destroyed                     110  \n",
       "2       Lost In Mail - Imu                      48  \n",
       "3        Managers Approval                       8  \n",
       "4       Lost In Mail - Imu                       7  "
      ]
     },
     "execution_count": 13,
     "metadata": {},
     "output_type": "execute_result"
    }
   ],
   "source": [
    "smartcard.head()"
   ]
  },
  {
   "cell_type": "code",
   "execution_count": 14,
   "id": "98fcb287",
   "metadata": {},
   "outputs": [
    {
     "name": "stdout",
     "output_type": "stream",
     "text": [
      "datetime64[ns]\n"
     ]
    }
   ],
   "source": [
    "print(smartcard.Month.dtypes)"
   ]
  },
  {
   "cell_type": "markdown",
   "id": "f787c771",
   "metadata": {},
   "source": [
    "#### 2. What are the different reasons for smartcard replacements in the given data and how many instances are observed for each reason? \n",
    "Hint: Check the 'Action.Reason' column."
   ]
  },
  {
   "cell_type": "code",
   "execution_count": 15,
   "id": "1c899bd8",
   "metadata": {},
   "outputs": [
    {
     "name": "stdout",
     "output_type": "stream",
     "text": [
      "['Change Customer Details' 'Destroyed' 'Lost In Mail - Imu'\n",
      " 'Managers Approval' 'Disaster Relief' 'Lost' 'Merged' 'Stolen' 'Damaged'\n",
      " 'Facial Image Is Not A True Likeness' 'Transition Laminate To Smartcard'\n",
      " 'Condition Change' 'Expired' 'Product Exists Othr Surrend Void Cancel'\n",
      " 'Da/dgd Smartcard Replacement Fee Exempt' 'Faulty'\n",
      " 'Court Order Issued X3 Or X4 Condition' 'Marine Licence Transition'\n",
      " 'Defective' 'Remove Gender From Smartcard']\n"
     ]
    }
   ],
   "source": [
    "print(smartcard['Action.Reason'].unique())"
   ]
  },
  {
   "cell_type": "code",
   "execution_count": 16,
   "id": "822d70e3",
   "metadata": {},
   "outputs": [
    {
     "name": "stdout",
     "output_type": "stream",
     "text": [
      "Action.Reason\n",
      "Lost                                       539\n",
      "Managers Approval                          532\n",
      "Change Customer Details                    521\n",
      "Lost In Mail - Imu                         519\n",
      "Stolen                                     471\n",
      "Destroyed                                  379\n",
      "Condition Change                           364\n",
      "Faulty                                     344\n",
      "Damaged                                    342\n",
      "Product Exists Othr Surrend Void Cancel    321\n",
      "Facial Image Is Not A True Likeness        304\n",
      "Transition Laminate To Smartcard           256\n",
      "Merged                                     200\n",
      "Court Order Issued X3 Or X4 Condition      137\n",
      "Da/dgd Smartcard Replacement Fee Exempt    134\n",
      "Expired                                    133\n",
      "Marine Licence Transition                  132\n",
      "Defective                                   88\n",
      "Disaster Relief                             48\n",
      "Remove Gender From Smartcard                28\n",
      "Name: count, dtype: int64\n"
     ]
    }
   ],
   "source": [
    "print(smartcard['Action.Reason'].value_counts())"
   ]
  },
  {
   "cell_type": "markdown",
   "id": "6cefce0f",
   "metadata": {},
   "source": [
    "#### 3. What is the total number of months in which 100 or more smartcard replacements are reported due to being \"Faulty\"?"
   ]
  },
  {
   "cell_type": "code",
   "execution_count": 17,
   "id": "60275f28",
   "metadata": {},
   "outputs": [],
   "source": [
    "filt = (smartcard['Action.Reason'] == 'Faulty') & (smartcard['Number.of.transactions'] >= 100)"
   ]
  },
  {
   "cell_type": "code",
   "execution_count": 18,
   "id": "00e62828",
   "metadata": {},
   "outputs": [
    {
     "data": {
      "text/plain": [
       "0       False\n",
       "1       False\n",
       "2       False\n",
       "3       False\n",
       "4       False\n",
       "        ...  \n",
       "5787    False\n",
       "5788    False\n",
       "5789    False\n",
       "5790    False\n",
       "5791    False\n",
       "Length: 5792, dtype: bool"
      ]
     },
     "execution_count": 18,
     "metadata": {},
     "output_type": "execute_result"
    }
   ],
   "source": [
    "filt"
   ]
  },
  {
   "cell_type": "code",
   "execution_count": 19,
   "id": "a2cc4942",
   "metadata": {},
   "outputs": [
    {
     "ename": "AttributeError",
     "evalue": "'numpy.bool_' object has no attribute 'count'",
     "output_type": "error",
     "traceback": [
      "\u001b[0;31m---------------------------------------------------------------------------\u001b[0m",
      "\u001b[0;31mAttributeError\u001b[0m                            Traceback (most recent call last)",
      "Cell \u001b[0;32mIn[19], line 1\u001b[0m\n\u001b[0;32m----> 1\u001b[0m \u001b[43mfilt\u001b[49m\u001b[43m[\u001b[49m\u001b[38;5;241;43m1\u001b[39;49m\u001b[43m]\u001b[49m\u001b[38;5;241;43m.\u001b[39;49m\u001b[43mcount\u001b[49m(\u001b[38;5;28;01mTrue\u001b[39;00m)\n",
      "\u001b[0;31mAttributeError\u001b[0m: 'numpy.bool_' object has no attribute 'count'"
     ]
    }
   ],
   "source": [
    "filt[1].count(True)"
   ]
  },
  {
   "cell_type": "code",
   "execution_count": 21,
   "id": "fe476e98",
   "metadata": {},
   "outputs": [
    {
     "data": {
      "text/plain": [
       "Month                     59\n",
       "Transaction               59\n",
       "Smartcard.Type            59\n",
       "Action.Reason             59\n",
       "Number.of.transactions    59\n",
       "dtype: int64"
      ]
     },
     "execution_count": 21,
     "metadata": {},
     "output_type": "execute_result"
    }
   ],
   "source": [
    "df2 = smartcard.loc[(smartcard['Action.Reason'] == 'Faulty') & (smartcard['Number.of.transactions'] >= 100)]\n",
    "df2.count()"
   ]
  },
  {
   "cell_type": "code",
   "execution_count": 24,
   "id": "213408a8",
   "metadata": {},
   "outputs": [
    {
     "data": {
      "text/html": [
       "<div>\n",
       "<style scoped>\n",
       "    .dataframe tbody tr th:only-of-type {\n",
       "        vertical-align: middle;\n",
       "    }\n",
       "\n",
       "    .dataframe tbody tr th {\n",
       "        vertical-align: top;\n",
       "    }\n",
       "\n",
       "    .dataframe thead th {\n",
       "        text-align: right;\n",
       "    }\n",
       "</style>\n",
       "<table border=\"1\" class=\"dataframe\">\n",
       "  <thead>\n",
       "    <tr style=\"text-align: right;\">\n",
       "      <th></th>\n",
       "      <th>Month</th>\n",
       "      <th>Transaction</th>\n",
       "      <th>Smartcard.Type</th>\n",
       "      <th>Action.Reason</th>\n",
       "      <th>Number.of.transactions</th>\n",
       "    </tr>\n",
       "  </thead>\n",
       "  <tbody>\n",
       "    <tr>\n",
       "      <th>204</th>\n",
       "      <td>2012-05-01</td>\n",
       "      <td>Replace Smartcard</td>\n",
       "      <td>Driver Licence Card</td>\n",
       "      <td>Faulty</td>\n",
       "      <td>405</td>\n",
       "    </tr>\n",
       "    <tr>\n",
       "      <th>221</th>\n",
       "      <td>2012-07-01</td>\n",
       "      <td>Replace Smartcard</td>\n",
       "      <td>Driver Licence Card</td>\n",
       "      <td>Faulty</td>\n",
       "      <td>331</td>\n",
       "    </tr>\n",
       "    <tr>\n",
       "      <th>232</th>\n",
       "      <td>2012-10-01</td>\n",
       "      <td>Replace Smartcard</td>\n",
       "      <td>Driver Licence Card</td>\n",
       "      <td>Faulty</td>\n",
       "      <td>293</td>\n",
       "    </tr>\n",
       "    <tr>\n",
       "      <th>418</th>\n",
       "      <td>2015-06-01</td>\n",
       "      <td>Replace Smartcard</td>\n",
       "      <td>Driver Licence Card</td>\n",
       "      <td>Faulty</td>\n",
       "      <td>129</td>\n",
       "    </tr>\n",
       "    <tr>\n",
       "      <th>486</th>\n",
       "      <td>2016-01-01</td>\n",
       "      <td>Replace Smartcard</td>\n",
       "      <td>Driver Licence Card</td>\n",
       "      <td>Faulty</td>\n",
       "      <td>114</td>\n",
       "    </tr>\n",
       "    <tr>\n",
       "      <th>896</th>\n",
       "      <td>2011-10-01</td>\n",
       "      <td>Replace Smartcard</td>\n",
       "      <td>Industry Authority Card</td>\n",
       "      <td>Faulty</td>\n",
       "      <td>170</td>\n",
       "    </tr>\n",
       "    <tr>\n",
       "      <th>930</th>\n",
       "      <td>2012-04-01</td>\n",
       "      <td>Replace Smartcard</td>\n",
       "      <td>Driver Licence Card</td>\n",
       "      <td>Faulty</td>\n",
       "      <td>301</td>\n",
       "    </tr>\n",
       "    <tr>\n",
       "      <th>954</th>\n",
       "      <td>2012-08-01</td>\n",
       "      <td>Replace Smartcard</td>\n",
       "      <td>Driver Licence Card</td>\n",
       "      <td>Faulty</td>\n",
       "      <td>323</td>\n",
       "    </tr>\n",
       "    <tr>\n",
       "      <th>963</th>\n",
       "      <td>2012-09-01</td>\n",
       "      <td>Replace Smartcard</td>\n",
       "      <td>Driver Licence Card</td>\n",
       "      <td>Faulty</td>\n",
       "      <td>257</td>\n",
       "    </tr>\n",
       "    <tr>\n",
       "      <th>969</th>\n",
       "      <td>2012-11-01</td>\n",
       "      <td>Replace Smartcard</td>\n",
       "      <td>Driver Licence Card</td>\n",
       "      <td>Faulty</td>\n",
       "      <td>292</td>\n",
       "    </tr>\n",
       "    <tr>\n",
       "      <th>1001</th>\n",
       "      <td>2013-05-01</td>\n",
       "      <td>Replace Smartcard</td>\n",
       "      <td>Driver Licence Card</td>\n",
       "      <td>Faulty</td>\n",
       "      <td>187</td>\n",
       "    </tr>\n",
       "    <tr>\n",
       "      <th>1066</th>\n",
       "      <td>2014-05-01</td>\n",
       "      <td>Replace Smartcard</td>\n",
       "      <td>Driver Licence Card</td>\n",
       "      <td>Faulty</td>\n",
       "      <td>163</td>\n",
       "    </tr>\n",
       "    <tr>\n",
       "      <th>1073</th>\n",
       "      <td>2014-06-01</td>\n",
       "      <td>Replace Smartcard</td>\n",
       "      <td>Driver Licence Card</td>\n",
       "      <td>Faulty</td>\n",
       "      <td>140</td>\n",
       "    </tr>\n",
       "    <tr>\n",
       "      <th>1078</th>\n",
       "      <td>2014-07-01</td>\n",
       "      <td>Replace Smartcard</td>\n",
       "      <td>Driver Licence Card</td>\n",
       "      <td>Faulty</td>\n",
       "      <td>170</td>\n",
       "    </tr>\n",
       "    <tr>\n",
       "      <th>1087</th>\n",
       "      <td>2014-08-01</td>\n",
       "      <td>Replace Smartcard</td>\n",
       "      <td>Driver Licence Card</td>\n",
       "      <td>Faulty</td>\n",
       "      <td>159</td>\n",
       "    </tr>\n",
       "    <tr>\n",
       "      <th>1103</th>\n",
       "      <td>2014-11-01</td>\n",
       "      <td>Replace Smartcard</td>\n",
       "      <td>Driver Licence Card</td>\n",
       "      <td>Faulty</td>\n",
       "      <td>137</td>\n",
       "    </tr>\n",
       "    <tr>\n",
       "      <th>1110</th>\n",
       "      <td>2015-01-01</td>\n",
       "      <td>Replace Smartcard</td>\n",
       "      <td>Driver Licence Card</td>\n",
       "      <td>Faulty</td>\n",
       "      <td>131</td>\n",
       "    </tr>\n",
       "    <tr>\n",
       "      <th>1121</th>\n",
       "      <td>2015-04-01</td>\n",
       "      <td>Replace Smartcard</td>\n",
       "      <td>Driver Licence Card</td>\n",
       "      <td>Faulty</td>\n",
       "      <td>113</td>\n",
       "    </tr>\n",
       "    <tr>\n",
       "      <th>1588</th>\n",
       "      <td>2011-06-01</td>\n",
       "      <td>Replace Smartcard</td>\n",
       "      <td>Driver Licence Card</td>\n",
       "      <td>Faulty</td>\n",
       "      <td>184</td>\n",
       "    </tr>\n",
       "    <tr>\n",
       "      <th>1636</th>\n",
       "      <td>2011-11-01</td>\n",
       "      <td>Replace Smartcard</td>\n",
       "      <td>Driver Licence Card</td>\n",
       "      <td>Faulty</td>\n",
       "      <td>334</td>\n",
       "    </tr>\n",
       "    <tr>\n",
       "      <th>1650</th>\n",
       "      <td>2012-01-01</td>\n",
       "      <td>Replace Smartcard</td>\n",
       "      <td>Driver Licence Card</td>\n",
       "      <td>Faulty</td>\n",
       "      <td>367</td>\n",
       "    </tr>\n",
       "    <tr>\n",
       "      <th>1654</th>\n",
       "      <td>2012-01-01</td>\n",
       "      <td>Replace Smartcard</td>\n",
       "      <td>Industry Authority Card</td>\n",
       "      <td>Faulty</td>\n",
       "      <td>103</td>\n",
       "    </tr>\n",
       "    <tr>\n",
       "      <th>1658</th>\n",
       "      <td>2012-02-01</td>\n",
       "      <td>Replace Smartcard</td>\n",
       "      <td>Industry Authority Card</td>\n",
       "      <td>Faulty</td>\n",
       "      <td>140</td>\n",
       "    </tr>\n",
       "    <tr>\n",
       "      <th>1747</th>\n",
       "      <td>2013-08-01</td>\n",
       "      <td>Replace Smartcard</td>\n",
       "      <td>Driver Licence Card</td>\n",
       "      <td>Faulty</td>\n",
       "      <td>211</td>\n",
       "    </tr>\n",
       "    <tr>\n",
       "      <th>1776</th>\n",
       "      <td>2014-01-01</td>\n",
       "      <td>Replace Smartcard</td>\n",
       "      <td>Driver Licence Card</td>\n",
       "      <td>Faulty</td>\n",
       "      <td>197</td>\n",
       "    </tr>\n",
       "    <tr>\n",
       "      <th>1782</th>\n",
       "      <td>2014-02-01</td>\n",
       "      <td>Replace Smartcard</td>\n",
       "      <td>Driver Licence Card</td>\n",
       "      <td>Faulty</td>\n",
       "      <td>199</td>\n",
       "    </tr>\n",
       "    <tr>\n",
       "      <th>1953</th>\n",
       "      <td>2016-02-01</td>\n",
       "      <td>Replace Smartcard</td>\n",
       "      <td>Driver Licence Card</td>\n",
       "      <td>Faulty</td>\n",
       "      <td>115</td>\n",
       "    </tr>\n",
       "    <tr>\n",
       "      <th>1993</th>\n",
       "      <td>2016-06-01</td>\n",
       "      <td>Replace Smartcard</td>\n",
       "      <td>Driver Licence Card</td>\n",
       "      <td>Faulty</td>\n",
       "      <td>103</td>\n",
       "    </tr>\n",
       "    <tr>\n",
       "      <th>2371</th>\n",
       "      <td>2011-12-01</td>\n",
       "      <td>Replace Smartcard</td>\n",
       "      <td>Driver Licence Card</td>\n",
       "      <td>Faulty</td>\n",
       "      <td>334</td>\n",
       "    </tr>\n",
       "    <tr>\n",
       "      <th>2381</th>\n",
       "      <td>2012-02-01</td>\n",
       "      <td>Replace Smartcard</td>\n",
       "      <td>Driver Licence Card</td>\n",
       "      <td>Faulty</td>\n",
       "      <td>333</td>\n",
       "    </tr>\n",
       "    <tr>\n",
       "      <th>2386</th>\n",
       "      <td>2012-03-01</td>\n",
       "      <td>Replace Smartcard</td>\n",
       "      <td>Driver Licence Card</td>\n",
       "      <td>Faulty</td>\n",
       "      <td>338</td>\n",
       "    </tr>\n",
       "    <tr>\n",
       "      <th>2400</th>\n",
       "      <td>2012-06-01</td>\n",
       "      <td>Replace Smartcard</td>\n",
       "      <td>Driver Licence Card</td>\n",
       "      <td>Faulty</td>\n",
       "      <td>326</td>\n",
       "    </tr>\n",
       "    <tr>\n",
       "      <th>2467</th>\n",
       "      <td>2013-04-01</td>\n",
       "      <td>Replace Smartcard</td>\n",
       "      <td>Driver Licence Card</td>\n",
       "      <td>Faulty</td>\n",
       "      <td>218</td>\n",
       "    </tr>\n",
       "    <tr>\n",
       "      <th>2480</th>\n",
       "      <td>2013-07-01</td>\n",
       "      <td>Replace Smartcard</td>\n",
       "      <td>Driver Licence Card</td>\n",
       "      <td>Faulty</td>\n",
       "      <td>199</td>\n",
       "    </tr>\n",
       "    <tr>\n",
       "      <th>2553</th>\n",
       "      <td>2014-09-01</td>\n",
       "      <td>Replace Smartcard</td>\n",
       "      <td>Driver Licence Card</td>\n",
       "      <td>Faulty</td>\n",
       "      <td>144</td>\n",
       "    </tr>\n",
       "    <tr>\n",
       "      <th>2595</th>\n",
       "      <td>2015-03-01</td>\n",
       "      <td>Replace Smartcard</td>\n",
       "      <td>Driver Licence Card</td>\n",
       "      <td>Faulty</td>\n",
       "      <td>113</td>\n",
       "    </tr>\n",
       "    <tr>\n",
       "      <th>2649</th>\n",
       "      <td>2015-09-01</td>\n",
       "      <td>Replace Smartcard</td>\n",
       "      <td>Driver Licence Card</td>\n",
       "      <td>Faulty</td>\n",
       "      <td>103</td>\n",
       "    </tr>\n",
       "    <tr>\n",
       "      <th>3043</th>\n",
       "      <td>2011-09-01</td>\n",
       "      <td>Replace Smartcard</td>\n",
       "      <td>Driver Licence Card</td>\n",
       "      <td>Faulty</td>\n",
       "      <td>177</td>\n",
       "    </tr>\n",
       "    <tr>\n",
       "      <th>3257</th>\n",
       "      <td>2015-02-01</td>\n",
       "      <td>Replace Smartcard</td>\n",
       "      <td>Driver Licence Card</td>\n",
       "      <td>Faulty</td>\n",
       "      <td>125</td>\n",
       "    </tr>\n",
       "    <tr>\n",
       "      <th>3280</th>\n",
       "      <td>2015-05-01</td>\n",
       "      <td>Replace Smartcard</td>\n",
       "      <td>Driver Licence Card</td>\n",
       "      <td>Faulty</td>\n",
       "      <td>122</td>\n",
       "    </tr>\n",
       "    <tr>\n",
       "      <th>3311</th>\n",
       "      <td>2015-10-01</td>\n",
       "      <td>Replace Smartcard</td>\n",
       "      <td>Driver Licence Card</td>\n",
       "      <td>Faulty</td>\n",
       "      <td>114</td>\n",
       "    </tr>\n",
       "    <tr>\n",
       "      <th>3738</th>\n",
       "      <td>2010-12-01</td>\n",
       "      <td>Replace Smartcard</td>\n",
       "      <td>Driver Licence Card</td>\n",
       "      <td>Faulty</td>\n",
       "      <td>116</td>\n",
       "    </tr>\n",
       "    <tr>\n",
       "      <th>3775</th>\n",
       "      <td>2011-10-01</td>\n",
       "      <td>Replace Smartcard</td>\n",
       "      <td>Driver Licence Card</td>\n",
       "      <td>Faulty</td>\n",
       "      <td>159</td>\n",
       "    </tr>\n",
       "    <tr>\n",
       "      <th>3906</th>\n",
       "      <td>2013-09-01</td>\n",
       "      <td>Replace Smartcard</td>\n",
       "      <td>Driver Licence Card</td>\n",
       "      <td>Faulty</td>\n",
       "      <td>214</td>\n",
       "    </tr>\n",
       "    <tr>\n",
       "      <th>4028</th>\n",
       "      <td>2015-07-01</td>\n",
       "      <td>Replace Smartcard</td>\n",
       "      <td>Driver Licence Card</td>\n",
       "      <td>Faulty</td>\n",
       "      <td>147</td>\n",
       "    </tr>\n",
       "    <tr>\n",
       "      <th>4430</th>\n",
       "      <td>2010-11-01</td>\n",
       "      <td>Replace Smartcard</td>\n",
       "      <td>Driver Licence Card</td>\n",
       "      <td>Faulty</td>\n",
       "      <td>114</td>\n",
       "    </tr>\n",
       "    <tr>\n",
       "      <th>4550</th>\n",
       "      <td>2012-12-01</td>\n",
       "      <td>Replace Smartcard</td>\n",
       "      <td>Driver Licence Card</td>\n",
       "      <td>Faulty</td>\n",
       "      <td>214</td>\n",
       "    </tr>\n",
       "    <tr>\n",
       "      <th>4559</th>\n",
       "      <td>2013-02-01</td>\n",
       "      <td>Replace Smartcard</td>\n",
       "      <td>Driver Licence Card</td>\n",
       "      <td>Faulty</td>\n",
       "      <td>220</td>\n",
       "    </tr>\n",
       "    <tr>\n",
       "      <th>4603</th>\n",
       "      <td>2013-10-01</td>\n",
       "      <td>Replace Smartcard</td>\n",
       "      <td>Driver Licence Card</td>\n",
       "      <td>Faulty</td>\n",
       "      <td>179</td>\n",
       "    </tr>\n",
       "    <tr>\n",
       "      <th>4608</th>\n",
       "      <td>2013-11-01</td>\n",
       "      <td>Replace Smartcard</td>\n",
       "      <td>Driver Licence Card</td>\n",
       "      <td>Faulty</td>\n",
       "      <td>193</td>\n",
       "    </tr>\n",
       "    <tr>\n",
       "      <th>4613</th>\n",
       "      <td>2013-12-01</td>\n",
       "      <td>Replace Smartcard</td>\n",
       "      <td>Driver Licence Card</td>\n",
       "      <td>Faulty</td>\n",
       "      <td>161</td>\n",
       "    </tr>\n",
       "    <tr>\n",
       "      <th>5300</th>\n",
       "      <td>2013-01-01</td>\n",
       "      <td>Replace Smartcard</td>\n",
       "      <td>Driver Licence Card</td>\n",
       "      <td>Faulty</td>\n",
       "      <td>240</td>\n",
       "    </tr>\n",
       "    <tr>\n",
       "      <th>5315</th>\n",
       "      <td>2013-03-01</td>\n",
       "      <td>Replace Smartcard</td>\n",
       "      <td>Driver Licence Card</td>\n",
       "      <td>Faulty</td>\n",
       "      <td>225</td>\n",
       "    </tr>\n",
       "    <tr>\n",
       "      <th>5335</th>\n",
       "      <td>2013-06-01</td>\n",
       "      <td>Replace Smartcard</td>\n",
       "      <td>Driver Licence Card</td>\n",
       "      <td>Faulty</td>\n",
       "      <td>203</td>\n",
       "    </tr>\n",
       "    <tr>\n",
       "      <th>5373</th>\n",
       "      <td>2014-03-01</td>\n",
       "      <td>Replace Smartcard</td>\n",
       "      <td>Driver Licence Card</td>\n",
       "      <td>Faulty</td>\n",
       "      <td>164</td>\n",
       "    </tr>\n",
       "    <tr>\n",
       "      <th>5378</th>\n",
       "      <td>2014-04-01</td>\n",
       "      <td>Replace Smartcard</td>\n",
       "      <td>Driver Licence Card</td>\n",
       "      <td>Faulty</td>\n",
       "      <td>162</td>\n",
       "    </tr>\n",
       "    <tr>\n",
       "      <th>5409</th>\n",
       "      <td>2014-10-01</td>\n",
       "      <td>Replace Smartcard</td>\n",
       "      <td>Driver Licence Card</td>\n",
       "      <td>Faulty</td>\n",
       "      <td>157</td>\n",
       "    </tr>\n",
       "    <tr>\n",
       "      <th>5418</th>\n",
       "      <td>2014-12-01</td>\n",
       "      <td>Replace Smartcard</td>\n",
       "      <td>Driver Licence Card</td>\n",
       "      <td>Faulty</td>\n",
       "      <td>133</td>\n",
       "    </tr>\n",
       "    <tr>\n",
       "      <th>5505</th>\n",
       "      <td>2015-11-01</td>\n",
       "      <td>Replace Smartcard</td>\n",
       "      <td>Driver Licence Card</td>\n",
       "      <td>Faulty</td>\n",
       "      <td>126</td>\n",
       "    </tr>\n",
       "  </tbody>\n",
       "</table>\n",
       "</div>"
      ],
      "text/plain": [
       "          Month        Transaction           Smartcard.Type Action.Reason  \\\n",
       "204  2012-05-01  Replace Smartcard      Driver Licence Card        Faulty   \n",
       "221  2012-07-01  Replace Smartcard      Driver Licence Card        Faulty   \n",
       "232  2012-10-01  Replace Smartcard      Driver Licence Card        Faulty   \n",
       "418  2015-06-01  Replace Smartcard      Driver Licence Card        Faulty   \n",
       "486  2016-01-01  Replace Smartcard      Driver Licence Card        Faulty   \n",
       "896  2011-10-01  Replace Smartcard  Industry Authority Card        Faulty   \n",
       "930  2012-04-01  Replace Smartcard      Driver Licence Card        Faulty   \n",
       "954  2012-08-01  Replace Smartcard      Driver Licence Card        Faulty   \n",
       "963  2012-09-01  Replace Smartcard      Driver Licence Card        Faulty   \n",
       "969  2012-11-01  Replace Smartcard      Driver Licence Card        Faulty   \n",
       "1001 2013-05-01  Replace Smartcard      Driver Licence Card        Faulty   \n",
       "1066 2014-05-01  Replace Smartcard      Driver Licence Card        Faulty   \n",
       "1073 2014-06-01  Replace Smartcard      Driver Licence Card        Faulty   \n",
       "1078 2014-07-01  Replace Smartcard      Driver Licence Card        Faulty   \n",
       "1087 2014-08-01  Replace Smartcard      Driver Licence Card        Faulty   \n",
       "1103 2014-11-01  Replace Smartcard      Driver Licence Card        Faulty   \n",
       "1110 2015-01-01  Replace Smartcard      Driver Licence Card        Faulty   \n",
       "1121 2015-04-01  Replace Smartcard      Driver Licence Card        Faulty   \n",
       "1588 2011-06-01  Replace Smartcard      Driver Licence Card        Faulty   \n",
       "1636 2011-11-01  Replace Smartcard      Driver Licence Card        Faulty   \n",
       "1650 2012-01-01  Replace Smartcard      Driver Licence Card        Faulty   \n",
       "1654 2012-01-01  Replace Smartcard  Industry Authority Card        Faulty   \n",
       "1658 2012-02-01  Replace Smartcard  Industry Authority Card        Faulty   \n",
       "1747 2013-08-01  Replace Smartcard      Driver Licence Card        Faulty   \n",
       "1776 2014-01-01  Replace Smartcard      Driver Licence Card        Faulty   \n",
       "1782 2014-02-01  Replace Smartcard      Driver Licence Card        Faulty   \n",
       "1953 2016-02-01  Replace Smartcard      Driver Licence Card        Faulty   \n",
       "1993 2016-06-01  Replace Smartcard      Driver Licence Card        Faulty   \n",
       "2371 2011-12-01  Replace Smartcard      Driver Licence Card        Faulty   \n",
       "2381 2012-02-01  Replace Smartcard      Driver Licence Card        Faulty   \n",
       "2386 2012-03-01  Replace Smartcard      Driver Licence Card        Faulty   \n",
       "2400 2012-06-01  Replace Smartcard      Driver Licence Card        Faulty   \n",
       "2467 2013-04-01  Replace Smartcard      Driver Licence Card        Faulty   \n",
       "2480 2013-07-01  Replace Smartcard      Driver Licence Card        Faulty   \n",
       "2553 2014-09-01  Replace Smartcard      Driver Licence Card        Faulty   \n",
       "2595 2015-03-01  Replace Smartcard      Driver Licence Card        Faulty   \n",
       "2649 2015-09-01  Replace Smartcard      Driver Licence Card        Faulty   \n",
       "3043 2011-09-01  Replace Smartcard      Driver Licence Card        Faulty   \n",
       "3257 2015-02-01  Replace Smartcard      Driver Licence Card        Faulty   \n",
       "3280 2015-05-01  Replace Smartcard      Driver Licence Card        Faulty   \n",
       "3311 2015-10-01  Replace Smartcard      Driver Licence Card        Faulty   \n",
       "3738 2010-12-01  Replace Smartcard      Driver Licence Card        Faulty   \n",
       "3775 2011-10-01  Replace Smartcard      Driver Licence Card        Faulty   \n",
       "3906 2013-09-01  Replace Smartcard      Driver Licence Card        Faulty   \n",
       "4028 2015-07-01  Replace Smartcard      Driver Licence Card        Faulty   \n",
       "4430 2010-11-01  Replace Smartcard      Driver Licence Card        Faulty   \n",
       "4550 2012-12-01  Replace Smartcard      Driver Licence Card        Faulty   \n",
       "4559 2013-02-01  Replace Smartcard      Driver Licence Card        Faulty   \n",
       "4603 2013-10-01  Replace Smartcard      Driver Licence Card        Faulty   \n",
       "4608 2013-11-01  Replace Smartcard      Driver Licence Card        Faulty   \n",
       "4613 2013-12-01  Replace Smartcard      Driver Licence Card        Faulty   \n",
       "5300 2013-01-01  Replace Smartcard      Driver Licence Card        Faulty   \n",
       "5315 2013-03-01  Replace Smartcard      Driver Licence Card        Faulty   \n",
       "5335 2013-06-01  Replace Smartcard      Driver Licence Card        Faulty   \n",
       "5373 2014-03-01  Replace Smartcard      Driver Licence Card        Faulty   \n",
       "5378 2014-04-01  Replace Smartcard      Driver Licence Card        Faulty   \n",
       "5409 2014-10-01  Replace Smartcard      Driver Licence Card        Faulty   \n",
       "5418 2014-12-01  Replace Smartcard      Driver Licence Card        Faulty   \n",
       "5505 2015-11-01  Replace Smartcard      Driver Licence Card        Faulty   \n",
       "\n",
       "      Number.of.transactions  \n",
       "204                      405  \n",
       "221                      331  \n",
       "232                      293  \n",
       "418                      129  \n",
       "486                      114  \n",
       "896                      170  \n",
       "930                      301  \n",
       "954                      323  \n",
       "963                      257  \n",
       "969                      292  \n",
       "1001                     187  \n",
       "1066                     163  \n",
       "1073                     140  \n",
       "1078                     170  \n",
       "1087                     159  \n",
       "1103                     137  \n",
       "1110                     131  \n",
       "1121                     113  \n",
       "1588                     184  \n",
       "1636                     334  \n",
       "1650                     367  \n",
       "1654                     103  \n",
       "1658                     140  \n",
       "1747                     211  \n",
       "1776                     197  \n",
       "1782                     199  \n",
       "1953                     115  \n",
       "1993                     103  \n",
       "2371                     334  \n",
       "2381                     333  \n",
       "2386                     338  \n",
       "2400                     326  \n",
       "2467                     218  \n",
       "2480                     199  \n",
       "2553                     144  \n",
       "2595                     113  \n",
       "2649                     103  \n",
       "3043                     177  \n",
       "3257                     125  \n",
       "3280                     122  \n",
       "3311                     114  \n",
       "3738                     116  \n",
       "3775                     159  \n",
       "3906                     214  \n",
       "4028                     147  \n",
       "4430                     114  \n",
       "4550                     214  \n",
       "4559                     220  \n",
       "4603                     179  \n",
       "4608                     193  \n",
       "4613                     161  \n",
       "5300                     240  \n",
       "5315                     225  \n",
       "5335                     203  \n",
       "5373                     164  \n",
       "5378                     162  \n",
       "5409                     157  \n",
       "5418                     133  \n",
       "5505                     126  "
      ]
     },
     "execution_count": 24,
     "metadata": {},
     "output_type": "execute_result"
    }
   ],
   "source": [
    "df2"
   ]
  },
  {
   "cell_type": "code",
   "execution_count": 23,
   "id": "70c92317",
   "metadata": {},
   "outputs": [
    {
     "data": {
      "text/plain": [
       "59"
      ]
     },
     "execution_count": 23,
     "metadata": {},
     "output_type": "execute_result"
    }
   ],
   "source": [
    "len(smartcard[(smartcard['Action.Reason'] == 'Faulty') & (smartcard['Number.of.transactions'] >= 100)])"
   ]
  },
  {
   "cell_type": "code",
   "execution_count": null,
   "id": "f6fa4d6f",
   "metadata": {},
   "outputs": [],
   "source": [
    "smartcard.head()"
   ]
  },
  {
   "cell_type": "markdown",
   "id": "1015b70d",
   "metadata": {},
   "source": [
    "### A3. Investigating Annual Smartcard Replacements"
   ]
  },
  {
   "cell_type": "markdown",
   "id": "fcf703e4",
   "metadata": {},
   "source": [
    "#### 1. Create a new column named 'Year' extracting the year from the 'Month' column.\n",
    "Hint: you can extract year from column ‘Month’ using method .dt.year and create a\n",
    "new column for year as follows:\n",
    ">>> your_dataframe['Year']=your_dataframe['Month'].dt.year"
   ]
  },
  {
   "cell_type": "code",
   "execution_count": 26,
   "id": "022d18ab",
   "metadata": {},
   "outputs": [],
   "source": [
    "smartcard['Year']=smartcard['Month'].dt.year"
   ]
  },
  {
   "cell_type": "code",
   "execution_count": 27,
   "id": "d0af279a",
   "metadata": {},
   "outputs": [
    {
     "data": {
      "text/html": [
       "<div>\n",
       "<style scoped>\n",
       "    .dataframe tbody tr th:only-of-type {\n",
       "        vertical-align: middle;\n",
       "    }\n",
       "\n",
       "    .dataframe tbody tr th {\n",
       "        vertical-align: top;\n",
       "    }\n",
       "\n",
       "    .dataframe thead th {\n",
       "        text-align: right;\n",
       "    }\n",
       "</style>\n",
       "<table border=\"1\" class=\"dataframe\">\n",
       "  <thead>\n",
       "    <tr style=\"text-align: right;\">\n",
       "      <th></th>\n",
       "      <th>Month</th>\n",
       "      <th>Transaction</th>\n",
       "      <th>Smartcard.Type</th>\n",
       "      <th>Action.Reason</th>\n",
       "      <th>Number.of.transactions</th>\n",
       "      <th>Year</th>\n",
       "    </tr>\n",
       "  </thead>\n",
       "  <tbody>\n",
       "    <tr>\n",
       "      <th>0</th>\n",
       "      <td>2019-03-01</td>\n",
       "      <td>Replace Smartcard</td>\n",
       "      <td>Photo Identification Card</td>\n",
       "      <td>Change Customer Details</td>\n",
       "      <td>156</td>\n",
       "      <td>2019</td>\n",
       "    </tr>\n",
       "    <tr>\n",
       "      <th>1</th>\n",
       "      <td>2019-03-01</td>\n",
       "      <td>Replace Smartcard</td>\n",
       "      <td>Driver Licence Card</td>\n",
       "      <td>Destroyed</td>\n",
       "      <td>110</td>\n",
       "      <td>2019</td>\n",
       "    </tr>\n",
       "    <tr>\n",
       "      <th>2</th>\n",
       "      <td>2019-03-01</td>\n",
       "      <td>Replace Smartcard</td>\n",
       "      <td>Industry Authority Card</td>\n",
       "      <td>Lost In Mail - Imu</td>\n",
       "      <td>48</td>\n",
       "      <td>2019</td>\n",
       "    </tr>\n",
       "    <tr>\n",
       "      <th>3</th>\n",
       "      <td>2019-03-01</td>\n",
       "      <td>Replace Smartcard</td>\n",
       "      <td>Marine Licence Ind Card</td>\n",
       "      <td>Managers Approval</td>\n",
       "      <td>8</td>\n",
       "      <td>2019</td>\n",
       "    </tr>\n",
       "    <tr>\n",
       "      <th>4</th>\n",
       "      <td>2019-03-01</td>\n",
       "      <td>Replace Smartcard</td>\n",
       "      <td>Marine Licence Ind Card</td>\n",
       "      <td>Lost In Mail - Imu</td>\n",
       "      <td>7</td>\n",
       "      <td>2019</td>\n",
       "    </tr>\n",
       "    <tr>\n",
       "      <th>...</th>\n",
       "      <td>...</td>\n",
       "      <td>...</td>\n",
       "      <td>...</td>\n",
       "      <td>...</td>\n",
       "      <td>...</td>\n",
       "      <td>...</td>\n",
       "    </tr>\n",
       "    <tr>\n",
       "      <th>5787</th>\n",
       "      <td>2020-11-01</td>\n",
       "      <td>Replace Smartcard</td>\n",
       "      <td>Photo Identification Card</td>\n",
       "      <td>Remove Gender From Smartcard</td>\n",
       "      <td>1</td>\n",
       "      <td>2020</td>\n",
       "    </tr>\n",
       "    <tr>\n",
       "      <th>5788</th>\n",
       "      <td>2020-12-01</td>\n",
       "      <td>Replace Smartcard</td>\n",
       "      <td>Marine Licence Ind Card</td>\n",
       "      <td>Stolen</td>\n",
       "      <td>1</td>\n",
       "      <td>2020</td>\n",
       "    </tr>\n",
       "    <tr>\n",
       "      <th>5789</th>\n",
       "      <td>2021-07-01</td>\n",
       "      <td>Replace Smartcard</td>\n",
       "      <td>Marine Licence Ind Card</td>\n",
       "      <td>Stolen</td>\n",
       "      <td>1</td>\n",
       "      <td>2021</td>\n",
       "    </tr>\n",
       "    <tr>\n",
       "      <th>5790</th>\n",
       "      <td>2021-07-01</td>\n",
       "      <td>Replace Smartcard</td>\n",
       "      <td>Photo Identification Card</td>\n",
       "      <td>Merged</td>\n",
       "      <td>1</td>\n",
       "      <td>2021</td>\n",
       "    </tr>\n",
       "    <tr>\n",
       "      <th>5791</th>\n",
       "      <td>2021-12-01</td>\n",
       "      <td>Replace Smartcard</td>\n",
       "      <td>Driver Licence Card</td>\n",
       "      <td>Transition Laminate To Smartcard</td>\n",
       "      <td>2</td>\n",
       "      <td>2021</td>\n",
       "    </tr>\n",
       "  </tbody>\n",
       "</table>\n",
       "<p>5792 rows × 6 columns</p>\n",
       "</div>"
      ],
      "text/plain": [
       "          Month        Transaction             Smartcard.Type  \\\n",
       "0    2019-03-01  Replace Smartcard  Photo Identification Card   \n",
       "1    2019-03-01  Replace Smartcard        Driver Licence Card   \n",
       "2    2019-03-01  Replace Smartcard    Industry Authority Card   \n",
       "3    2019-03-01  Replace Smartcard    Marine Licence Ind Card   \n",
       "4    2019-03-01  Replace Smartcard    Marine Licence Ind Card   \n",
       "...         ...                ...                        ...   \n",
       "5787 2020-11-01  Replace Smartcard  Photo Identification Card   \n",
       "5788 2020-12-01  Replace Smartcard    Marine Licence Ind Card   \n",
       "5789 2021-07-01  Replace Smartcard    Marine Licence Ind Card   \n",
       "5790 2021-07-01  Replace Smartcard  Photo Identification Card   \n",
       "5791 2021-12-01  Replace Smartcard        Driver Licence Card   \n",
       "\n",
       "                         Action.Reason  Number.of.transactions  Year  \n",
       "0              Change Customer Details                     156  2019  \n",
       "1                            Destroyed                     110  2019  \n",
       "2                   Lost In Mail - Imu                      48  2019  \n",
       "3                    Managers Approval                       8  2019  \n",
       "4                   Lost In Mail - Imu                       7  2019  \n",
       "...                                ...                     ...   ...  \n",
       "5787      Remove Gender From Smartcard                       1  2020  \n",
       "5788                            Stolen                       1  2020  \n",
       "5789                            Stolen                       1  2021  \n",
       "5790                            Merged                       1  2021  \n",
       "5791  Transition Laminate To Smartcard                       2  2021  \n",
       "\n",
       "[5792 rows x 6 columns]"
      ]
     },
     "execution_count": 27,
     "metadata": {},
     "output_type": "execute_result"
    }
   ],
   "source": [
    "smartcard"
   ]
  },
  {
   "cell_type": "markdown",
   "id": "8ab45f86",
   "metadata": {},
   "source": [
    "#### 2. Create a line plot showing the total number of annual smartcard replacements (number of transactions) against year"
   ]
  },
  {
   "cell_type": "code",
   "execution_count": 29,
   "id": "0812cea4",
   "metadata": {},
   "outputs": [],
   "source": [
    "import matplotlib.pyplot as plt\n",
    "%matplotlib inline"
   ]
  },
  {
   "cell_type": "code",
   "execution_count": 30,
   "id": "6d3a23d5",
   "metadata": {},
   "outputs": [],
   "source": [
    "#total number of annual smartcard replacements (number of transactions) vs. year\n",
    "df = smartcard.groupby('Year')['Number.of.transactions'].sum()"
   ]
  },
  {
   "cell_type": "code",
   "execution_count": 31,
   "id": "1f219491",
   "metadata": {},
   "outputs": [
    {
     "data": {
      "text/plain": [
       "Year\n",
       "2010       671\n",
       "2011     68418\n",
       "2012    150886\n",
       "2013    145192\n",
       "2014    144549\n",
       "2015    151109\n",
       "2016    159427\n",
       "2017    165726\n",
       "2018    169477\n",
       "2019    178395\n",
       "2020    171206\n",
       "2021    202671\n",
       "2022     48648\n",
       "Name: Number.of.transactions, dtype: int64"
      ]
     },
     "execution_count": 31,
     "metadata": {},
     "output_type": "execute_result"
    }
   ],
   "source": [
    "df "
   ]
  },
  {
   "cell_type": "code",
   "execution_count": 34,
   "id": "204e1900",
   "metadata": {},
   "outputs": [
    {
     "data": {
      "image/png": "[encoded data removed]",
      "text/plain": [
       "<Figure size 640x480 with 1 Axes>"
      ]
     },
     "metadata": {},
     "output_type": "display_data"
    }
   ],
   "source": [
    "plt.plot(df)\n",
    "plt.xlabel('Year')\n",
    "plt.title('Year vs. Annual Smartcard Replacements')\n",
    "plt.ylabel('Annual Smartcard Replacements')\n",
    "plt.show()"
   ]
  },
  {
   "cell_type": "markdown",
   "id": "3f53b9e9",
   "metadata": {},
   "source": [
    "#### 3. Explain the trend as observed from the chart. Are there any years that are different from others and if so, what is the reason behind it?"
   ]
  },
  {
   "cell_type": "markdown",
   "id": "6fa5051c",
   "metadata": {},
   "source": [
    "The trend observed from the chart shows that initial number of replacements were low in 2010 when it was perhaps still at the early stages since the release of the Smartcards. From then as more people began using smart cards the number of replacements increased drastically perhaps from a boom. Then finally perhaps from the introduction of smartcard embedded smartphones the amount of smartcards replacements decreased drastically in 2022.\n",
    "\n",
    "\n",
    "limitations of data\n",
    "outside explanations"
   ]
  },
  {
   "cell_type": "markdown",
   "id": "b7957871",
   "metadata": {},
   "source": [
    "### A4. Investigating Reasons for Smartcard Replacement"
   ]
  },
  {
   "cell_type": "markdown",
   "id": "8ec70c02",
   "metadata": {},
   "source": [
    "#### 1. Plot a barchart to display the total number of transactions for each' Action.Reason' using the available data."
   ]
  },
  {
   "cell_type": "code",
   "execution_count": 35,
   "id": "9ab90ef4",
   "metadata": {},
   "outputs": [
    {
     "data": {
      "text/html": [
       "<div>\n",
       "<style scoped>\n",
       "    .dataframe tbody tr th:only-of-type {\n",
       "        vertical-align: middle;\n",
       "    }\n",
       "\n",
       "    .dataframe tbody tr th {\n",
       "        vertical-align: top;\n",
       "    }\n",
       "\n",
       "    .dataframe thead th {\n",
       "        text-align: right;\n",
       "    }\n",
       "</style>\n",
       "<table border=\"1\" class=\"dataframe\">\n",
       "  <thead>\n",
       "    <tr style=\"text-align: right;\">\n",
       "      <th></th>\n",
       "      <th>Month</th>\n",
       "      <th>Transaction</th>\n",
       "      <th>Smartcard.Type</th>\n",
       "      <th>Action.Reason</th>\n",
       "      <th>Number.of.transactions</th>\n",
       "      <th>Year</th>\n",
       "    </tr>\n",
       "  </thead>\n",
       "  <tbody>\n",
       "    <tr>\n",
       "      <th>0</th>\n",
       "      <td>2019-03-01</td>\n",
       "      <td>Replace Smartcard</td>\n",
       "      <td>Photo Identification Card</td>\n",
       "      <td>Change Customer Details</td>\n",
       "      <td>156</td>\n",
       "      <td>2019</td>\n",
       "    </tr>\n",
       "    <tr>\n",
       "      <th>1</th>\n",
       "      <td>2019-03-01</td>\n",
       "      <td>Replace Smartcard</td>\n",
       "      <td>Driver Licence Card</td>\n",
       "      <td>Destroyed</td>\n",
       "      <td>110</td>\n",
       "      <td>2019</td>\n",
       "    </tr>\n",
       "    <tr>\n",
       "      <th>2</th>\n",
       "      <td>2019-03-01</td>\n",
       "      <td>Replace Smartcard</td>\n",
       "      <td>Industry Authority Card</td>\n",
       "      <td>Lost In Mail - Imu</td>\n",
       "      <td>48</td>\n",
       "      <td>2019</td>\n",
       "    </tr>\n",
       "    <tr>\n",
       "      <th>3</th>\n",
       "      <td>2019-03-01</td>\n",
       "      <td>Replace Smartcard</td>\n",
       "      <td>Marine Licence Ind Card</td>\n",
       "      <td>Managers Approval</td>\n",
       "      <td>8</td>\n",
       "      <td>2019</td>\n",
       "    </tr>\n",
       "    <tr>\n",
       "      <th>4</th>\n",
       "      <td>2019-03-01</td>\n",
       "      <td>Replace Smartcard</td>\n",
       "      <td>Marine Licence Ind Card</td>\n",
       "      <td>Lost In Mail - Imu</td>\n",
       "      <td>7</td>\n",
       "      <td>2019</td>\n",
       "    </tr>\n",
       "    <tr>\n",
       "      <th>...</th>\n",
       "      <td>...</td>\n",
       "      <td>...</td>\n",
       "      <td>...</td>\n",
       "      <td>...</td>\n",
       "      <td>...</td>\n",
       "      <td>...</td>\n",
       "    </tr>\n",
       "    <tr>\n",
       "      <th>5787</th>\n",
       "      <td>2020-11-01</td>\n",
       "      <td>Replace Smartcard</td>\n",
       "      <td>Photo Identification Card</td>\n",
       "      <td>Remove Gender From Smartcard</td>\n",
       "      <td>1</td>\n",
       "      <td>2020</td>\n",
       "    </tr>\n",
       "    <tr>\n",
       "      <th>5788</th>\n",
       "      <td>2020-12-01</td>\n",
       "      <td>Replace Smartcard</td>\n",
       "      <td>Marine Licence Ind Card</td>\n",
       "      <td>Stolen</td>\n",
       "      <td>1</td>\n",
       "      <td>2020</td>\n",
       "    </tr>\n",
       "    <tr>\n",
       "      <th>5789</th>\n",
       "      <td>2021-07-01</td>\n",
       "      <td>Replace Smartcard</td>\n",
       "      <td>Marine Licence Ind Card</td>\n",
       "      <td>Stolen</td>\n",
       "      <td>1</td>\n",
       "      <td>2021</td>\n",
       "    </tr>\n",
       "    <tr>\n",
       "      <th>5790</th>\n",
       "      <td>2021-07-01</td>\n",
       "      <td>Replace Smartcard</td>\n",
       "      <td>Photo Identification Card</td>\n",
       "      <td>Merged</td>\n",
       "      <td>1</td>\n",
       "      <td>2021</td>\n",
       "    </tr>\n",
       "    <tr>\n",
       "      <th>5791</th>\n",
       "      <td>2021-12-01</td>\n",
       "      <td>Replace Smartcard</td>\n",
       "      <td>Driver Licence Card</td>\n",
       "      <td>Transition Laminate To Smartcard</td>\n",
       "      <td>2</td>\n",
       "      <td>2021</td>\n",
       "    </tr>\n",
       "  </tbody>\n",
       "</table>\n",
       "<p>5792 rows × 6 columns</p>\n",
       "</div>"
      ],
      "text/plain": [
       "          Month        Transaction             Smartcard.Type  \\\n",
       "0    2019-03-01  Replace Smartcard  Photo Identification Card   \n",
       "1    2019-03-01  Replace Smartcard        Driver Licence Card   \n",
       "2    2019-03-01  Replace Smartcard    Industry Authority Card   \n",
       "3    2019-03-01  Replace Smartcard    Marine Licence Ind Card   \n",
       "4    2019-03-01  Replace Smartcard    Marine Licence Ind Card   \n",
       "...         ...                ...                        ...   \n",
       "5787 2020-11-01  Replace Smartcard  Photo Identification Card   \n",
       "5788 2020-12-01  Replace Smartcard    Marine Licence Ind Card   \n",
       "5789 2021-07-01  Replace Smartcard    Marine Licence Ind Card   \n",
       "5790 2021-07-01  Replace Smartcard  Photo Identification Card   \n",
       "5791 2021-12-01  Replace Smartcard        Driver Licence Card   \n",
       "\n",
       "                         Action.Reason  Number.of.transactions  Year  \n",
       "0              Change Customer Details                     156  2019  \n",
       "1                            Destroyed                     110  2019  \n",
       "2                   Lost In Mail - Imu                      48  2019  \n",
       "3                    Managers Approval                       8  2019  \n",
       "4                   Lost In Mail - Imu                       7  2019  \n",
       "...                                ...                     ...   ...  \n",
       "5787      Remove Gender From Smartcard                       1  2020  \n",
       "5788                            Stolen                       1  2020  \n",
       "5789                            Stolen                       1  2021  \n",
       "5790                            Merged                       1  2021  \n",
       "5791  Transition Laminate To Smartcard                       2  2021  \n",
       "\n",
       "[5792 rows x 6 columns]"
      ]
     },
     "execution_count": 35,
     "metadata": {},
     "output_type": "execute_result"
    }
   ],
   "source": [
    "smartcard"
   ]
  },
  {
   "cell_type": "code",
   "execution_count": 39,
   "id": "521a8972",
   "metadata": {},
   "outputs": [
    {
     "data": {
      "text/plain": [
       "Action.Reason\n",
       "Change Customer Details                    294435\n",
       "Condition Change                           344905\n",
       "Court Order Issued X3 Or X4 Condition       17295\n",
       "Da/dgd Smartcard Replacement Fee Exempt      8012\n",
       "Damaged                                     13027\n",
       "Defective                                     673\n",
       "Destroyed                                   14393\n",
       "Disaster Relief                               313\n",
       "Expired                                      2028\n",
       "Facial Image Is Not A True Likeness          4272\n",
       "Faulty                                      14876\n",
       "Lost                                       642749\n",
       "Lost In Mail - Imu                         172552\n",
       "Managers Approval                           52555\n",
       "Marine Licence Transition                    1822\n",
       "Merged                                        507\n",
       "Product Exists Othr Surrend Void Cancel      5628\n",
       "Remove Gender From Smartcard                   47\n",
       "Stolen                                     158356\n",
       "Transition Laminate To Smartcard             7930\n",
       "Name: Number.of.transactions, dtype: int64"
      ]
     },
     "execution_count": 39,
     "metadata": {},
     "output_type": "execute_result"
    }
   ],
   "source": [
    "df = smartcard.groupby('Action.Reason')['Number.of.transactions'].sum()\n",
    "df"
   ]
  },
  {
   "cell_type": "code",
   "execution_count": 46,
   "id": "e9dec501",
   "metadata": {},
   "outputs": [
    {
     "data": {
      "text/plain": [
       "<Axes: title={'center': 'Total Number of Transactions for each Action.Reason'}, xlabel='Action.Reason', ylabel='Number of Transactions'>"
      ]
     },
     "execution_count": 46,
     "metadata": {},
     "output_type": "execute_result"
    },
    {
     "data": {
      "image/png": "[encoded data removed]",
      "text/plain": [
       "<Figure size 640x480 with 1 Axes>"
      ]
     },
     "metadata": {},
     "output_type": "display_data"
    }
   ],
   "source": [
    "df.plot(kind='bar', title = 'Total Number of Transactions for each Action.Reason', ylabel='Number of Transactions', xlabel='Action.Reason')"
   ]
  },
  {
   "cell_type": "markdown",
   "id": "dc8bea34",
   "metadata": {},
   "source": [
    "#### 2. What are the top three reasons for smartcard replacement?"
   ]
  },
  {
   "cell_type": "markdown",
   "id": "f02cdaf3",
   "metadata": {},
   "source": [
    "Observing the above bar chart the top three reasons for smartcard replacements are Lost, Condition Change, and Change Customer Details."
   ]
  },
  {
   "cell_type": "markdown",
   "id": "6d6e5a8e",
   "metadata": {},
   "source": [
    "#### 3. Total number of transactions of which 'Action.Reason' is between 1000 and 2000?"
   ]
  },
  {
   "cell_type": "code",
   "execution_count": 59,
   "id": "c66b4641",
   "metadata": {},
   "outputs": [
    {
     "data": {
      "text/plain": [
       "Action.Reason\n",
       "Marine Licence Transition    1822\n",
       "Name: Number.of.transactions, dtype: int64"
      ]
     },
     "execution_count": 59,
     "metadata": {},
     "output_type": "execute_result"
    }
   ],
   "source": [
    "filt = df[(df >= 1000) & (2000 >= df)]\n",
    "filt"
   ]
  },
  {
   "cell_type": "code",
   "execution_count": 60,
   "id": "d35912e9",
   "metadata": {},
   "outputs": [
    {
     "data": {
      "text/plain": [
       "1"
      ]
     },
     "execution_count": 60,
     "metadata": {},
     "output_type": "execute_result"
    }
   ],
   "source": [
    "len(filt)"
   ]
  },
  {
   "cell_type": "markdown",
   "id": "2c2e94fb",
   "metadata": {},
   "source": [
    "The total number of transactions of which Action.Reason is between 1000 and 2000 is 1 and it is the Marine License Transition transaction."
   ]
  },
  {
   "cell_type": "code",
   "execution_count": 49,
   "id": "f5416f8b",
   "metadata": {},
   "outputs": [
    {
     "ename": "ValueError",
     "evalue": "The truth value of a Series is ambiguous. Use a.empty, a.bool(), a.item(), a.any() or a.all().",
     "output_type": "error",
     "traceback": [
      "\u001b[0;31m---------------------------------------------------------------------------\u001b[0m",
      "\u001b[0;31mValueError\u001b[0m                                Traceback (most recent call last)",
      "Cell \u001b[0;32mIn[49], line 1\u001b[0m\n\u001b[0;32m----> 1\u001b[0m \u001b[43mdf\u001b[49m\u001b[38;5;241;43m.\u001b[39;49m\u001b[43mloc\u001b[49m\u001b[43m[\u001b[49m\u001b[38;5;28;43;01mlambda\u001b[39;49;00m\u001b[43m \u001b[49m\u001b[43mx\u001b[49m\u001b[43m:\u001b[49m\u001b[43m \u001b[49m\u001b[43mx\u001b[49m\u001b[43m \u001b[49m\u001b[38;5;241;43m>\u001b[39;49m\u001b[38;5;241;43m=\u001b[39;49m\u001b[43m \u001b[49m\u001b[38;5;241;43m1000\u001b[39;49m\u001b[43m \u001b[49m\u001b[38;5;241;43m&\u001b[39;49m\u001b[43m \u001b[49m\u001b[38;5;241;43m2000\u001b[39;49m\u001b[43m \u001b[49m\u001b[38;5;241;43m>\u001b[39;49m\u001b[38;5;241;43m=\u001b[39;49m\u001b[43m \u001b[49m\u001b[43mx\u001b[49m\u001b[43m]\u001b[49m\n",
      "File \u001b[0;32m~/anaconda3/lib/python3.10/site-packages/pandas/core/indexing.py:1102\u001b[0m, in \u001b[0;36m_LocationIndexer.__getitem__\u001b[0;34m(self, key)\u001b[0m\n\u001b[1;32m   1098\u001b[0m \u001b[38;5;28;01melse\u001b[39;00m:\n\u001b[1;32m   1099\u001b[0m     \u001b[38;5;66;03m# we by definition only have the 0th axis\u001b[39;00m\n\u001b[1;32m   1100\u001b[0m     axis \u001b[38;5;241m=\u001b[39m \u001b[38;5;28mself\u001b[39m\u001b[38;5;241m.\u001b[39maxis \u001b[38;5;129;01mor\u001b[39;00m \u001b[38;5;241m0\u001b[39m\n\u001b[0;32m-> 1102\u001b[0m     maybe_callable \u001b[38;5;241m=\u001b[39m \u001b[43mcom\u001b[49m\u001b[38;5;241;43m.\u001b[39;49m\u001b[43mapply_if_callable\u001b[49m\u001b[43m(\u001b[49m\u001b[43mkey\u001b[49m\u001b[43m,\u001b[49m\u001b[43m \u001b[49m\u001b[38;5;28;43mself\u001b[39;49m\u001b[38;5;241;43m.\u001b[39;49m\u001b[43mobj\u001b[49m\u001b[43m)\u001b[49m\n\u001b[1;32m   1103\u001b[0m     \u001b[38;5;28;01mreturn\u001b[39;00m \u001b[38;5;28mself\u001b[39m\u001b[38;5;241m.\u001b[39m_getitem_axis(maybe_callable, axis\u001b[38;5;241m=\u001b[39maxis)\n",
      "File \u001b[0;32m~/anaconda3/lib/python3.10/site-packages/pandas/core/common.py:379\u001b[0m, in \u001b[0;36mapply_if_callable\u001b[0;34m(maybe_callable, obj, **kwargs)\u001b[0m\n\u001b[1;32m    368\u001b[0m \u001b[38;5;250m\u001b[39m\u001b[38;5;124;03m\"\"\"\u001b[39;00m\n\u001b[1;32m    369\u001b[0m \u001b[38;5;124;03mEvaluate possibly callable input using obj and kwargs if it is callable,\u001b[39;00m\n\u001b[1;32m    370\u001b[0m \u001b[38;5;124;03motherwise return as it is.\u001b[39;00m\n\u001b[0;32m   (...)\u001b[0m\n\u001b[1;32m    376\u001b[0m \u001b[38;5;124;03m**kwargs\u001b[39;00m\n\u001b[1;32m    377\u001b[0m \u001b[38;5;124;03m\"\"\"\u001b[39;00m\n\u001b[1;32m    378\u001b[0m \u001b[38;5;28;01mif\u001b[39;00m \u001b[38;5;28mcallable\u001b[39m(maybe_callable):\n\u001b[0;32m--> 379\u001b[0m     \u001b[38;5;28;01mreturn\u001b[39;00m \u001b[43mmaybe_callable\u001b[49m\u001b[43m(\u001b[49m\u001b[43mobj\u001b[49m\u001b[43m,\u001b[49m\u001b[43m \u001b[49m\u001b[38;5;241;43m*\u001b[39;49m\u001b[38;5;241;43m*\u001b[39;49m\u001b[43mkwargs\u001b[49m\u001b[43m)\u001b[49m\n\u001b[1;32m    381\u001b[0m \u001b[38;5;28;01mreturn\u001b[39;00m maybe_callable\n",
      "Cell \u001b[0;32mIn[49], line 1\u001b[0m, in \u001b[0;36m<lambda>\u001b[0;34m(x)\u001b[0m\n\u001b[0;32m----> 1\u001b[0m df\u001b[38;5;241m.\u001b[39mloc[\u001b[38;5;28;01mlambda\u001b[39;00m x: x \u001b[38;5;241m>\u001b[39m\u001b[38;5;241m=\u001b[39m \u001b[38;5;241m1000\u001b[39m \u001b[38;5;241m&\u001b[39m \u001b[38;5;241m2000\u001b[39m \u001b[38;5;241m>\u001b[39m\u001b[38;5;241m=\u001b[39m x]\n",
      "File \u001b[0;32m~/anaconda3/lib/python3.10/site-packages/pandas/core/generic.py:1466\u001b[0m, in \u001b[0;36mNDFrame.__nonzero__\u001b[0;34m(self)\u001b[0m\n\u001b[1;32m   1464\u001b[0m \u001b[38;5;129m@final\u001b[39m\n\u001b[1;32m   1465\u001b[0m \u001b[38;5;28;01mdef\u001b[39;00m \u001b[38;5;21m__nonzero__\u001b[39m(\u001b[38;5;28mself\u001b[39m) \u001b[38;5;241m-\u001b[39m\u001b[38;5;241m>\u001b[39m NoReturn:\n\u001b[0;32m-> 1466\u001b[0m     \u001b[38;5;28;01mraise\u001b[39;00m \u001b[38;5;167;01mValueError\u001b[39;00m(\n\u001b[1;32m   1467\u001b[0m         \u001b[38;5;124mf\u001b[39m\u001b[38;5;124m\"\u001b[39m\u001b[38;5;124mThe truth value of a \u001b[39m\u001b[38;5;132;01m{\u001b[39;00m\u001b[38;5;28mtype\u001b[39m(\u001b[38;5;28mself\u001b[39m)\u001b[38;5;241m.\u001b[39m\u001b[38;5;18m__name__\u001b[39m\u001b[38;5;132;01m}\u001b[39;00m\u001b[38;5;124m is ambiguous. \u001b[39m\u001b[38;5;124m\"\u001b[39m\n\u001b[1;32m   1468\u001b[0m         \u001b[38;5;124m\"\u001b[39m\u001b[38;5;124mUse a.empty, a.bool(), a.item(), a.any() or a.all().\u001b[39m\u001b[38;5;124m\"\u001b[39m\n\u001b[1;32m   1469\u001b[0m     )\n",
      "\u001b[0;31mValueError\u001b[0m: The truth value of a Series is ambiguous. Use a.empty, a.bool(), a.item(), a.any() or a.all()."
     ]
    }
   ],
   "source": [
    "df.loc[lambda x: x >= 1000 & 2000 >= x]"
   ]
  },
  {
   "cell_type": "code",
   "execution_count": 51,
   "id": "92c263f4",
   "metadata": {},
   "outputs": [
    {
     "ename": "TypeError",
     "evalue": "Series.rename() got an unexpected keyword argument 'columns'",
     "output_type": "error",
     "traceback": [
      "\u001b[0;31m---------------------------------------------------------------------------\u001b[0m",
      "\u001b[0;31mTypeError\u001b[0m                                 Traceback (most recent call last)",
      "Cell \u001b[0;32mIn[51], line 2\u001b[0m\n\u001b[1;32m      1\u001b[0m d \u001b[38;5;241m=\u001b[39m {\u001b[38;5;124m'\u001b[39m\u001b[38;5;124mAction.Reason\u001b[39m\u001b[38;5;124m'\u001b[39m:\u001b[38;5;124m'\u001b[39m\u001b[38;5;124mTotal.Transactions\u001b[39m\u001b[38;5;124m'\u001b[39m}\n\u001b[0;32m----> 2\u001b[0m df2 \u001b[38;5;241m=\u001b[39m \u001b[43mdf\u001b[49m\u001b[38;5;241;43m.\u001b[39;49m\u001b[43mrename\u001b[49m\u001b[43m(\u001b[49m\u001b[43mcolumns\u001b[49m\u001b[38;5;241;43m=\u001b[39;49m\u001b[43md\u001b[49m\u001b[43m)\u001b[49m\n\u001b[1;32m      3\u001b[0m df2\n",
      "\u001b[0;31mTypeError\u001b[0m: Series.rename() got an unexpected keyword argument 'columns'"
     ]
    }
   ],
   "source": [
    "d = {'Action.Reason':'Total.Transactions'}\n",
    "df2 = df.rename(columns =d)\n",
    "df2"
   ]
  },
  {
   "cell_type": "code",
   "execution_count": 54,
   "id": "aca1e791",
   "metadata": {},
   "outputs": [
    {
     "data": {
      "text/plain": [
       "Action.Reason\n",
       "Change Customer Details                    294435\n",
       "Condition Change                           344905\n",
       "Court Order Issued X3 Or X4 Condition       17295\n",
       "Da/dgd Smartcard Replacement Fee Exempt      8012\n",
       "Damaged                                     13027\n",
       "Defective                                     673\n",
       "Destroyed                                   14393\n",
       "Disaster Relief                               313\n",
       "Expired                                      2028\n",
       "Facial Image Is Not A True Likeness          4272\n",
       "Faulty                                      14876\n",
       "Lost                                       642749\n",
       "Lost In Mail - Imu                         172552\n",
       "Managers Approval                           52555\n",
       "Marine Licence Transition                    1822\n",
       "Merged                                        507\n",
       "Product Exists Othr Surrend Void Cancel      5628\n",
       "Remove Gender From Smartcard                   47\n",
       "Stolen                                     158356\n",
       "Transition Laminate To Smartcard             7930\n",
       "Name: Number.of.transactions, dtype: int64"
      ]
     },
     "execution_count": 54,
     "metadata": {},
     "output_type": "execute_result"
    }
   ],
   "source": [
    "df.reset_index()\n",
    "df"
   ]
  },
  {
   "cell_type": "code",
   "execution_count": 56,
   "id": "e76f1bb6",
   "metadata": {},
   "outputs": [
    {
     "ename": "AttributeError",
     "evalue": "'Series' object has no attribute 'columns'",
     "output_type": "error",
     "traceback": [
      "\u001b[0;31m---------------------------------------------------------------------------\u001b[0m",
      "\u001b[0;31mAttributeError\u001b[0m                            Traceback (most recent call last)",
      "Cell \u001b[0;32mIn[56], line 1\u001b[0m\n\u001b[0;32m----> 1\u001b[0m df\u001b[38;5;241m.\u001b[39mrename(columns \u001b[38;5;241m=\u001b[39m {\u001b[43mdf\u001b[49m\u001b[38;5;241;43m.\u001b[39;49m\u001b[43mcolumns\u001b[49m[\u001b[38;5;241m1\u001b[39m], \u001b[38;5;124m'\u001b[39m\u001b[38;5;124mTotal.Transactions\u001b[39m\u001b[38;5;124m'\u001b[39m}, inplace \u001b[38;5;241m=\u001b[39m \u001b[38;5;28;01mTrue\u001b[39;00m)\n",
      "File \u001b[0;32m~/anaconda3/lib/python3.10/site-packages/pandas/core/generic.py:5989\u001b[0m, in \u001b[0;36mNDFrame.__getattr__\u001b[0;34m(self, name)\u001b[0m\n\u001b[1;32m   5982\u001b[0m \u001b[38;5;28;01mif\u001b[39;00m (\n\u001b[1;32m   5983\u001b[0m     name \u001b[38;5;129;01mnot\u001b[39;00m \u001b[38;5;129;01min\u001b[39;00m \u001b[38;5;28mself\u001b[39m\u001b[38;5;241m.\u001b[39m_internal_names_set\n\u001b[1;32m   5984\u001b[0m     \u001b[38;5;129;01mand\u001b[39;00m name \u001b[38;5;129;01mnot\u001b[39;00m \u001b[38;5;129;01min\u001b[39;00m \u001b[38;5;28mself\u001b[39m\u001b[38;5;241m.\u001b[39m_metadata\n\u001b[1;32m   5985\u001b[0m     \u001b[38;5;129;01mand\u001b[39;00m name \u001b[38;5;129;01mnot\u001b[39;00m \u001b[38;5;129;01min\u001b[39;00m \u001b[38;5;28mself\u001b[39m\u001b[38;5;241m.\u001b[39m_accessors\n\u001b[1;32m   5986\u001b[0m     \u001b[38;5;129;01mand\u001b[39;00m \u001b[38;5;28mself\u001b[39m\u001b[38;5;241m.\u001b[39m_info_axis\u001b[38;5;241m.\u001b[39m_can_hold_identifiers_and_holds_name(name)\n\u001b[1;32m   5987\u001b[0m ):\n\u001b[1;32m   5988\u001b[0m     \u001b[38;5;28;01mreturn\u001b[39;00m \u001b[38;5;28mself\u001b[39m[name]\n\u001b[0;32m-> 5989\u001b[0m \u001b[38;5;28;01mreturn\u001b[39;00m \u001b[38;5;28;43mobject\u001b[39;49m\u001b[38;5;241;43m.\u001b[39;49m\u001b[38;5;21;43m__getattribute__\u001b[39;49m\u001b[43m(\u001b[49m\u001b[38;5;28;43mself\u001b[39;49m\u001b[43m,\u001b[49m\u001b[43m \u001b[49m\u001b[43mname\u001b[49m\u001b[43m)\u001b[49m\n",
      "\u001b[0;31mAttributeError\u001b[0m: 'Series' object has no attribute 'columns'"
     ]
    }
   ],
   "source": [
    "df.rename(columns = {df.columns[1], 'Total.Transactions'}, inplace = True)"
   ]
  },
  {
   "cell_type": "code",
   "execution_count": 53,
   "id": "d58f7d7d",
   "metadata": {},
   "outputs": [
    {
     "ename": "TypeError",
     "evalue": "Series.name must be a hashable type",
     "output_type": "error",
     "traceback": [
      "\u001b[0;31m---------------------------------------------------------------------------\u001b[0m",
      "\u001b[0;31mTypeError\u001b[0m                                 Traceback (most recent call last)",
      "Cell \u001b[0;32mIn[53], line 1\u001b[0m\n\u001b[0;32m----> 1\u001b[0m df2 \u001b[38;5;241m=\u001b[39m \u001b[43mpd\u001b[49m\u001b[38;5;241;43m.\u001b[39;49m\u001b[43mSeries\u001b[49m\u001b[43m(\u001b[49m\u001b[43mdf\u001b[49m\u001b[43m,\u001b[49m\u001b[43m \u001b[49m\u001b[43mname\u001b[49m\u001b[43m \u001b[49m\u001b[38;5;241;43m=\u001b[39;49m\u001b[43m \u001b[49m\u001b[43m{\u001b[49m\u001b[38;5;124;43m'\u001b[39;49m\u001b[38;5;124;43mAction.Reason\u001b[39;49m\u001b[38;5;124;43m'\u001b[39;49m\u001b[43m:\u001b[49m\u001b[38;5;124;43m'\u001b[39;49m\u001b[38;5;124;43mTotal.Transactions\u001b[39;49m\u001b[38;5;124;43m'\u001b[39;49m\u001b[43m}\u001b[49m\u001b[43m)\u001b[49m\n",
      "File \u001b[0;32m~/anaconda3/lib/python3.10/site-packages/pandas/core/series.py:422\u001b[0m, in \u001b[0;36mSeries.__init__\u001b[0;34m(self, data, index, dtype, name, copy, fastpath)\u001b[0m\n\u001b[1;32m    419\u001b[0m \u001b[38;5;28;01mif\u001b[39;00m \u001b[38;5;28misinstance\u001b[39m(data, SingleBlockManager) \u001b[38;5;129;01mand\u001b[39;00m using_copy_on_write() \u001b[38;5;129;01mand\u001b[39;00m \u001b[38;5;129;01mnot\u001b[39;00m copy:\n\u001b[1;32m    420\u001b[0m     data \u001b[38;5;241m=\u001b[39m data\u001b[38;5;241m.\u001b[39mcopy(deep\u001b[38;5;241m=\u001b[39m\u001b[38;5;28;01mFalse\u001b[39;00m)\n\u001b[0;32m--> 422\u001b[0m name \u001b[38;5;241m=\u001b[39m \u001b[43mibase\u001b[49m\u001b[38;5;241;43m.\u001b[39;49m\u001b[43mmaybe_extract_name\u001b[49m\u001b[43m(\u001b[49m\u001b[43mname\u001b[49m\u001b[43m,\u001b[49m\u001b[43m \u001b[49m\u001b[43mdata\u001b[49m\u001b[43m,\u001b[49m\u001b[43m \u001b[49m\u001b[38;5;28;43mtype\u001b[39;49m\u001b[43m(\u001b[49m\u001b[38;5;28;43mself\u001b[39;49m\u001b[43m)\u001b[49m\u001b[43m)\u001b[49m\n\u001b[1;32m    424\u001b[0m \u001b[38;5;28;01mif\u001b[39;00m index \u001b[38;5;129;01mis\u001b[39;00m \u001b[38;5;129;01mnot\u001b[39;00m \u001b[38;5;28;01mNone\u001b[39;00m:\n\u001b[1;32m    425\u001b[0m     index \u001b[38;5;241m=\u001b[39m ensure_index(index)\n",
      "File \u001b[0;32m~/anaconda3/lib/python3.10/site-packages/pandas/core/indexes/base.py:7178\u001b[0m, in \u001b[0;36mmaybe_extract_name\u001b[0;34m(name, obj, cls)\u001b[0m\n\u001b[1;32m   7176\u001b[0m \u001b[38;5;66;03m# GH#29069\u001b[39;00m\n\u001b[1;32m   7177\u001b[0m \u001b[38;5;28;01mif\u001b[39;00m \u001b[38;5;129;01mnot\u001b[39;00m is_hashable(name):\n\u001b[0;32m-> 7178\u001b[0m     \u001b[38;5;28;01mraise\u001b[39;00m \u001b[38;5;167;01mTypeError\u001b[39;00m(\u001b[38;5;124mf\u001b[39m\u001b[38;5;124m\"\u001b[39m\u001b[38;5;132;01m{\u001b[39;00m\u001b[38;5;28mcls\u001b[39m\u001b[38;5;241m.\u001b[39m\u001b[38;5;18m__name__\u001b[39m\u001b[38;5;132;01m}\u001b[39;00m\u001b[38;5;124m.name must be a hashable type\u001b[39m\u001b[38;5;124m\"\u001b[39m)\n\u001b[1;32m   7180\u001b[0m \u001b[38;5;28;01mreturn\u001b[39;00m name\n",
      "\u001b[0;31mTypeError\u001b[0m: Series.name must be a hashable type"
     ]
    }
   ],
   "source": [
    "df2 = pd.Series(df, name = )"
   ]
  },
  {
   "cell_type": "code",
   "execution_count": 48,
   "id": "7378321d",
   "metadata": {},
   "outputs": [
    {
     "ename": "AttributeError",
     "evalue": "'Series' object has no attribute 'columns'",
     "output_type": "error",
     "traceback": [
      "\u001b[0;31m---------------------------------------------------------------------------\u001b[0m",
      "\u001b[0;31mAttributeError\u001b[0m                            Traceback (most recent call last)",
      "Cell \u001b[0;32mIn[48], line 1\u001b[0m\n\u001b[0;32m----> 1\u001b[0m \u001b[38;5;28mlist\u001b[39m(\u001b[43mdf\u001b[49m\u001b[38;5;241;43m.\u001b[39;49m\u001b[43mcolumns\u001b[49m)\n",
      "File \u001b[0;32m~/anaconda3/lib/python3.10/site-packages/pandas/core/generic.py:5989\u001b[0m, in \u001b[0;36mNDFrame.__getattr__\u001b[0;34m(self, name)\u001b[0m\n\u001b[1;32m   5982\u001b[0m \u001b[38;5;28;01mif\u001b[39;00m (\n\u001b[1;32m   5983\u001b[0m     name \u001b[38;5;129;01mnot\u001b[39;00m \u001b[38;5;129;01min\u001b[39;00m \u001b[38;5;28mself\u001b[39m\u001b[38;5;241m.\u001b[39m_internal_names_set\n\u001b[1;32m   5984\u001b[0m     \u001b[38;5;129;01mand\u001b[39;00m name \u001b[38;5;129;01mnot\u001b[39;00m \u001b[38;5;129;01min\u001b[39;00m \u001b[38;5;28mself\u001b[39m\u001b[38;5;241m.\u001b[39m_metadata\n\u001b[1;32m   5985\u001b[0m     \u001b[38;5;129;01mand\u001b[39;00m name \u001b[38;5;129;01mnot\u001b[39;00m \u001b[38;5;129;01min\u001b[39;00m \u001b[38;5;28mself\u001b[39m\u001b[38;5;241m.\u001b[39m_accessors\n\u001b[1;32m   5986\u001b[0m     \u001b[38;5;129;01mand\u001b[39;00m \u001b[38;5;28mself\u001b[39m\u001b[38;5;241m.\u001b[39m_info_axis\u001b[38;5;241m.\u001b[39m_can_hold_identifiers_and_holds_name(name)\n\u001b[1;32m   5987\u001b[0m ):\n\u001b[1;32m   5988\u001b[0m     \u001b[38;5;28;01mreturn\u001b[39;00m \u001b[38;5;28mself\u001b[39m[name]\n\u001b[0;32m-> 5989\u001b[0m \u001b[38;5;28;01mreturn\u001b[39;00m \u001b[38;5;28;43mobject\u001b[39;49m\u001b[38;5;241;43m.\u001b[39;49m\u001b[38;5;21;43m__getattribute__\u001b[39;49m\u001b[43m(\u001b[49m\u001b[38;5;28;43mself\u001b[39;49m\u001b[43m,\u001b[49m\u001b[43m \u001b[49m\u001b[43mname\u001b[49m\u001b[43m)\u001b[49m\n",
      "\u001b[0;31mAttributeError\u001b[0m: 'Series' object has no attribute 'columns'"
     ]
    }
   ],
   "source": [
    "list(df.columns)"
   ]
  },
  {
   "cell_type": "code",
   "execution_count": null,
   "id": "b8ae8ced",
   "metadata": {},
   "outputs": [],
   "source": [
    "len(smartcard[(smartcard['Action.Reason'] == 'Faulty') & (smartcard['Number.of.transactions'] >= 100)])"
   ]
  },
  {
   "cell_type": "code",
   "execution_count": 57,
   "id": "2e3c1e94",
   "metadata": {},
   "outputs": [
    {
     "ename": "AttributeError",
     "evalue": "'DataFrame' object has no attribute 'Number'",
     "output_type": "error",
     "traceback": [
      "\u001b[0;31m---------------------------------------------------------------------------\u001b[0m",
      "\u001b[0;31mAttributeError\u001b[0m                            Traceback (most recent call last)",
      "Cell \u001b[0;32mIn[57], line 1\u001b[0m\n\u001b[0;32m----> 1\u001b[0m df \u001b[38;5;241m=\u001b[39m \u001b[43msmartcard\u001b[49m\u001b[38;5;241;43m.\u001b[39;49m\u001b[43mgroupby\u001b[49m\u001b[43m(\u001b[49m\u001b[38;5;124;43m'\u001b[39;49m\u001b[38;5;124;43mAction.Reason\u001b[39;49m\u001b[38;5;124;43m'\u001b[39;49m\u001b[43m)\u001b[49m\u001b[38;5;241;43m.\u001b[39;49m\u001b[43mfilter\u001b[49m\u001b[43m(\u001b[49m\u001b[38;5;28;43;01mlambda\u001b[39;49;00m\u001b[43m \u001b[49m\u001b[43ms\u001b[49m\u001b[43m:\u001b[49m\u001b[43m \u001b[49m\u001b[43ms\u001b[49m\u001b[38;5;241;43m.\u001b[39;49m\u001b[43mNumber\u001b[49m\u001b[38;5;241;43m.\u001b[39;49m\u001b[43mof\u001b[49m\u001b[38;5;241;43m.\u001b[39;49m\u001b[43mtransactions\u001b[49m\u001b[38;5;241;43m.\u001b[39;49m\u001b[43msum\u001b[49m\u001b[43m(\u001b[49m\u001b[43m)\u001b[49m\u001b[38;5;241;43m>\u001b[39;49m\u001b[38;5;241;43m=\u001b[39;49m\u001b[38;5;241;43m1000\u001b[39;49m\u001b[43m \u001b[49m\u001b[38;5;241;43m&\u001b[39;49m\u001b[43m \u001b[49m\u001b[38;5;241;43m2000\u001b[39;49m\u001b[43m \u001b[49m\u001b[38;5;241;43m>\u001b[39;49m\u001b[38;5;241;43m=\u001b[39;49m\u001b[43m \u001b[49m\u001b[43ms\u001b[49m\u001b[38;5;241;43m.\u001b[39;49m\u001b[43mNumber\u001b[49m\u001b[38;5;241;43m.\u001b[39;49m\u001b[43mof\u001b[49m\u001b[38;5;241;43m.\u001b[39;49m\u001b[43mtransactions\u001b[49m\u001b[38;5;241;43m.\u001b[39;49m\u001b[43msum\u001b[49m\u001b[43m(\u001b[49m\u001b[43m)\u001b[49m\u001b[43m)\u001b[49m\n\u001b[1;32m      3\u001b[0m [\u001b[38;5;124m'\u001b[39m\u001b[38;5;124mNumber.of.transactions\u001b[39m\u001b[38;5;124m'\u001b[39m]\u001b[38;5;241m.\u001b[39msum()\n",
      "File \u001b[0;32m~/anaconda3/lib/python3.10/site-packages/pandas/core/groupby/generic.py:1739\u001b[0m, in \u001b[0;36mDataFrameGroupBy.filter\u001b[0;34m(self, func, dropna, *args, **kwargs)\u001b[0m\n\u001b[1;32m   1736\u001b[0m \u001b[38;5;28;01mfor\u001b[39;00m name, group \u001b[38;5;129;01min\u001b[39;00m gen:\n\u001b[1;32m   1737\u001b[0m     \u001b[38;5;28mobject\u001b[39m\u001b[38;5;241m.\u001b[39m\u001b[38;5;21m__setattr__\u001b[39m(group, \u001b[38;5;124m\"\u001b[39m\u001b[38;5;124mname\u001b[39m\u001b[38;5;124m\"\u001b[39m, name)\n\u001b[0;32m-> 1739\u001b[0m     res \u001b[38;5;241m=\u001b[39m \u001b[43mfunc\u001b[49m\u001b[43m(\u001b[49m\u001b[43mgroup\u001b[49m\u001b[43m,\u001b[49m\u001b[43m \u001b[49m\u001b[38;5;241;43m*\u001b[39;49m\u001b[43margs\u001b[49m\u001b[43m,\u001b[49m\u001b[43m \u001b[49m\u001b[38;5;241;43m*\u001b[39;49m\u001b[38;5;241;43m*\u001b[39;49m\u001b[43mkwargs\u001b[49m\u001b[43m)\u001b[49m\n\u001b[1;32m   1741\u001b[0m     \u001b[38;5;28;01mtry\u001b[39;00m:\n\u001b[1;32m   1742\u001b[0m         res \u001b[38;5;241m=\u001b[39m res\u001b[38;5;241m.\u001b[39msqueeze()\n",
      "Cell \u001b[0;32mIn[57], line 1\u001b[0m, in \u001b[0;36m<lambda>\u001b[0;34m(s)\u001b[0m\n\u001b[0;32m----> 1\u001b[0m df \u001b[38;5;241m=\u001b[39m smartcard\u001b[38;5;241m.\u001b[39mgroupby(\u001b[38;5;124m'\u001b[39m\u001b[38;5;124mAction.Reason\u001b[39m\u001b[38;5;124m'\u001b[39m)\u001b[38;5;241m.\u001b[39mfilter(\u001b[38;5;28;01mlambda\u001b[39;00m s: \u001b[43ms\u001b[49m\u001b[38;5;241;43m.\u001b[39;49m\u001b[43mNumber\u001b[49m\u001b[38;5;241m.\u001b[39mof\u001b[38;5;241m.\u001b[39mtransactions\u001b[38;5;241m.\u001b[39msum()\u001b[38;5;241m>\u001b[39m\u001b[38;5;241m=\u001b[39m\u001b[38;5;241m1000\u001b[39m \u001b[38;5;241m&\u001b[39m \u001b[38;5;241m2000\u001b[39m \u001b[38;5;241m>\u001b[39m\u001b[38;5;241m=\u001b[39m s\u001b[38;5;241m.\u001b[39mNumber\u001b[38;5;241m.\u001b[39mof\u001b[38;5;241m.\u001b[39mtransactions\u001b[38;5;241m.\u001b[39msum())\n\u001b[1;32m      3\u001b[0m [\u001b[38;5;124m'\u001b[39m\u001b[38;5;124mNumber.of.transactions\u001b[39m\u001b[38;5;124m'\u001b[39m]\u001b[38;5;241m.\u001b[39msum()\n",
      "File \u001b[0;32m~/anaconda3/lib/python3.10/site-packages/pandas/core/generic.py:5989\u001b[0m, in \u001b[0;36mNDFrame.__getattr__\u001b[0;34m(self, name)\u001b[0m\n\u001b[1;32m   5982\u001b[0m \u001b[38;5;28;01mif\u001b[39;00m (\n\u001b[1;32m   5983\u001b[0m     name \u001b[38;5;129;01mnot\u001b[39;00m \u001b[38;5;129;01min\u001b[39;00m \u001b[38;5;28mself\u001b[39m\u001b[38;5;241m.\u001b[39m_internal_names_set\n\u001b[1;32m   5984\u001b[0m     \u001b[38;5;129;01mand\u001b[39;00m name \u001b[38;5;129;01mnot\u001b[39;00m \u001b[38;5;129;01min\u001b[39;00m \u001b[38;5;28mself\u001b[39m\u001b[38;5;241m.\u001b[39m_metadata\n\u001b[1;32m   5985\u001b[0m     \u001b[38;5;129;01mand\u001b[39;00m name \u001b[38;5;129;01mnot\u001b[39;00m \u001b[38;5;129;01min\u001b[39;00m \u001b[38;5;28mself\u001b[39m\u001b[38;5;241m.\u001b[39m_accessors\n\u001b[1;32m   5986\u001b[0m     \u001b[38;5;129;01mand\u001b[39;00m \u001b[38;5;28mself\u001b[39m\u001b[38;5;241m.\u001b[39m_info_axis\u001b[38;5;241m.\u001b[39m_can_hold_identifiers_and_holds_name(name)\n\u001b[1;32m   5987\u001b[0m ):\n\u001b[1;32m   5988\u001b[0m     \u001b[38;5;28;01mreturn\u001b[39;00m \u001b[38;5;28mself\u001b[39m[name]\n\u001b[0;32m-> 5989\u001b[0m \u001b[38;5;28;01mreturn\u001b[39;00m \u001b[38;5;28;43mobject\u001b[39;49m\u001b[38;5;241;43m.\u001b[39;49m\u001b[38;5;21;43m__getattribute__\u001b[39;49m\u001b[43m(\u001b[49m\u001b[38;5;28;43mself\u001b[39;49m\u001b[43m,\u001b[49m\u001b[43m \u001b[49m\u001b[43mname\u001b[49m\u001b[43m)\u001b[49m\n",
      "\u001b[0;31mAttributeError\u001b[0m: 'DataFrame' object has no attribute 'Number'"
     ]
    }
   ],
   "source": [
    "df = smartcard.groupby('Action.Reason').filter(lambda s: s.Number.of.transactions.sum()>=1000 & 2000 >= s.Number.of.transactions.sum())\n",
    "\n",
    "['Number.of.transactions'].sum()\n"
   ]
  },
  {
   "cell_type": "markdown",
   "id": "24f1dc41",
   "metadata": {},
   "source": [
    "### A5. Investigating Reasons over Annual Smartcard Replacement"
   ]
  },
  {
   "cell_type": "markdown",
   "id": "ce978c3b",
   "metadata": {},
   "source": [
    "#### 1. Find out the annual number of transactions for each 'Action.Reason' across different years for which data is available\n"
   ]
  },
  {
   "cell_type": "code",
   "execution_count": 61,
   "id": "4ff8aa9e",
   "metadata": {},
   "outputs": [
    {
     "data": {
      "text/html": [
       "<div>\n",
       "<style scoped>\n",
       "    .dataframe tbody tr th:only-of-type {\n",
       "        vertical-align: middle;\n",
       "    }\n",
       "\n",
       "    .dataframe tbody tr th {\n",
       "        vertical-align: top;\n",
       "    }\n",
       "\n",
       "    .dataframe thead th {\n",
       "        text-align: right;\n",
       "    }\n",
       "</style>\n",
       "<table border=\"1\" class=\"dataframe\">\n",
       "  <thead>\n",
       "    <tr style=\"text-align: right;\">\n",
       "      <th></th>\n",
       "      <th>Month</th>\n",
       "      <th>Transaction</th>\n",
       "      <th>Smartcard.Type</th>\n",
       "      <th>Action.Reason</th>\n",
       "      <th>Number.of.transactions</th>\n",
       "      <th>Year</th>\n",
       "    </tr>\n",
       "  </thead>\n",
       "  <tbody>\n",
       "    <tr>\n",
       "      <th>0</th>\n",
       "      <td>2019-03-01</td>\n",
       "      <td>Replace Smartcard</td>\n",
       "      <td>Photo Identification Card</td>\n",
       "      <td>Change Customer Details</td>\n",
       "      <td>156</td>\n",
       "      <td>2019</td>\n",
       "    </tr>\n",
       "    <tr>\n",
       "      <th>1</th>\n",
       "      <td>2019-03-01</td>\n",
       "      <td>Replace Smartcard</td>\n",
       "      <td>Driver Licence Card</td>\n",
       "      <td>Destroyed</td>\n",
       "      <td>110</td>\n",
       "      <td>2019</td>\n",
       "    </tr>\n",
       "    <tr>\n",
       "      <th>2</th>\n",
       "      <td>2019-03-01</td>\n",
       "      <td>Replace Smartcard</td>\n",
       "      <td>Industry Authority Card</td>\n",
       "      <td>Lost In Mail - Imu</td>\n",
       "      <td>48</td>\n",
       "      <td>2019</td>\n",
       "    </tr>\n",
       "    <tr>\n",
       "      <th>3</th>\n",
       "      <td>2019-03-01</td>\n",
       "      <td>Replace Smartcard</td>\n",
       "      <td>Marine Licence Ind Card</td>\n",
       "      <td>Managers Approval</td>\n",
       "      <td>8</td>\n",
       "      <td>2019</td>\n",
       "    </tr>\n",
       "    <tr>\n",
       "      <th>4</th>\n",
       "      <td>2019-03-01</td>\n",
       "      <td>Replace Smartcard</td>\n",
       "      <td>Marine Licence Ind Card</td>\n",
       "      <td>Lost In Mail - Imu</td>\n",
       "      <td>7</td>\n",
       "      <td>2019</td>\n",
       "    </tr>\n",
       "    <tr>\n",
       "      <th>...</th>\n",
       "      <td>...</td>\n",
       "      <td>...</td>\n",
       "      <td>...</td>\n",
       "      <td>...</td>\n",
       "      <td>...</td>\n",
       "      <td>...</td>\n",
       "    </tr>\n",
       "    <tr>\n",
       "      <th>5787</th>\n",
       "      <td>2020-11-01</td>\n",
       "      <td>Replace Smartcard</td>\n",
       "      <td>Photo Identification Card</td>\n",
       "      <td>Remove Gender From Smartcard</td>\n",
       "      <td>1</td>\n",
       "      <td>2020</td>\n",
       "    </tr>\n",
       "    <tr>\n",
       "      <th>5788</th>\n",
       "      <td>2020-12-01</td>\n",
       "      <td>Replace Smartcard</td>\n",
       "      <td>Marine Licence Ind Card</td>\n",
       "      <td>Stolen</td>\n",
       "      <td>1</td>\n",
       "      <td>2020</td>\n",
       "    </tr>\n",
       "    <tr>\n",
       "      <th>5789</th>\n",
       "      <td>2021-07-01</td>\n",
       "      <td>Replace Smartcard</td>\n",
       "      <td>Marine Licence Ind Card</td>\n",
       "      <td>Stolen</td>\n",
       "      <td>1</td>\n",
       "      <td>2021</td>\n",
       "    </tr>\n",
       "    <tr>\n",
       "      <th>5790</th>\n",
       "      <td>2021-07-01</td>\n",
       "      <td>Replace Smartcard</td>\n",
       "      <td>Photo Identification Card</td>\n",
       "      <td>Merged</td>\n",
       "      <td>1</td>\n",
       "      <td>2021</td>\n",
       "    </tr>\n",
       "    <tr>\n",
       "      <th>5791</th>\n",
       "      <td>2021-12-01</td>\n",
       "      <td>Replace Smartcard</td>\n",
       "      <td>Driver Licence Card</td>\n",
       "      <td>Transition Laminate To Smartcard</td>\n",
       "      <td>2</td>\n",
       "      <td>2021</td>\n",
       "    </tr>\n",
       "  </tbody>\n",
       "</table>\n",
       "<p>5792 rows × 6 columns</p>\n",
       "</div>"
      ],
      "text/plain": [
       "          Month        Transaction             Smartcard.Type  \\\n",
       "0    2019-03-01  Replace Smartcard  Photo Identification Card   \n",
       "1    2019-03-01  Replace Smartcard        Driver Licence Card   \n",
       "2    2019-03-01  Replace Smartcard    Industry Authority Card   \n",
       "3    2019-03-01  Replace Smartcard    Marine Licence Ind Card   \n",
       "4    2019-03-01  Replace Smartcard    Marine Licence Ind Card   \n",
       "...         ...                ...                        ...   \n",
       "5787 2020-11-01  Replace Smartcard  Photo Identification Card   \n",
       "5788 2020-12-01  Replace Smartcard    Marine Licence Ind Card   \n",
       "5789 2021-07-01  Replace Smartcard    Marine Licence Ind Card   \n",
       "5790 2021-07-01  Replace Smartcard  Photo Identification Card   \n",
       "5791 2021-12-01  Replace Smartcard        Driver Licence Card   \n",
       "\n",
       "                         Action.Reason  Number.of.transactions  Year  \n",
       "0              Change Customer Details                     156  2019  \n",
       "1                            Destroyed                     110  2019  \n",
       "2                   Lost In Mail - Imu                      48  2019  \n",
       "3                    Managers Approval                       8  2019  \n",
       "4                   Lost In Mail - Imu                       7  2019  \n",
       "...                                ...                     ...   ...  \n",
       "5787      Remove Gender From Smartcard                       1  2020  \n",
       "5788                            Stolen                       1  2020  \n",
       "5789                            Stolen                       1  2021  \n",
       "5790                            Merged                       1  2021  \n",
       "5791  Transition Laminate To Smartcard                       2  2021  \n",
       "\n",
       "[5792 rows x 6 columns]"
      ]
     },
     "execution_count": 61,
     "metadata": {},
     "output_type": "execute_result"
    }
   ],
   "source": [
    "smartcard"
   ]
  },
  {
   "cell_type": "code",
   "execution_count": 63,
   "id": "65b3a465",
   "metadata": {},
   "outputs": [
    {
     "data": {
      "text/plain": [
       "Action.Reason                     Year\n",
       "Change Customer Details           2010       84\n",
       "                                  2011    12265\n",
       "                                  2012    28446\n",
       "                                  2013    28603\n",
       "                                  2014    28188\n",
       "                                          ...  \n",
       "Transition Laminate To Smartcard  2018      410\n",
       "                                  2019      453\n",
       "                                  2020      576\n",
       "                                  2021      738\n",
       "                                  2022      156\n",
       "Name: Number.of.transactions, Length: 236, dtype: int64"
      ]
     },
     "execution_count": 63,
     "metadata": {},
     "output_type": "execute_result"
    }
   ],
   "source": [
    "df = smartcard.groupby(['Action.Reason', 'Year'])['Number.of.transactions'].sum()\n",
    "df"
   ]
  },
  {
   "cell_type": "code",
   "execution_count": 72,
   "id": "1e915d1c",
   "metadata": {},
   "outputs": [
    {
     "data": {
      "image/png": "[encoded data removed]",
      "text/plain": [
       "<Figure size 640x480 with 1 Axes>"
      ]
     },
     "metadata": {},
     "output_type": "display_data"
    }
   ],
   "source": [
    "df = df.unstack()\n",
    "df.plot(kind='line', marker='o')\n",
    "\n",
    "plt.xlabel('Year')\n",
    "plt.ylabel('Sum of Values')\n",
    "plt.title('Sum of Values by Group and Year')\n",
    "\n",
    "plt.show()"
   ]
  },
  {
   "cell_type": "markdown",
   "id": "1bd7403f",
   "metadata": {},
   "source": [
    "#### 2. For each action reason determine the number of years during which the number of annual transactions exceeds 10000."
   ]
  },
  {
   "cell_type": "code",
   "execution_count": 73,
   "id": "32bec927",
   "metadata": {},
   "outputs": [
    {
     "data": {
      "text/plain": [
       "Action.Reason                     Year\n",
       "Change Customer Details           2010       84.0\n",
       "                                  2011    12265.0\n",
       "                                  2012    28446.0\n",
       "                                  2013    28603.0\n",
       "                                  2014    28188.0\n",
       "                                           ...   \n",
       "Transition Laminate To Smartcard  2018      410.0\n",
       "                                  2019      453.0\n",
       "                                  2020      576.0\n",
       "                                  2021      738.0\n",
       "                                  2022      156.0\n",
       "Length: 260, dtype: float64"
      ]
     },
     "execution_count": 73,
     "metadata": {},
     "output_type": "execute_result"
    }
   ],
   "source": [
    "df2 = df.unstack()\n",
    "df2"
   ]
  },
  {
   "cell_type": "code",
   "execution_count": 74,
   "id": "a4a1804b",
   "metadata": {},
   "outputs": [
    {
     "data": {
      "text/plain": [
       "Action.Reason            Year\n",
       "Change Customer Details  2011    12265.0\n",
       "                         2012    28446.0\n",
       "                         2013    28603.0\n",
       "                         2014    28188.0\n",
       "                         2015    28267.0\n",
       "                         2016    27730.0\n",
       "                         2017    26837.0\n",
       "                         2018    27083.0\n",
       "                         2019    26856.0\n",
       "                         2020    24934.0\n",
       "                         2021    28593.0\n",
       "Condition Change         2012    18136.0\n",
       "                         2013    21262.0\n",
       "                         2014    23426.0\n",
       "                         2015    27316.0\n",
       "                         2016    33056.0\n",
       "                         2017    40274.0\n",
       "                         2018    41440.0\n",
       "                         2019    42143.0\n",
       "                         2020    38585.0\n",
       "                         2021    41637.0\n",
       "                         2022    10183.0\n",
       "Lost                     2011    26325.0\n",
       "                         2012    57727.0\n",
       "                         2013    52220.0\n",
       "                         2014    49599.0\n",
       "                         2015    52237.0\n",
       "                         2016    55953.0\n",
       "                         2017    56800.0\n",
       "                         2018    60463.0\n",
       "                         2019    65467.0\n",
       "                         2020    66765.0\n",
       "                         2021    79211.0\n",
       "                         2022    19858.0\n",
       "Lost In Mail - Imu       2014    14173.0\n",
       "                         2015    16777.0\n",
       "                         2016    17784.0\n",
       "                         2017    18667.0\n",
       "                         2018    18317.0\n",
       "                         2019    19784.0\n",
       "                         2020    18639.0\n",
       "                         2021    27262.0\n",
       "Stolen                   2012    17132.0\n",
       "                         2013    15384.0\n",
       "                         2014    13966.0\n",
       "                         2015    13561.0\n",
       "                         2016    14218.0\n",
       "                         2017    14200.0\n",
       "                         2018    14079.0\n",
       "                         2019    15150.0\n",
       "                         2020    13243.0\n",
       "                         2021    15144.0\n",
       "dtype: float64"
      ]
     },
     "execution_count": 74,
     "metadata": {},
     "output_type": "execute_result"
    }
   ],
   "source": [
    "df3 = df2[df2 > 10000]\n",
    "df3"
   ]
  },
  {
   "cell_type": "code",
   "execution_count": 75,
   "id": "2ea3bf3d",
   "metadata": {},
   "outputs": [
    {
     "data": {
      "text/plain": [
       "52"
      ]
     },
     "execution_count": 75,
     "metadata": {},
     "output_type": "execute_result"
    }
   ],
   "source": [
    "len(df3)"
   ]
  },
  {
   "cell_type": "code",
   "execution_count": 87,
   "id": "74abfffc",
   "metadata": {},
   "outputs": [
    {
     "data": {
      "text/plain": [
       "52"
      ]
     },
     "execution_count": 87,
     "metadata": {},
     "output_type": "execute_result"
    }
   ],
   "source": [
    "df3 = (df2 > 10000).sum()\n",
    "df3"
   ]
  },
  {
   "cell_type": "code",
   "execution_count": 89,
   "id": "a3ef3399",
   "metadata": {},
   "outputs": [
    {
     "data": {
      "text/plain": [
       "Action.Reason                     Year\n",
       "Change Customer Details           2010    False\n",
       "                                  2011     True\n",
       "                                  2012     True\n",
       "                                  2013     True\n",
       "                                  2014     True\n",
       "                                          ...  \n",
       "Transition Laminate To Smartcard  2018    False\n",
       "                                  2019    False\n",
       "                                  2020    False\n",
       "                                  2021    False\n",
       "                                  2022    False\n",
       "Length: 260, dtype: bool"
      ]
     },
     "execution_count": 89,
     "metadata": {},
     "output_type": "execute_result"
    }
   ],
   "source": [
    "(df2 > 10000)"
   ]
  },
  {
   "cell_type": "code",
   "execution_count": 91,
   "id": "f03b10f6",
   "metadata": {},
   "outputs": [
    {
     "data": {
      "text/plain": [
       "Action.Reason\n",
       "Change Customer Details                    11\n",
       "Condition Change                           11\n",
       "Court Order Issued X3 Or X4 Condition       0\n",
       "Da/dgd Smartcard Replacement Fee Exempt     0\n",
       "Damaged                                     0\n",
       "Defective                                   0\n",
       "Destroyed                                   0\n",
       "Disaster Relief                             0\n",
       "Expired                                     0\n",
       "Facial Image Is Not A True Likeness         0\n",
       "Faulty                                      0\n",
       "Lost                                       12\n",
       "Lost In Mail - Imu                          8\n",
       "Managers Approval                           0\n",
       "Marine Licence Transition                   0\n",
       "Merged                                      0\n",
       "Product Exists Othr Surrend Void Cancel     0\n",
       "Remove Gender From Smartcard                0\n",
       "Stolen                                     10\n",
       "Transition Laminate To Smartcard            0\n",
       "dtype: int64"
      ]
     },
     "execution_count": 91,
     "metadata": {},
     "output_type": "execute_result"
    }
   ],
   "source": [
    "df4 = (df2 > 10000).groupby('Action.Reason').sum()\n",
    "df4"
   ]
  },
  {
   "cell_type": "code",
   "execution_count": 83,
   "id": "abd1747c",
   "metadata": {},
   "outputs": [
    {
     "data": {
      "text/plain": [
       "Action.Reason\n",
       "Change Customer Details    287802.0\n",
       "Condition Change           337458.0\n",
       "Lost                       642625.0\n",
       "Lost In Mail - Imu         151403.0\n",
       "Stolen                     146077.0\n",
       "dtype: float64"
      ]
     },
     "execution_count": 83,
     "metadata": {},
     "output_type": "execute_result"
    }
   ],
   "source": [
    "df3 = df2[df2 > 10000]\n",
    "df4 = df3.groupby('Action.Reason').sum()\n",
    "df4"
   ]
  },
  {
   "cell_type": "code",
   "execution_count": 84,
   "id": "8a0b0544",
   "metadata": {},
   "outputs": [
    {
     "data": {
      "text/plain": [
       "Action.Reason            Year\n",
       "Change Customer Details  2011    12265.0\n",
       "                         2012    28446.0\n",
       "                         2013    28603.0\n",
       "                         2014    28188.0\n",
       "                         2015    28267.0\n",
       "                         2016    27730.0\n",
       "                         2017    26837.0\n",
       "                         2018    27083.0\n",
       "                         2019    26856.0\n",
       "                         2020    24934.0\n",
       "                         2021    28593.0\n",
       "Condition Change         2012    18136.0\n",
       "                         2013    21262.0\n",
       "                         2014    23426.0\n",
       "                         2015    27316.0\n",
       "                         2016    33056.0\n",
       "                         2017    40274.0\n",
       "                         2018    41440.0\n",
       "                         2019    42143.0\n",
       "                         2020    38585.0\n",
       "                         2021    41637.0\n",
       "                         2022    10183.0\n",
       "Lost                     2011    26325.0\n",
       "                         2012    57727.0\n",
       "                         2013    52220.0\n",
       "                         2014    49599.0\n",
       "                         2015    52237.0\n",
       "                         2016    55953.0\n",
       "                         2017    56800.0\n",
       "                         2018    60463.0\n",
       "                         2019    65467.0\n",
       "                         2020    66765.0\n",
       "                         2021    79211.0\n",
       "                         2022    19858.0\n",
       "Lost In Mail - Imu       2014    14173.0\n",
       "                         2015    16777.0\n",
       "                         2016    17784.0\n",
       "                         2017    18667.0\n",
       "                         2018    18317.0\n",
       "                         2019    19784.0\n",
       "                         2020    18639.0\n",
       "                         2021    27262.0\n",
       "Stolen                   2012    17132.0\n",
       "                         2013    15384.0\n",
       "                         2014    13966.0\n",
       "                         2015    13561.0\n",
       "                         2016    14218.0\n",
       "                         2017    14200.0\n",
       "                         2018    14079.0\n",
       "                         2019    15150.0\n",
       "                         2020    13243.0\n",
       "                         2021    15144.0\n",
       "dtype: float64"
      ]
     },
     "execution_count": 84,
     "metadata": {},
     "output_type": "execute_result"
    }
   ],
   "source": [
    "df3"
   ]
  },
  {
   "cell_type": "markdown",
   "id": "f6f38f11",
   "metadata": {},
   "source": [
    "#### 3. Which action reasons have at least one year where the number of annual transactions exceeds 10000?"
   ]
  },
  {
   "cell_type": "code",
   "execution_count": 93,
   "id": "aa2fcff3",
   "metadata": {},
   "outputs": [
    {
     "ename": "TypeError",
     "evalue": "'Series' object is not callable",
     "output_type": "error",
     "traceback": [
      "\u001b[0;31m---------------------------------------------------------------------------\u001b[0m",
      "\u001b[0;31mTypeError\u001b[0m                                 Traceback (most recent call last)",
      "Cell \u001b[0;32mIn[93], line 1\u001b[0m\n\u001b[0;32m----> 1\u001b[0m \u001b[43mdf4\u001b[49m\u001b[43m(\u001b[49m\u001b[43mdf2\u001b[49m\u001b[43m \u001b[49m\u001b[38;5;241;43m>\u001b[39;49m\u001b[43m \u001b[49m\u001b[38;5;241;43m10000\u001b[39;49m\u001b[43m)\u001b[49m\u001b[38;5;241m.\u001b[39mgroupby(\u001b[38;5;124m'\u001b[39m\u001b[38;5;124mAction.Reason\u001b[39m\u001b[38;5;124m'\u001b[39m)\u001b[38;5;241m.\u001b[39msum()\n",
      "\u001b[0;31mTypeError\u001b[0m: 'Series' object is not callable"
     ]
    }
   ],
   "source": [
    "df4(df2 > 10000).groupby('Action.Reason').sum()"
   ]
  },
  {
   "cell_type": "code",
   "execution_count": 99,
   "id": "3db4b18b",
   "metadata": {},
   "outputs": [
    {
     "data": {
      "text/plain": [
       "Action.Reason\n",
       "Change Customer Details                     True\n",
       "Condition Change                            True\n",
       "Court Order Issued X3 Or X4 Condition      False\n",
       "Da/dgd Smartcard Replacement Fee Exempt    False\n",
       "Damaged                                    False\n",
       "Defective                                  False\n",
       "Destroyed                                  False\n",
       "Disaster Relief                            False\n",
       "Expired                                    False\n",
       "Facial Image Is Not A True Likeness        False\n",
       "Faulty                                     False\n",
       "Lost                                        True\n",
       "Lost In Mail - Imu                          True\n",
       "Managers Approval                          False\n",
       "Marine Licence Transition                  False\n",
       "Merged                                     False\n",
       "Product Exists Othr Surrend Void Cancel    False\n",
       "Remove Gender From Smartcard               False\n",
       "Stolen                                      True\n",
       "Transition Laminate To Smartcard           False\n",
       "dtype: bool"
      ]
     },
     "execution_count": 99,
     "metadata": {},
     "output_type": "execute_result"
    }
   ],
   "source": [
    "df5 = (df4 > 1)\n",
    "df5"
   ]
  },
  {
   "cell_type": "code",
   "execution_count": 100,
   "id": "cdbddfab",
   "metadata": {},
   "outputs": [],
   "source": [
    "df6 = df5[df5].index.tolist()"
   ]
  },
  {
   "cell_type": "code",
   "execution_count": 101,
   "id": "30190f42",
   "metadata": {},
   "outputs": [
    {
     "data": {
      "text/plain": [
       "['Change Customer Details',\n",
       " 'Condition Change',\n",
       " 'Lost',\n",
       " 'Lost In Mail - Imu',\n",
       " 'Stolen']"
      ]
     },
     "execution_count": 101,
     "metadata": {},
     "output_type": "execute_result"
    }
   ],
   "source": [
    "df6"
   ]
  },
  {
   "cell_type": "markdown",
   "id": "9be6ea6e",
   "metadata": {},
   "source": [
    "#### 4. Create a histogram to analyse the distribution of the annual number of transactions per action reason as calculated in A5.1. Explain any observations and provide comments on the distribution."
   ]
  },
  {
   "cell_type": "code",
   "execution_count": 105,
   "id": "25673c95",
   "metadata": {},
   "outputs": [
    {
     "data": {
      "text/plain": [
       "Action.Reason                     Year\n",
       "Change Customer Details           2010       84\n",
       "                                  2011    12265\n",
       "                                  2012    28446\n",
       "                                  2013    28603\n",
       "                                  2014    28188\n",
       "                                          ...  \n",
       "Transition Laminate To Smartcard  2018      410\n",
       "                                  2019      453\n",
       "                                  2020      576\n",
       "                                  2021      738\n",
       "                                  2022      156\n",
       "Name: Number.of.transactions, Length: 236, dtype: int64"
      ]
     },
     "execution_count": 105,
     "metadata": {},
     "output_type": "execute_result"
    }
   ],
   "source": [
    "df = smartcard.groupby(['Action.Reason', 'Year'])['Number.of.transactions'].sum()\n",
    "df"
   ]
  },
  {
   "cell_type": "markdown",
   "id": "15083a1d",
   "metadata": {},
   "source": [
    "you can do multiple for each reason or color it on one for each reason x:Year"
   ]
  },
  {
   "cell_type": "code",
   "execution_count": 106,
   "id": "5136fcf4",
   "metadata": {},
   "outputs": [
    {
     "data": {
      "image/png": "[encoded data removed]",
      "text/plain": [
       "<Figure size 640x480 with 16 Axes>"
      ]
     },
     "metadata": {},
     "output_type": "display_data"
    }
   ],
   "source": [
    "df2 = df.unstack()\n",
    "df2.hist(bins=10)\n",
    "\n",
    "plt.xlabel('Year')\n",
    "plt.ylabel('Sum of Values')\n",
    "plt.title('Sum of Values by Group and Year')\n",
    "\n",
    "plt.show()"
   ]
  },
  {
   "cell_type": "code",
   "execution_count": 108,
   "id": "a493bf49",
   "metadata": {},
   "outputs": [
    {
     "data": {
      "image/png": "[encoded data removed]",
      "text/plain": [
       "<Figure size 640x480 with 1 Axes>"
      ]
     },
     "metadata": {},
     "output_type": "display_data"
    }
   ],
   "source": [
    "df.hist(bins=10)\n",
    "\n",
    "plt.show()"
   ]
  },
  {
   "cell_type": "code",
   "execution_count": null,
   "id": "d6883f7e",
   "metadata": {},
   "outputs": [],
   "source": []
  }
 ],
 "metadata": {
  "kernelspec": {
   "display_name": "Python 3 (ipykernel)",
   "language": "python",
   "name": "python3"
  },
  "language_info": {
   "codemirror_mode": {
    "name": "ipython",
    "version": 3
   },
   "file_extension": ".py",
   "mimetype": "text/x-python",
   "name": "python",
   "nbconvert_exporter": "python",
   "pygments_lexer": "ipython3",
   "version": "3.10.9"
  }
 },
 "nbformat": 4,
 "nbformat_minor": 5
}
